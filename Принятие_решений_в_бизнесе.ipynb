{
 "cells": [
  {
   "cell_type": "markdown",
   "metadata": {},
   "source": [
    "# Проверка гипотез и проведение А/В теста"
   ]
  },
  {
   "cell_type": "markdown",
   "metadata": {},
   "source": [
    "**Цель:** Проверка гипотез для увеличения выручки. Необходимо приоритизировать гипотезы, запустить A/B-тест и проанализировать результаты."
   ]
  },
  {
   "cell_type": "markdown",
   "metadata": {},
   "source": [
    "**План работ:**\n",
    "- Изучить данные\n",
    "- Провести предобработку данных\n",
    "- Провести приоритизацию гипотез (применить фреймворк ICE, примените фреймворк RICE)\n",
    "- Проанализировать А/В-тест"
   ]
  },
  {
   "cell_type": "markdown",
   "metadata": {},
   "source": [
    "## Шаг. Изучить данные"
   ]
  },
  {
   "cell_type": "code",
   "execution_count": 1,
   "metadata": {},
   "outputs": [],
   "source": [
    "# импортируем все необходимые библиотеки\n",
    "import pandas as pd\n",
    "import datetime as dt\n",
    "import seaborn as sns\n",
    "import numpy as np\n",
    "import matplotlib.pylab as plt\n",
    "from scipy import stats as st\n",
    "from IPython.display import display"
   ]
  },
  {
   "cell_type": "code",
   "execution_count": 2,
   "metadata": {},
   "outputs": [],
   "source": [
    "# загрузим данные\n",
    "try:\n",
    "    hypothesis, orders, visitors = (\n",
    "        pd.read_csv('hypothesis.csv'),\n",
    "        pd.read_csv('orders.csv'),\n",
    "        pd.read_csv('visitors.csv')\n",
    ")\n",
    "except:\n",
    "    'FileNotFoundError'"
   ]
  },
  {
   "cell_type": "code",
   "execution_count": 3,
   "metadata": {},
   "outputs": [
    {
     "data": {
      "text/html": [
       "<div>\n",
       "<style scoped>\n",
       "    .dataframe tbody tr th:only-of-type {\n",
       "        vertical-align: middle;\n",
       "    }\n",
       "\n",
       "    .dataframe tbody tr th {\n",
       "        vertical-align: top;\n",
       "    }\n",
       "\n",
       "    .dataframe thead th {\n",
       "        text-align: right;\n",
       "    }\n",
       "</style>\n",
       "<table border=\"1\" class=\"dataframe\">\n",
       "  <thead>\n",
       "    <tr style=\"text-align: right;\">\n",
       "      <th></th>\n",
       "      <th>Hypothesis</th>\n",
       "      <th>Reach</th>\n",
       "      <th>Impact</th>\n",
       "      <th>Confidence</th>\n",
       "      <th>Efforts</th>\n",
       "    </tr>\n",
       "  </thead>\n",
       "  <tbody>\n",
       "    <tr>\n",
       "      <th>0</th>\n",
       "      <td>Добавить два новых канала привлечения трафика,...</td>\n",
       "      <td>3</td>\n",
       "      <td>10</td>\n",
       "      <td>8</td>\n",
       "      <td>6</td>\n",
       "    </tr>\n",
       "    <tr>\n",
       "      <th>1</th>\n",
       "      <td>Запустить собственную службу доставки, что сок...</td>\n",
       "      <td>2</td>\n",
       "      <td>5</td>\n",
       "      <td>4</td>\n",
       "      <td>10</td>\n",
       "    </tr>\n",
       "    <tr>\n",
       "      <th>2</th>\n",
       "      <td>Добавить блоки рекомендаций товаров на сайт ин...</td>\n",
       "      <td>8</td>\n",
       "      <td>3</td>\n",
       "      <td>7</td>\n",
       "      <td>3</td>\n",
       "    </tr>\n",
       "    <tr>\n",
       "      <th>3</th>\n",
       "      <td>Изменить структура категорий, что увеличит кон...</td>\n",
       "      <td>8</td>\n",
       "      <td>3</td>\n",
       "      <td>3</td>\n",
       "      <td>8</td>\n",
       "    </tr>\n",
       "    <tr>\n",
       "      <th>4</th>\n",
       "      <td>Изменить цвет фона главной страницы, чтобы уве...</td>\n",
       "      <td>3</td>\n",
       "      <td>1</td>\n",
       "      <td>1</td>\n",
       "      <td>1</td>\n",
       "    </tr>\n",
       "    <tr>\n",
       "      <th>5</th>\n",
       "      <td>Добавить страницу отзывов клиентов о магазине,...</td>\n",
       "      <td>3</td>\n",
       "      <td>2</td>\n",
       "      <td>2</td>\n",
       "      <td>3</td>\n",
       "    </tr>\n",
       "    <tr>\n",
       "      <th>6</th>\n",
       "      <td>Показать на главной странице баннеры с актуаль...</td>\n",
       "      <td>5</td>\n",
       "      <td>3</td>\n",
       "      <td>8</td>\n",
       "      <td>3</td>\n",
       "    </tr>\n",
       "    <tr>\n",
       "      <th>7</th>\n",
       "      <td>Добавить форму подписки на все основные страни...</td>\n",
       "      <td>10</td>\n",
       "      <td>7</td>\n",
       "      <td>8</td>\n",
       "      <td>5</td>\n",
       "    </tr>\n",
       "    <tr>\n",
       "      <th>8</th>\n",
       "      <td>Запустить акцию, дающую скидку на товар в день...</td>\n",
       "      <td>1</td>\n",
       "      <td>9</td>\n",
       "      <td>9</td>\n",
       "      <td>5</td>\n",
       "    </tr>\n",
       "  </tbody>\n",
       "</table>\n",
       "</div>"
      ],
      "text/plain": [
       "                                          Hypothesis  Reach  Impact  \\\n",
       "0  Добавить два новых канала привлечения трафика,...      3      10   \n",
       "1  Запустить собственную службу доставки, что сок...      2       5   \n",
       "2  Добавить блоки рекомендаций товаров на сайт ин...      8       3   \n",
       "3  Изменить структура категорий, что увеличит кон...      8       3   \n",
       "4  Изменить цвет фона главной страницы, чтобы уве...      3       1   \n",
       "5  Добавить страницу отзывов клиентов о магазине,...      3       2   \n",
       "6  Показать на главной странице баннеры с актуаль...      5       3   \n",
       "7  Добавить форму подписки на все основные страни...     10       7   \n",
       "8  Запустить акцию, дающую скидку на товар в день...      1       9   \n",
       "\n",
       "   Confidence  Efforts  \n",
       "0           8        6  \n",
       "1           4       10  \n",
       "2           7        3  \n",
       "3           3        8  \n",
       "4           1        1  \n",
       "5           2        3  \n",
       "6           8        3  \n",
       "7           8        5  \n",
       "8           9        5  "
      ]
     },
     "metadata": {},
     "output_type": "display_data"
    },
    {
     "name": "stdout",
     "output_type": "stream",
     "text": [
      "<class 'pandas.core.frame.DataFrame'>\n",
      "RangeIndex: 9 entries, 0 to 8\n",
      "Data columns (total 5 columns):\n",
      " #   Column      Non-Null Count  Dtype \n",
      "---  ------      --------------  ----- \n",
      " 0   Hypothesis  9 non-null      object\n",
      " 1   Reach       9 non-null      int64 \n",
      " 2   Impact      9 non-null      int64 \n",
      " 3   Confidence  9 non-null      int64 \n",
      " 4   Efforts     9 non-null      int64 \n",
      "dtypes: int64(4), object(1)\n",
      "memory usage: 488.0+ bytes\n"
     ]
    },
    {
     "data": {
      "text/plain": [
       "None"
      ]
     },
     "metadata": {},
     "output_type": "display_data"
    },
    {
     "data": {
      "text/plain": [
       "Hypothesis    0\n",
       "Reach         0\n",
       "Impact        0\n",
       "Confidence    0\n",
       "Efforts       0\n",
       "dtype: int64"
      ]
     },
     "execution_count": 3,
     "metadata": {},
     "output_type": "execute_result"
    }
   ],
   "source": [
    "# выведем основную информацию и количество пропущенных значений датафрейма hypothesis\n",
    "display(hypothesis)\n",
    "display(hypothesis.info())\n",
    "hypothesis.isna().sum()"
   ]
  },
  {
   "cell_type": "markdown",
   "metadata": {},
   "source": [
    "Посмотрев данные и основную информацию о них, можно сделать вывод, что таблица *hypothesis* содержит 9 гипотез и оценки по 4-м показателям. Пропущенных значений нет, необходимо привести названия столбцов к нижнему регистру."
   ]
  },
  {
   "cell_type": "code",
   "execution_count": 4,
   "metadata": {},
   "outputs": [
    {
     "data": {
      "text/html": [
       "<div>\n",
       "<style scoped>\n",
       "    .dataframe tbody tr th:only-of-type {\n",
       "        vertical-align: middle;\n",
       "    }\n",
       "\n",
       "    .dataframe tbody tr th {\n",
       "        vertical-align: top;\n",
       "    }\n",
       "\n",
       "    .dataframe thead th {\n",
       "        text-align: right;\n",
       "    }\n",
       "</style>\n",
       "<table border=\"1\" class=\"dataframe\">\n",
       "  <thead>\n",
       "    <tr style=\"text-align: right;\">\n",
       "      <th></th>\n",
       "      <th>transactionId</th>\n",
       "      <th>visitorId</th>\n",
       "      <th>date</th>\n",
       "      <th>revenue</th>\n",
       "      <th>group</th>\n",
       "    </tr>\n",
       "  </thead>\n",
       "  <tbody>\n",
       "    <tr>\n",
       "      <th>0</th>\n",
       "      <td>3667963787</td>\n",
       "      <td>3312258926</td>\n",
       "      <td>2019-08-15</td>\n",
       "      <td>1650</td>\n",
       "      <td>B</td>\n",
       "    </tr>\n",
       "    <tr>\n",
       "      <th>1</th>\n",
       "      <td>2804400009</td>\n",
       "      <td>3642806036</td>\n",
       "      <td>2019-08-15</td>\n",
       "      <td>730</td>\n",
       "      <td>B</td>\n",
       "    </tr>\n",
       "    <tr>\n",
       "      <th>2</th>\n",
       "      <td>2961555356</td>\n",
       "      <td>4069496402</td>\n",
       "      <td>2019-08-15</td>\n",
       "      <td>400</td>\n",
       "      <td>A</td>\n",
       "    </tr>\n",
       "    <tr>\n",
       "      <th>3</th>\n",
       "      <td>3797467345</td>\n",
       "      <td>1196621759</td>\n",
       "      <td>2019-08-15</td>\n",
       "      <td>9759</td>\n",
       "      <td>B</td>\n",
       "    </tr>\n",
       "    <tr>\n",
       "      <th>4</th>\n",
       "      <td>2282983706</td>\n",
       "      <td>2322279887</td>\n",
       "      <td>2019-08-15</td>\n",
       "      <td>2308</td>\n",
       "      <td>B</td>\n",
       "    </tr>\n",
       "  </tbody>\n",
       "</table>\n",
       "</div>"
      ],
      "text/plain": [
       "   transactionId   visitorId        date  revenue group\n",
       "0     3667963787  3312258926  2019-08-15     1650     B\n",
       "1     2804400009  3642806036  2019-08-15      730     B\n",
       "2     2961555356  4069496402  2019-08-15      400     A\n",
       "3     3797467345  1196621759  2019-08-15     9759     B\n",
       "4     2282983706  2322279887  2019-08-15     2308     B"
      ]
     },
     "metadata": {},
     "output_type": "display_data"
    },
    {
     "name": "stdout",
     "output_type": "stream",
     "text": [
      "<class 'pandas.core.frame.DataFrame'>\n",
      "RangeIndex: 1197 entries, 0 to 1196\n",
      "Data columns (total 5 columns):\n",
      " #   Column         Non-Null Count  Dtype \n",
      "---  ------         --------------  ----- \n",
      " 0   transactionId  1197 non-null   int64 \n",
      " 1   visitorId      1197 non-null   int64 \n",
      " 2   date           1197 non-null   object\n",
      " 3   revenue        1197 non-null   int64 \n",
      " 4   group          1197 non-null   object\n",
      "dtypes: int64(3), object(2)\n",
      "memory usage: 46.9+ KB\n"
     ]
    },
    {
     "data": {
      "text/plain": [
       "None"
      ]
     },
     "metadata": {},
     "output_type": "display_data"
    },
    {
     "data": {
      "text/plain": [
       "transactionId    0\n",
       "visitorId        0\n",
       "date             0\n",
       "revenue          0\n",
       "group            0\n",
       "dtype: int64"
      ]
     },
     "execution_count": 4,
     "metadata": {},
     "output_type": "execute_result"
    }
   ],
   "source": [
    "# выведем основную информацию и количество пропущенных значений датафрейма orders\n",
    "display(orders.head())\n",
    "display(orders.info())\n",
    "orders.isna().sum()"
   ]
  },
  {
   "cell_type": "markdown",
   "metadata": {},
   "source": [
    "В таблице *orders* также нет пропущенных значений, необходимо преобразовать в нужный тип столбец, который содержит данные с датой."
   ]
  },
  {
   "cell_type": "code",
   "execution_count": 5,
   "metadata": {},
   "outputs": [
    {
     "data": {
      "text/html": [
       "<div>\n",
       "<style scoped>\n",
       "    .dataframe tbody tr th:only-of-type {\n",
       "        vertical-align: middle;\n",
       "    }\n",
       "\n",
       "    .dataframe tbody tr th {\n",
       "        vertical-align: top;\n",
       "    }\n",
       "\n",
       "    .dataframe thead th {\n",
       "        text-align: right;\n",
       "    }\n",
       "</style>\n",
       "<table border=\"1\" class=\"dataframe\">\n",
       "  <thead>\n",
       "    <tr style=\"text-align: right;\">\n",
       "      <th></th>\n",
       "      <th>date</th>\n",
       "      <th>group</th>\n",
       "      <th>visitors</th>\n",
       "    </tr>\n",
       "  </thead>\n",
       "  <tbody>\n",
       "    <tr>\n",
       "      <th>0</th>\n",
       "      <td>2019-08-01</td>\n",
       "      <td>A</td>\n",
       "      <td>719</td>\n",
       "    </tr>\n",
       "    <tr>\n",
       "      <th>1</th>\n",
       "      <td>2019-08-02</td>\n",
       "      <td>A</td>\n",
       "      <td>619</td>\n",
       "    </tr>\n",
       "    <tr>\n",
       "      <th>2</th>\n",
       "      <td>2019-08-03</td>\n",
       "      <td>A</td>\n",
       "      <td>507</td>\n",
       "    </tr>\n",
       "    <tr>\n",
       "      <th>3</th>\n",
       "      <td>2019-08-04</td>\n",
       "      <td>A</td>\n",
       "      <td>717</td>\n",
       "    </tr>\n",
       "    <tr>\n",
       "      <th>4</th>\n",
       "      <td>2019-08-05</td>\n",
       "      <td>A</td>\n",
       "      <td>756</td>\n",
       "    </tr>\n",
       "  </tbody>\n",
       "</table>\n",
       "</div>"
      ],
      "text/plain": [
       "         date group  visitors\n",
       "0  2019-08-01     A       719\n",
       "1  2019-08-02     A       619\n",
       "2  2019-08-03     A       507\n",
       "3  2019-08-04     A       717\n",
       "4  2019-08-05     A       756"
      ]
     },
     "metadata": {},
     "output_type": "display_data"
    },
    {
     "name": "stdout",
     "output_type": "stream",
     "text": [
      "<class 'pandas.core.frame.DataFrame'>\n",
      "RangeIndex: 62 entries, 0 to 61\n",
      "Data columns (total 3 columns):\n",
      " #   Column    Non-Null Count  Dtype \n",
      "---  ------    --------------  ----- \n",
      " 0   date      62 non-null     object\n",
      " 1   group     62 non-null     object\n",
      " 2   visitors  62 non-null     int64 \n",
      "dtypes: int64(1), object(2)\n",
      "memory usage: 1.6+ KB\n"
     ]
    },
    {
     "data": {
      "text/plain": [
       "None"
      ]
     },
     "metadata": {},
     "output_type": "display_data"
    },
    {
     "data": {
      "text/plain": [
       "date        0\n",
       "group       0\n",
       "visitors    0\n",
       "dtype: int64"
      ]
     },
     "execution_count": 5,
     "metadata": {},
     "output_type": "execute_result"
    }
   ],
   "source": [
    "# выведем основную информацию и количество пропущенных значений датафрейма visitors\n",
    "display(visitors.head())\n",
    "display(visitors.info())\n",
    "visitors.isna().sum()"
   ]
  },
  {
   "cell_type": "markdown",
   "metadata": {},
   "source": [
    "Аналогичная картина с таблицей *visitors*: нет пропущенных значений, необходимо преобразовать в нужный тип столбец, который содержит данные с датой."
   ]
  },
  {
   "cell_type": "markdown",
   "metadata": {},
   "source": [
    "**Вывод:** Изучили информацию о данных в таблицах. Для дальнейшей работы с данными необходимо:\n",
    "- привести названия столбцов к нижнему регистру в таблице *hypothesis*\n",
    "- преобразовать в нужный тип столбцы, которые содержат данные с датой, в таблицах *orders* и *visitors*\n",
    "- проверить данные на дубликаты"
   ]
  },
  {
   "cell_type": "markdown",
   "metadata": {},
   "source": [
    "## Шаг. Предобрботка данных"
   ]
  },
  {
   "cell_type": "code",
   "execution_count": 6,
   "metadata": {},
   "outputs": [
    {
     "data": {
      "text/plain": [
       "Index(['hypothesis', 'reach', 'impact', 'confidence', 'efforts'], dtype='object')"
      ]
     },
     "execution_count": 6,
     "metadata": {},
     "output_type": "execute_result"
    }
   ],
   "source": [
    "# преобразуем названия столбцов таблицы hypothesis к нижнему регистру\n",
    "hypothesis.columns = hypothesis.columns.str.lower()\n",
    "hypothesis.columns"
   ]
  },
  {
   "cell_type": "code",
   "execution_count": 7,
   "metadata": {},
   "outputs": [],
   "source": [
    "# преобразуем данных о дате\n",
    "orders['date'] = pd.to_datetime(orders['date'])\n",
    "visitors['date'] = pd.to_datetime(visitors['date'])"
   ]
  },
  {
   "cell_type": "code",
   "execution_count": 8,
   "metadata": {},
   "outputs": [
    {
     "data": {
      "text/plain": [
       "0"
      ]
     },
     "metadata": {},
     "output_type": "display_data"
    },
    {
     "data": {
      "text/plain": [
       "0"
      ]
     },
     "metadata": {},
     "output_type": "display_data"
    },
    {
     "data": {
      "text/plain": [
       "0"
      ]
     },
     "execution_count": 8,
     "metadata": {},
     "output_type": "execute_result"
    }
   ],
   "source": [
    "# проверим наличие явных дубликатов\n",
    "display(hypothesis.duplicated().sum())\n",
    "display(orders.duplicated().sum())\n",
    "visitors.duplicated().sum()"
   ]
  },
  {
   "cell_type": "markdown",
   "metadata": {},
   "source": [
    "**Вывод:** Предобработка данных проведена: привели названия столбцов в таблице *hypothesis* к нижнему регистру, преобразовали в нужный тип столбцы, которые содержат данные с датой, в таблицах orders и visitors, дубликаты не выявлены."
   ]
  },
  {
   "cell_type": "markdown",
   "metadata": {},
   "source": [
    "## Шаг. Приоритизация гипотез"
   ]
  },
  {
   "cell_type": "markdown",
   "metadata": {},
   "source": [
    "### Применим фреймворк ICE"
   ]
  },
  {
   "cell_type": "markdown",
   "metadata": {},
   "source": [
    "Рассчитаем приоритезацию гипотез мотодом ICE по формуле:<br>\n",
    "**ICE = (Impact * Confidence) / Efforts**"
   ]
  },
  {
   "cell_type": "code",
   "execution_count": 9,
   "metadata": {},
   "outputs": [
    {
     "data": {
      "text/html": [
       "<div>\n",
       "<style scoped>\n",
       "    .dataframe tbody tr th:only-of-type {\n",
       "        vertical-align: middle;\n",
       "    }\n",
       "\n",
       "    .dataframe tbody tr th {\n",
       "        vertical-align: top;\n",
       "    }\n",
       "\n",
       "    .dataframe thead th {\n",
       "        text-align: right;\n",
       "    }\n",
       "</style>\n",
       "<table border=\"1\" class=\"dataframe\">\n",
       "  <thead>\n",
       "    <tr style=\"text-align: right;\">\n",
       "      <th></th>\n",
       "      <th>hypothesis</th>\n",
       "      <th>reach</th>\n",
       "      <th>impact</th>\n",
       "      <th>confidence</th>\n",
       "      <th>efforts</th>\n",
       "      <th>ice</th>\n",
       "    </tr>\n",
       "  </thead>\n",
       "  <tbody>\n",
       "    <tr>\n",
       "      <th>8</th>\n",
       "      <td>Запустить акцию, дающую скидку на товар в день рождения</td>\n",
       "      <td>1</td>\n",
       "      <td>9</td>\n",
       "      <td>9</td>\n",
       "      <td>5</td>\n",
       "      <td>16.20</td>\n",
       "    </tr>\n",
       "    <tr>\n",
       "      <th>0</th>\n",
       "      <td>Добавить два новых канала привлечения трафика, что позволит привлекать на 30% больше пользователей</td>\n",
       "      <td>3</td>\n",
       "      <td>10</td>\n",
       "      <td>8</td>\n",
       "      <td>6</td>\n",
       "      <td>13.33</td>\n",
       "    </tr>\n",
       "    <tr>\n",
       "      <th>7</th>\n",
       "      <td>Добавить форму подписки на все основные страницы, чтобы собрать базу клиентов для email-рассылок</td>\n",
       "      <td>10</td>\n",
       "      <td>7</td>\n",
       "      <td>8</td>\n",
       "      <td>5</td>\n",
       "      <td>11.20</td>\n",
       "    </tr>\n",
       "    <tr>\n",
       "      <th>6</th>\n",
       "      <td>Показать на главной странице баннеры с актуальными акциями и распродажами, чтобы увеличить конверсию</td>\n",
       "      <td>5</td>\n",
       "      <td>3</td>\n",
       "      <td>8</td>\n",
       "      <td>3</td>\n",
       "      <td>8.00</td>\n",
       "    </tr>\n",
       "    <tr>\n",
       "      <th>2</th>\n",
       "      <td>Добавить блоки рекомендаций товаров на сайт интернет магазина, чтобы повысить конверсию и средний чек заказа</td>\n",
       "      <td>8</td>\n",
       "      <td>3</td>\n",
       "      <td>7</td>\n",
       "      <td>3</td>\n",
       "      <td>7.00</td>\n",
       "    </tr>\n",
       "    <tr>\n",
       "      <th>1</th>\n",
       "      <td>Запустить собственную службу доставки, что сократит срок доставки заказов</td>\n",
       "      <td>2</td>\n",
       "      <td>5</td>\n",
       "      <td>4</td>\n",
       "      <td>10</td>\n",
       "      <td>2.00</td>\n",
       "    </tr>\n",
       "    <tr>\n",
       "      <th>5</th>\n",
       "      <td>Добавить страницу отзывов клиентов о магазине, что позволит увеличить количество заказов</td>\n",
       "      <td>3</td>\n",
       "      <td>2</td>\n",
       "      <td>2</td>\n",
       "      <td>3</td>\n",
       "      <td>1.33</td>\n",
       "    </tr>\n",
       "    <tr>\n",
       "      <th>3</th>\n",
       "      <td>Изменить структура категорий, что увеличит конверсию, т.к. пользователи быстрее найдут нужный товар</td>\n",
       "      <td>8</td>\n",
       "      <td>3</td>\n",
       "      <td>3</td>\n",
       "      <td>8</td>\n",
       "      <td>1.12</td>\n",
       "    </tr>\n",
       "    <tr>\n",
       "      <th>4</th>\n",
       "      <td>Изменить цвет фона главной страницы, чтобы увеличить вовлеченность пользователей</td>\n",
       "      <td>3</td>\n",
       "      <td>1</td>\n",
       "      <td>1</td>\n",
       "      <td>1</td>\n",
       "      <td>1.00</td>\n",
       "    </tr>\n",
       "  </tbody>\n",
       "</table>\n",
       "</div>"
      ],
      "text/plain": [
       "                                                                                                     hypothesis  \\\n",
       "8                                                       Запустить акцию, дающую скидку на товар в день рождения   \n",
       "0            Добавить два новых канала привлечения трафика, что позволит привлекать на 30% больше пользователей   \n",
       "7              Добавить форму подписки на все основные страницы, чтобы собрать базу клиентов для email-рассылок   \n",
       "6          Показать на главной странице баннеры с актуальными акциями и распродажами, чтобы увеличить конверсию   \n",
       "2  Добавить блоки рекомендаций товаров на сайт интернет магазина, чтобы повысить конверсию и средний чек заказа   \n",
       "1                                     Запустить собственную службу доставки, что сократит срок доставки заказов   \n",
       "5                      Добавить страницу отзывов клиентов о магазине, что позволит увеличить количество заказов   \n",
       "3           Изменить структура категорий, что увеличит конверсию, т.к. пользователи быстрее найдут нужный товар   \n",
       "4                              Изменить цвет фона главной страницы, чтобы увеличить вовлеченность пользователей   \n",
       "\n",
       "   reach  impact  confidence  efforts    ice  \n",
       "8      1       9           9        5  16.20  \n",
       "0      3      10           8        6  13.33  \n",
       "7     10       7           8        5  11.20  \n",
       "6      5       3           8        3   8.00  \n",
       "2      8       3           7        3   7.00  \n",
       "1      2       5           4       10   2.00  \n",
       "5      3       2           2        3   1.33  \n",
       "3      8       3           3        8   1.12  \n",
       "4      3       1           1        1   1.00  "
      ]
     },
     "execution_count": 9,
     "metadata": {},
     "output_type": "execute_result"
    }
   ],
   "source": [
    "# Применим фреймворк ICE для приоритизации гипотез. Отсортируем их по убыванию приоритета.\n",
    "hypothesis['ice'] = round((hypothesis['impact'] * hypothesis['confidence']) / hypothesis['efforts'], 2)\n",
    "pd.set_option('display.max_colwidth', 400)\n",
    "hypothesis.sort_values(by='ice', ascending=False)"
   ]
  },
  {
   "cell_type": "markdown",
   "metadata": {},
   "source": [
    "Наиболее перспективные гипотезы по ICE: 9, 1, 8"
   ]
  },
  {
   "cell_type": "markdown",
   "metadata": {},
   "source": [
    "### Применим фреймворк RICE"
   ]
  },
  {
   "cell_type": "markdown",
   "metadata": {},
   "source": [
    "Рассчитаем приоритезацию гипотез мотодом RICE по формуле:<br>\n",
    "**RICE = (Reach * Impact * Confidence) / Efforts**"
   ]
  },
  {
   "cell_type": "code",
   "execution_count": 10,
   "metadata": {},
   "outputs": [
    {
     "data": {
      "text/html": [
       "<div>\n",
       "<style scoped>\n",
       "    .dataframe tbody tr th:only-of-type {\n",
       "        vertical-align: middle;\n",
       "    }\n",
       "\n",
       "    .dataframe tbody tr th {\n",
       "        vertical-align: top;\n",
       "    }\n",
       "\n",
       "    .dataframe thead th {\n",
       "        text-align: right;\n",
       "    }\n",
       "</style>\n",
       "<table border=\"1\" class=\"dataframe\">\n",
       "  <thead>\n",
       "    <tr style=\"text-align: right;\">\n",
       "      <th></th>\n",
       "      <th>hypothesis</th>\n",
       "      <th>reach</th>\n",
       "      <th>impact</th>\n",
       "      <th>confidence</th>\n",
       "      <th>efforts</th>\n",
       "      <th>ice</th>\n",
       "      <th>rice</th>\n",
       "    </tr>\n",
       "  </thead>\n",
       "  <tbody>\n",
       "    <tr>\n",
       "      <th>7</th>\n",
       "      <td>Добавить форму подписки на все основные страницы, чтобы собрать базу клиентов для email-рассылок</td>\n",
       "      <td>10</td>\n",
       "      <td>7</td>\n",
       "      <td>8</td>\n",
       "      <td>5</td>\n",
       "      <td>11.20</td>\n",
       "      <td>112.0</td>\n",
       "    </tr>\n",
       "    <tr>\n",
       "      <th>2</th>\n",
       "      <td>Добавить блоки рекомендаций товаров на сайт интернет магазина, чтобы повысить конверсию и средний чек заказа</td>\n",
       "      <td>8</td>\n",
       "      <td>3</td>\n",
       "      <td>7</td>\n",
       "      <td>3</td>\n",
       "      <td>7.00</td>\n",
       "      <td>56.0</td>\n",
       "    </tr>\n",
       "    <tr>\n",
       "      <th>0</th>\n",
       "      <td>Добавить два новых канала привлечения трафика, что позволит привлекать на 30% больше пользователей</td>\n",
       "      <td>3</td>\n",
       "      <td>10</td>\n",
       "      <td>8</td>\n",
       "      <td>6</td>\n",
       "      <td>13.33</td>\n",
       "      <td>40.0</td>\n",
       "    </tr>\n",
       "    <tr>\n",
       "      <th>6</th>\n",
       "      <td>Показать на главной странице баннеры с актуальными акциями и распродажами, чтобы увеличить конверсию</td>\n",
       "      <td>5</td>\n",
       "      <td>3</td>\n",
       "      <td>8</td>\n",
       "      <td>3</td>\n",
       "      <td>8.00</td>\n",
       "      <td>40.0</td>\n",
       "    </tr>\n",
       "    <tr>\n",
       "      <th>8</th>\n",
       "      <td>Запустить акцию, дающую скидку на товар в день рождения</td>\n",
       "      <td>1</td>\n",
       "      <td>9</td>\n",
       "      <td>9</td>\n",
       "      <td>5</td>\n",
       "      <td>16.20</td>\n",
       "      <td>16.2</td>\n",
       "    </tr>\n",
       "    <tr>\n",
       "      <th>3</th>\n",
       "      <td>Изменить структура категорий, что увеличит конверсию, т.к. пользователи быстрее найдут нужный товар</td>\n",
       "      <td>8</td>\n",
       "      <td>3</td>\n",
       "      <td>3</td>\n",
       "      <td>8</td>\n",
       "      <td>1.12</td>\n",
       "      <td>9.0</td>\n",
       "    </tr>\n",
       "    <tr>\n",
       "      <th>1</th>\n",
       "      <td>Запустить собственную службу доставки, что сократит срок доставки заказов</td>\n",
       "      <td>2</td>\n",
       "      <td>5</td>\n",
       "      <td>4</td>\n",
       "      <td>10</td>\n",
       "      <td>2.00</td>\n",
       "      <td>4.0</td>\n",
       "    </tr>\n",
       "    <tr>\n",
       "      <th>5</th>\n",
       "      <td>Добавить страницу отзывов клиентов о магазине, что позволит увеличить количество заказов</td>\n",
       "      <td>3</td>\n",
       "      <td>2</td>\n",
       "      <td>2</td>\n",
       "      <td>3</td>\n",
       "      <td>1.33</td>\n",
       "      <td>4.0</td>\n",
       "    </tr>\n",
       "    <tr>\n",
       "      <th>4</th>\n",
       "      <td>Изменить цвет фона главной страницы, чтобы увеличить вовлеченность пользователей</td>\n",
       "      <td>3</td>\n",
       "      <td>1</td>\n",
       "      <td>1</td>\n",
       "      <td>1</td>\n",
       "      <td>1.00</td>\n",
       "      <td>3.0</td>\n",
       "    </tr>\n",
       "  </tbody>\n",
       "</table>\n",
       "</div>"
      ],
      "text/plain": [
       "                                                                                                     hypothesis  \\\n",
       "7              Добавить форму подписки на все основные страницы, чтобы собрать базу клиентов для email-рассылок   \n",
       "2  Добавить блоки рекомендаций товаров на сайт интернет магазина, чтобы повысить конверсию и средний чек заказа   \n",
       "0            Добавить два новых канала привлечения трафика, что позволит привлекать на 30% больше пользователей   \n",
       "6          Показать на главной странице баннеры с актуальными акциями и распродажами, чтобы увеличить конверсию   \n",
       "8                                                       Запустить акцию, дающую скидку на товар в день рождения   \n",
       "3           Изменить структура категорий, что увеличит конверсию, т.к. пользователи быстрее найдут нужный товар   \n",
       "1                                     Запустить собственную службу доставки, что сократит срок доставки заказов   \n",
       "5                      Добавить страницу отзывов клиентов о магазине, что позволит увеличить количество заказов   \n",
       "4                              Изменить цвет фона главной страницы, чтобы увеличить вовлеченность пользователей   \n",
       "\n",
       "   reach  impact  confidence  efforts    ice   rice  \n",
       "7     10       7           8        5  11.20  112.0  \n",
       "2      8       3           7        3   7.00   56.0  \n",
       "0      3      10           8        6  13.33   40.0  \n",
       "6      5       3           8        3   8.00   40.0  \n",
       "8      1       9           9        5  16.20   16.2  \n",
       "3      8       3           3        8   1.12    9.0  \n",
       "1      2       5           4       10   2.00    4.0  \n",
       "5      3       2           2        3   1.33    4.0  \n",
       "4      3       1           1        1   1.00    3.0  "
      ]
     },
     "execution_count": 10,
     "metadata": {},
     "output_type": "execute_result"
    }
   ],
   "source": [
    "# Применим фреймворк RICE для приоритизации гипотез. Отсортируем их по убыванию приоритета.\n",
    "hypothesis['rice'] = (hypothesis['reach'] * hypothesis['impact'] * hypothesis['confidence']) / hypothesis['efforts']\n",
    "hypothesis.sort_values(by='rice', ascending=False)"
   ]
  },
  {
   "cell_type": "markdown",
   "metadata": {},
   "source": [
    "Наиболее перспективные гипотезы по RICE: 8, 3, 1, 7"
   ]
  },
  {
   "cell_type": "markdown",
   "metadata": {},
   "source": [
    "**Вывод:**<br>\n",
    "- Наиболее перспективные гипотезы по ICE: 9, 1, 8.\n",
    "- Наиболее перспективные гипотезы по RICE: 8, 3, 1, 7.\n",
    "\n",
    "При применении RICE вместо ICE, приоритизация гипотез изменилась. Самой перспективной гипотезой при применении RICE оказалась гипотеза 8, т.к. охват этой гипотезы, а именно параметр *reach*, равен максимальному значению 10, что и повлияло на приоритет этой гипотезы."
   ]
  },
  {
   "cell_type": "code",
   "execution_count": 11,
   "metadata": {},
   "outputs": [
    {
     "data": {
      "text/html": [
       "<style  type=\"text/css\" >\n",
       "#T_c1a56_row0_col1{\n",
       "            background-color:  #4da64d;\n",
       "            color:  #000000;\n",
       "        }#T_c1a56_row0_col2,#T_c1a56_row4_col1{\n",
       "            background-color:  #008000;\n",
       "            color:  #f1f1f1;\n",
       "        }#T_c1a56_row1_col1{\n",
       "            background-color:  #8ec58e;\n",
       "            color:  #000000;\n",
       "        }#T_c1a56_row1_col2{\n",
       "            background-color:  #78bb78;\n",
       "            color:  #000000;\n",
       "        }#T_c1a56_row2_col1{\n",
       "            background-color:  #2c962c;\n",
       "            color:  #000000;\n",
       "        }#T_c1a56_row2_col2,#T_c1a56_row3_col2{\n",
       "            background-color:  #9bcc9b;\n",
       "            color:  #000000;\n",
       "        }#T_c1a56_row3_col1{\n",
       "            background-color:  #7fbe7f;\n",
       "            color:  #000000;\n",
       "        }#T_c1a56_row4_col2{\n",
       "            background-color:  #cee5ce;\n",
       "            color:  #000000;\n",
       "        }#T_c1a56_row5_col1,#T_c1a56_row6_col2,#T_c1a56_row7_col2{\n",
       "            background-color:  #e9f2e9;\n",
       "            color:  #000000;\n",
       "        }#T_c1a56_row5_col2{\n",
       "            background-color:  #deedde;\n",
       "            color:  #000000;\n",
       "        }#T_c1a56_row6_col1{\n",
       "            background-color:  #dcecdc;\n",
       "            color:  #000000;\n",
       "        }#T_c1a56_row7_col1{\n",
       "            background-color:  #e6f1e6;\n",
       "            color:  #000000;\n",
       "        }#T_c1a56_row8_col1,#T_c1a56_row8_col2{\n",
       "            background-color:  #ebf3eb;\n",
       "            color:  #000000;\n",
       "        }</style><table id=\"T_c1a56_\" ><thead>    <tr>        <th class=\"blank level0\" ></th>        <th class=\"col_heading level0 col0\" >hypothesis</th>        <th class=\"col_heading level0 col1\" >ice</th>        <th class=\"col_heading level0 col2\" >rice</th>    </tr></thead><tbody>\n",
       "                <tr>\n",
       "                        <th id=\"T_c1a56_level0_row0\" class=\"row_heading level0 row0\" >7</th>\n",
       "                        <td id=\"T_c1a56_row0_col0\" class=\"data row0 col0\" >Добавить форму подписки на все основные страницы, чтобы собрать базу клиентов для email-рассылок</td>\n",
       "                        <td id=\"T_c1a56_row0_col1\" class=\"data row0 col1\" >11.200000</td>\n",
       "                        <td id=\"T_c1a56_row0_col2\" class=\"data row0 col2\" >112.000000</td>\n",
       "            </tr>\n",
       "            <tr>\n",
       "                        <th id=\"T_c1a56_level0_row1\" class=\"row_heading level0 row1\" >2</th>\n",
       "                        <td id=\"T_c1a56_row1_col0\" class=\"data row1 col0\" >Добавить блоки рекомендаций товаров на сайт интернет магазина, чтобы повысить конверсию и средний чек заказа</td>\n",
       "                        <td id=\"T_c1a56_row1_col1\" class=\"data row1 col1\" >7.000000</td>\n",
       "                        <td id=\"T_c1a56_row1_col2\" class=\"data row1 col2\" >56.000000</td>\n",
       "            </tr>\n",
       "            <tr>\n",
       "                        <th id=\"T_c1a56_level0_row2\" class=\"row_heading level0 row2\" >0</th>\n",
       "                        <td id=\"T_c1a56_row2_col0\" class=\"data row2 col0\" >Добавить два новых канала привлечения трафика, что позволит привлекать на 30% больше пользователей</td>\n",
       "                        <td id=\"T_c1a56_row2_col1\" class=\"data row2 col1\" >13.330000</td>\n",
       "                        <td id=\"T_c1a56_row2_col2\" class=\"data row2 col2\" >40.000000</td>\n",
       "            </tr>\n",
       "            <tr>\n",
       "                        <th id=\"T_c1a56_level0_row3\" class=\"row_heading level0 row3\" >6</th>\n",
       "                        <td id=\"T_c1a56_row3_col0\" class=\"data row3 col0\" >Показать на главной странице баннеры с актуальными акциями и распродажами, чтобы увеличить конверсию</td>\n",
       "                        <td id=\"T_c1a56_row3_col1\" class=\"data row3 col1\" >8.000000</td>\n",
       "                        <td id=\"T_c1a56_row3_col2\" class=\"data row3 col2\" >40.000000</td>\n",
       "            </tr>\n",
       "            <tr>\n",
       "                        <th id=\"T_c1a56_level0_row4\" class=\"row_heading level0 row4\" >8</th>\n",
       "                        <td id=\"T_c1a56_row4_col0\" class=\"data row4 col0\" >Запустить акцию, дающую скидку на товар в день рождения</td>\n",
       "                        <td id=\"T_c1a56_row4_col1\" class=\"data row4 col1\" >16.200000</td>\n",
       "                        <td id=\"T_c1a56_row4_col2\" class=\"data row4 col2\" >16.200000</td>\n",
       "            </tr>\n",
       "            <tr>\n",
       "                        <th id=\"T_c1a56_level0_row5\" class=\"row_heading level0 row5\" >3</th>\n",
       "                        <td id=\"T_c1a56_row5_col0\" class=\"data row5 col0\" >Изменить структура категорий, что увеличит конверсию, т.к. пользователи быстрее найдут нужный товар</td>\n",
       "                        <td id=\"T_c1a56_row5_col1\" class=\"data row5 col1\" >1.120000</td>\n",
       "                        <td id=\"T_c1a56_row5_col2\" class=\"data row5 col2\" >9.000000</td>\n",
       "            </tr>\n",
       "            <tr>\n",
       "                        <th id=\"T_c1a56_level0_row6\" class=\"row_heading level0 row6\" >1</th>\n",
       "                        <td id=\"T_c1a56_row6_col0\" class=\"data row6 col0\" >Запустить собственную службу доставки, что сократит срок доставки заказов</td>\n",
       "                        <td id=\"T_c1a56_row6_col1\" class=\"data row6 col1\" >2.000000</td>\n",
       "                        <td id=\"T_c1a56_row6_col2\" class=\"data row6 col2\" >4.000000</td>\n",
       "            </tr>\n",
       "            <tr>\n",
       "                        <th id=\"T_c1a56_level0_row7\" class=\"row_heading level0 row7\" >5</th>\n",
       "                        <td id=\"T_c1a56_row7_col0\" class=\"data row7 col0\" >Добавить страницу отзывов клиентов о магазине, что позволит увеличить количество заказов</td>\n",
       "                        <td id=\"T_c1a56_row7_col1\" class=\"data row7 col1\" >1.330000</td>\n",
       "                        <td id=\"T_c1a56_row7_col2\" class=\"data row7 col2\" >4.000000</td>\n",
       "            </tr>\n",
       "            <tr>\n",
       "                        <th id=\"T_c1a56_level0_row8\" class=\"row_heading level0 row8\" >4</th>\n",
       "                        <td id=\"T_c1a56_row8_col0\" class=\"data row8 col0\" >Изменить цвет фона главной страницы, чтобы увеличить вовлеченность пользователей</td>\n",
       "                        <td id=\"T_c1a56_row8_col1\" class=\"data row8 col1\" >1.000000</td>\n",
       "                        <td id=\"T_c1a56_row8_col2\" class=\"data row8 col2\" >3.000000</td>\n",
       "            </tr>\n",
       "    </tbody></table>"
      ],
      "text/plain": [
       "<pandas.io.formats.style.Styler at 0x1187fd5dcd0>"
      ]
     },
     "execution_count": 11,
     "metadata": {},
     "output_type": "execute_result"
    }
   ],
   "source": [
    "cm = sns.light_palette(\"green\", as_cmap=True)\n",
    "hypothesis[['hypothesis', 'ice', 'rice']].sort_values(by='rice', ascending=False).style.background_gradient(cmap=cm)"
   ]
  },
  {
   "cell_type": "markdown",
   "metadata": {},
   "source": [
    "## Шаг. Анализ А/В-теста"
   ]
  },
  {
   "cell_type": "markdown",
   "metadata": {},
   "source": [
    "Проверим есть ли пользователи, которые попали в обе группы."
   ]
  },
  {
   "cell_type": "code",
   "execution_count": 12,
   "metadata": {},
   "outputs": [
    {
     "data": {
      "text/plain": [
       "1031"
      ]
     },
     "execution_count": 12,
     "metadata": {},
     "output_type": "execute_result"
    }
   ],
   "source": [
    "# подсчитаем сколько уникальных идентификаторов пользователей\n",
    "len(orders['visitorId'].unique())"
   ]
  },
  {
   "cell_type": "code",
   "execution_count": 13,
   "metadata": {},
   "outputs": [
    {
     "data": {
      "text/plain": [
       "group\n",
       "A    557\n",
       "B    640\n",
       "Name: visitorId, dtype: int64"
      ]
     },
     "execution_count": 13,
     "metadata": {},
     "output_type": "execute_result"
    }
   ],
   "source": [
    "# теперь посмотрим количество пользователей в группах\n",
    "orders.groupby('group')['visitorId'].count()"
   ]
  },
  {
   "cell_type": "markdown",
   "metadata": {},
   "source": [
    "Из полученных данных видим несостыковку, всего у нас 1031 пользователей, а если просуммировать пользователей в группе А и группе В получим 1197. Значит у нас есть пользователи которые попали в обе группы. Это"
   ]
  },
  {
   "cell_type": "code",
   "execution_count": 14,
   "metadata": {},
   "outputs": [
    {
     "data": {
      "text/plain": [
       "58"
      ]
     },
     "execution_count": 14,
     "metadata": {},
     "output_type": "execute_result"
    }
   ],
   "source": [
    "# составим список пользователей, которые попали в обе группы\n",
    "bad_users = np.intersect1d(orders.query('group == \"A\"')['visitorId'], orders.query('group == \"B\"')['visitorId'])\n",
    "len(bad_users)"
   ]
  },
  {
   "cell_type": "code",
   "execution_count": 15,
   "metadata": {},
   "outputs": [
    {
     "name": "stdout",
     "output_type": "stream",
     "text": [
      "<class 'pandas.core.frame.DataFrame'>\n",
      "Int64Index: 1016 entries, 0 to 1196\n",
      "Data columns (total 5 columns):\n",
      " #   Column         Non-Null Count  Dtype         \n",
      "---  ------         --------------  -----         \n",
      " 0   transactionId  1016 non-null   int64         \n",
      " 1   visitorId      1016 non-null   int64         \n",
      " 2   date           1016 non-null   datetime64[ns]\n",
      " 3   revenue        1016 non-null   int64         \n",
      " 4   group          1016 non-null   object        \n",
      "dtypes: datetime64[ns](1), int64(3), object(1)\n",
      "memory usage: 47.6+ KB\n"
     ]
    }
   ],
   "source": [
    "# удалим этих пользователей из данных\n",
    "orders = orders.query('visitorId not in @bad_users')\n",
    "orders.info()"
   ]
  },
  {
   "cell_type": "markdown",
   "metadata": {},
   "source": [
    "### Построить график кумулятивной выручки по группам."
   ]
  },
  {
   "cell_type": "code",
   "execution_count": 16,
   "metadata": {},
   "outputs": [
    {
     "name": "stdout",
     "output_type": "stream",
     "text": [
      "        date group  orders  buyers  revenue  visitors\n",
      "0 2019-08-01     A      23      19   142779       719\n",
      "1 2019-08-01     B      17      17    59758       713\n",
      "2 2019-08-02     A      42      36   234381      1338\n",
      "3 2019-08-02     B      40      39   221801      1294\n",
      "4 2019-08-03     A      66      60   346854      1845\n"
     ]
    }
   ],
   "source": [
    "# Создадим массив уникальных пар значений дат и групп теста\n",
    "datesGroups = orders[['date','group']].drop_duplicates() \n",
    "# Получим строки таблицы orders, дата которых меньше или равна дате из datesGroups, а группа  равна группе из datesGroups\n",
    "# Вычислим максимальную дату, рассчитаем максимум для группы, найдём число уникальных ID заказов и пользователей, \n",
    "# подсчитаем сумму средних чеков\n",
    "ordersAggregated = datesGroups.apply(\n",
    "    lambda x: orders[np.logical_and(orders['date'] <= x['date'], orders['group'] == x['group'])]\n",
    "    .agg({'date' : 'max', 'group' : 'max', 'transactionId' : pd.Series.nunique, 'visitorId' : pd.Series.nunique, 'revenue' : 'sum'}), axis=1).sort_values(by=['date','group'])\n",
    "# Аналогичные действия проделаем для таблицы visitors\n",
    "visitorsAggregated = datesGroups.apply(\n",
    "    lambda x: visitors[np.logical_and(visitors['date'] <= x['date'], visitors['group'] == x['group'])]\n",
    "    .agg({'date' : 'max', 'group' : 'max', 'visitors' : 'sum'}), axis=1).sort_values(by=['date','group']) \n",
    "# Объединим обе таблицы в одну и переименуем названия столбцов\n",
    "cumulativeData = ordersAggregated.merge(visitorsAggregated, left_on=['date', 'group'], right_on=['date', 'group'])\n",
    "cumulativeData.columns = ['date', 'group', 'orders', 'buyers', 'revenue', 'visitors']\n",
    "\n",
    "print(cumulativeData.head(5))"
   ]
  },
  {
   "cell_type": "code",
   "execution_count": 17,
   "metadata": {},
   "outputs": [
    {
     "data": {
      "image/png": "[encoded data removed]",
      "text/plain": [
       "<Figure size 1200x600 with 1 Axes>"
      ]
     },
     "metadata": {},
     "output_type": "display_data"
    }
   ],
   "source": [
    "# датафрейм с кумулятивным количеством заказов и кумулятивной выручкой по дням в группе А\n",
    "cumulativeRevenueA = cumulativeData[cumulativeData['group']=='A'][['date','revenue', 'orders']]\n",
    "# датафрейм с кумулятивным количеством заказов и кумулятивной выручкой по дням в группе В\n",
    "cumulativeRevenueB = cumulativeData[cumulativeData['group']=='B'][['date','revenue', 'orders']]\n",
    "# Построим график выручки группы А и группы В по дням\n",
    "plt.figure(figsize=(12, 6))\n",
    "plt.grid()\n",
    "plt.plot(cumulativeRevenueA['date'], cumulativeRevenueA['revenue'], label='A')\n",
    "plt.plot(cumulativeRevenueB['date'], cumulativeRevenueB['revenue'], label='B')\n",
    "plt.title('Графики кумулятивной выручки по дням и группам', fontsize=14)\n",
    "plt.xlabel('Дни')\n",
    "plt.ylabel('Выручка')\n",
    "plt.legend() \n",
    "plt.show()"
   ]
  },
  {
   "cell_type": "markdown",
   "metadata": {},
   "source": [
    "Выручка увеличивается в течение всего теста. Но график выручки группы В резко растет с 18.08.2019 по 19.08.2019. Это может сигнализировать об аномальном числе заказов, либо об аномально дорогих заказах в выборке. "
   ]
  },
  {
   "cell_type": "markdown",
   "metadata": {},
   "source": [
    "### Построить график кумулятивного среднего чека по группам."
   ]
  },
  {
   "cell_type": "code",
   "execution_count": 18,
   "metadata": {},
   "outputs": [
    {
     "data": {
      "image/png": "[encoded data removed]",
      "text/plain": [
       "<Figure size 1200x600 with 1 Axes>"
      ]
     },
     "metadata": {},
     "output_type": "display_data"
    }
   ],
   "source": [
    "# Разделим кумулятивную выручку на кумулятивное число заказов и построим графики среднего чека по группам\n",
    "plt.figure(figsize=(12, 6))\n",
    "plt.grid()\n",
    "plt.plot(cumulativeRevenueA['date'], cumulativeRevenueA['revenue']/cumulativeRevenueA['orders'], label='A')\n",
    "plt.plot(cumulativeRevenueB['date'], cumulativeRevenueB['revenue']/cumulativeRevenueB['orders'], label='B')\n",
    "plt.title('Графики кумулятивного среднего чека по дням и группам', fontsize=14)\n",
    "plt.xlabel('Дни')\n",
    "plt.ylabel('Средний чек')\n",
    "plt.legend()\n",
    "plt.show()"
   ]
  },
  {
   "cell_type": "markdown",
   "metadata": {},
   "source": [
    "График кумулятивного среднего чека сильно колеблется, но здесь также виден всплеск группы В. Необходимо проанализировать выбросы, которые вызывают такие всплески."
   ]
  },
  {
   "cell_type": "markdown",
   "metadata": {},
   "source": [
    "### Построить график относительного различия кумулятивного среднего чека группы B к группе A."
   ]
  },
  {
   "cell_type": "code",
   "execution_count": 19,
   "metadata": {},
   "outputs": [
    {
     "data": {
      "image/png": "[encoded data removed]",
      "text/plain": [
       "<Figure size 1200x600 with 1 Axes>"
      ]
     },
     "metadata": {},
     "output_type": "display_data"
    }
   ],
   "source": [
    "# Собирём данные в одном датафрейме\n",
    "mergedCumulativeRevenue = cumulativeRevenueA.merge(cumulativeRevenueB, left_on='date', right_on='date', how='left', suffixes=['A', 'B'])\n",
    "\n",
    "# Построим график относительного различия для среднего чека\n",
    "plt.figure(figsize=(12, 6))\n",
    "plt.grid()\n",
    "plt.plot(mergedCumulativeRevenue['date'], (mergedCumulativeRevenue['revenueB']/mergedCumulativeRevenue['ordersB'])/(mergedCumulativeRevenue['revenueA']/mergedCumulativeRevenue['ordersA'])-1)\n",
    "# Добавим ось X\n",
    "plt.axhline(y=0, color='black', linestyle='--')\n",
    "plt.title('График относительного различия кумулятивного среднего чека группы B к группе A', fontsize=14)\n",
    "plt.xlabel('Дни')\n",
    "plt.ylabel('Отношение средних чеков')\n",
    "plt.show()"
   ]
  },
  {
   "cell_type": "markdown",
   "metadata": {},
   "source": [
    "В нескольких местах графика наблюдаются резкие скачки относительного различия кумулятивного среднего чека. Скорее всего там и будут аномально крупные заказы."
   ]
  },
  {
   "cell_type": "markdown",
   "metadata": {},
   "source": [
    "### Построить график кумулятивного среднего количества заказов на посетителя по группам."
   ]
  },
  {
   "cell_type": "code",
   "execution_count": 20,
   "metadata": {},
   "outputs": [
    {
     "data": {
      "image/png": "[encoded data removed]",
      "text/plain": [
       "<Figure size 1200x600 with 1 Axes>"
      ]
     },
     "metadata": {},
     "output_type": "display_data"
    }
   ],
   "source": [
    "# Посчитаем среднее количество заказов на посетителя\n",
    "cumulativeData['conversion'] = cumulativeData['orders']/cumulativeData['visitors']\n",
    "\n",
    "# отделяем данные по группе A и группе B\n",
    "cumulativeDataA = cumulativeData[cumulativeData['group']=='A']\n",
    "cumulativeDataB = cumulativeData[cumulativeData['group']=='B']\n",
    "\n",
    "# Построим график кумулятивного среднего количества заказов на посетителя по группам\n",
    "plt.figure(figsize=(12, 6))\n",
    "plt.grid()\n",
    "plt.plot(cumulativeDataA['date'], cumulativeDataA['conversion'], label='A')\n",
    "plt.plot(cumulativeDataB['date'], cumulativeDataB['conversion'], label='B')\n",
    "plt.title('График кумулятивного среднего количества заказов на посетителя по группам', fontsize=14)\n",
    "plt.xlabel('Дни')\n",
    "plt.ylabel('Среднее количество заказов на посетителя')\n",
    "plt.legend()\n",
    "plt.show()"
   ]
  },
  {
   "cell_type": "markdown",
   "metadata": {},
   "source": [
    "В начале теста графики сильно скакали, но постепенно стабилизировались. Кумулятивное среднее количества заказов группы А в начале теста было больше, и затем пошло на спад, а среднее количество заказов группы В вырвалось вперёд."
   ]
  },
  {
   "cell_type": "markdown",
   "metadata": {},
   "source": [
    "### Построить график относительного изменения кумулятивного среднего количества заказов на посетителя группы B к группе A."
   ]
  },
  {
   "cell_type": "code",
   "execution_count": 21,
   "metadata": {},
   "outputs": [
    {
     "data": {
      "image/png": "[encoded data removed]",
      "text/plain": [
       "<Figure size 1200x600 with 1 Axes>"
      ]
     },
     "metadata": {},
     "output_type": "display_data"
    }
   ],
   "source": [
    "# Собирём данные в одном датафрейме\n",
    "mergedCumulativeConversions = cumulativeDataA[['date','conversion']].merge(cumulativeDataB[['date','conversion']], left_on='date', right_on='date', how='left', suffixes=['A', 'B'])\n",
    "# Построим график относительного различия для среднего количества заказов\n",
    "plt.figure(figsize=(12, 6))\n",
    "plt.grid()\n",
    "plt.plot(mergedCumulativeConversions['date'], mergedCumulativeConversions['conversionB']/mergedCumulativeConversions['conversionA']-1, label=\"Относительный прирост кумулятивного среднего количества заказов на посетителя группы B относительно группы A\")\n",
    "# Добавим ось X\n",
    "plt.axhline(y=0, color='black', linestyle='--')\n",
    "plt.title('График относительного изменения кумулятивного среднего количества заказов на посетителя группы B к группе A', fontsize=14)\n",
    "plt.xlabel('Дни')\n",
    "plt.ylabel('Отношение среднего количества заказов на посетителя')\n",
    "plt.axhline(y=0.15, color='red', linestyle='--')\n",
    "plt.show()"
   ]
  },
  {
   "cell_type": "markdown",
   "metadata": {},
   "source": [
    "В начале теста группа B значительно проигрывала группе A, затем вырвалась вперёд и зафиксировалась около прироста в 15% относительно группы А.<br>\n",
    "Cтоит проанализировать аномалии, возможно, они изменят картину."
   ]
  },
  {
   "cell_type": "markdown",
   "metadata": {},
   "source": [
    "### Построить точечный график количества заказов по пользователям."
   ]
  },
  {
   "cell_type": "code",
   "execution_count": 22,
   "metadata": {},
   "outputs": [
    {
     "data": {
      "text/html": [
       "<div>\n",
       "<style scoped>\n",
       "    .dataframe tbody tr th:only-of-type {\n",
       "        vertical-align: middle;\n",
       "    }\n",
       "\n",
       "    .dataframe tbody tr th {\n",
       "        vertical-align: top;\n",
       "    }\n",
       "\n",
       "    .dataframe thead th {\n",
       "        text-align: right;\n",
       "    }\n",
       "</style>\n",
       "<table border=\"1\" class=\"dataframe\">\n",
       "  <thead>\n",
       "    <tr style=\"text-align: right;\">\n",
       "      <th></th>\n",
       "      <th>visitorId</th>\n",
       "      <th>transactionId</th>\n",
       "    </tr>\n",
       "  </thead>\n",
       "  <tbody>\n",
       "    <tr>\n",
       "      <th>908</th>\n",
       "      <td>3967698036</td>\n",
       "      <td>3</td>\n",
       "    </tr>\n",
       "    <tr>\n",
       "      <th>55</th>\n",
       "      <td>249864742</td>\n",
       "      <td>3</td>\n",
       "    </tr>\n",
       "    <tr>\n",
       "      <th>478</th>\n",
       "      <td>2108163459</td>\n",
       "      <td>3</td>\n",
       "    </tr>\n",
       "    <tr>\n",
       "      <th>687</th>\n",
       "      <td>2988190573</td>\n",
       "      <td>3</td>\n",
       "    </tr>\n",
       "    <tr>\n",
       "      <th>890</th>\n",
       "      <td>3908431265</td>\n",
       "      <td>3</td>\n",
       "    </tr>\n",
       "    <tr>\n",
       "      <th>138</th>\n",
       "      <td>611059232</td>\n",
       "      <td>3</td>\n",
       "    </tr>\n",
       "    <tr>\n",
       "      <th>632</th>\n",
       "      <td>2742574263</td>\n",
       "      <td>3</td>\n",
       "    </tr>\n",
       "    <tr>\n",
       "      <th>157</th>\n",
       "      <td>678354126</td>\n",
       "      <td>2</td>\n",
       "    </tr>\n",
       "    <tr>\n",
       "      <th>323</th>\n",
       "      <td>1404560065</td>\n",
       "      <td>2</td>\n",
       "    </tr>\n",
       "    <tr>\n",
       "      <th>452</th>\n",
       "      <td>1985475298</td>\n",
       "      <td>2</td>\n",
       "    </tr>\n",
       "  </tbody>\n",
       "</table>\n",
       "</div>"
      ],
      "text/plain": [
       "      visitorId  transactionId\n",
       "908  3967698036              3\n",
       "55    249864742              3\n",
       "478  2108163459              3\n",
       "687  2988190573              3\n",
       "890  3908431265              3\n",
       "138   611059232              3\n",
       "632  2742574263              3\n",
       "157   678354126              2\n",
       "323  1404560065              2\n",
       "452  1985475298              2"
      ]
     },
     "execution_count": 22,
     "metadata": {},
     "output_type": "execute_result"
    }
   ],
   "source": [
    "# Найдём число заказов по пользователям\n",
    "ordersByUsers = (\n",
    "    orders.groupby('visitorId', as_index=False)\n",
    "    .agg({'transactionId': 'nunique'})\n",
    ")\n",
    "ordersByUsers.columns = ['visitorId', 'transactionId']\n",
    "ordersByUsers.sort_values(by='transactionId', ascending=False).head(10)"
   ]
  },
  {
   "cell_type": "code",
   "execution_count": 23,
   "metadata": {},
   "outputs": [
    {
     "data": {
      "image/png": "[encoded data removed]",
      "text/plain": [
       "<Figure size 1200x600 with 1 Axes>"
      ]
     },
     "metadata": {},
     "output_type": "display_data"
    }
   ],
   "source": [
    "# Построим точечную диаграмму числа заказов на одного пользователя\n",
    "x_values = pd.Series(range(0,len(ordersByUsers)))\n",
    "\n",
    "plt.figure(figsize=(12, 6))\n",
    "plt.grid()\n",
    "plt.scatter(x_values, ordersByUsers['transactionId']) \n",
    "plt.title('Диаграмма количества заказов по пользователям', fontsize=14)\n",
    "plt.xlabel('Количество пользователей')\n",
    "plt.ylabel('Количество заказов')\n",
    "plt.show()"
   ]
  },
  {
   "cell_type": "markdown",
   "metadata": {},
   "source": [
    "Есть пользователи с 2-3 заказами. Пользователей, заказавших больше двух раз достаточно мало, их точная доля не ясна — непонятно, считать их аномалиями или нет.<br>\n",
    "Посчитаем выборочные перцентили количества заказов на одного пользователя."
   ]
  },
  {
   "cell_type": "markdown",
   "metadata": {},
   "source": [
    "### Посчитайте 95-й и 99-й перцентили количества заказов на пользователя."
   ]
  },
  {
   "cell_type": "code",
   "execution_count": 24,
   "metadata": {},
   "outputs": [
    {
     "data": {
      "text/plain": [
       "array([1., 2.])"
      ]
     },
     "execution_count": 24,
     "metadata": {},
     "output_type": "execute_result"
    }
   ],
   "source": [
    "np.percentile(ordersByUsers['transactionId'], [95, 99])"
   ]
  },
  {
   "cell_type": "markdown",
   "metadata": {},
   "source": [
    "Видим, что не более 5% пользователей совершали больше одного заказа, и не более 1% совершили больше двух заказов."
   ]
  },
  {
   "cell_type": "markdown",
   "metadata": {},
   "source": [
    "### Построить точечный график стоимостей заказов."
   ]
  },
  {
   "cell_type": "code",
   "execution_count": 25,
   "metadata": {},
   "outputs": [
    {
     "data": {
      "image/png": "[encoded data removed]",
      "text/plain": [
       "<Figure size 1200x600 with 1 Axes>"
      ]
     },
     "metadata": {},
     "output_type": "display_data"
    }
   ],
   "source": [
    "# Построим точечную диаграмму стоимости заказов на одного пользователя\n",
    "x_values = pd.Series(range(0,len(orders['revenue'])))\n",
    "plt.figure(figsize=(12, 6))\n",
    "plt.grid()\n",
    "plt.scatter(x_values, orders['revenue']) \n",
    "plt.title('Диаграмма стоимостей заказов', fontsize=14)\n",
    "plt.xlabel('Количество пользователей')\n",
    "plt.ylabel('Стоимость заказов')\n",
    "plt.show()"
   ]
  },
  {
   "cell_type": "markdown",
   "metadata": {},
   "source": [
    "На графике четко видно два аномальных значения в районе 1 250 000 и 200 000. Исключим эти данные, чтобы увидеть распределение нагляднее."
   ]
  },
  {
   "cell_type": "code",
   "execution_count": 26,
   "metadata": {},
   "outputs": [
    {
     "data": {
      "image/png": "[encoded data removed]",
      "text/plain": [
       "<Figure size 1200x600 with 1 Axes>"
      ]
     },
     "metadata": {},
     "output_type": "display_data"
    }
   ],
   "source": [
    "# сделаем срез данных и исключим 2 выбивающихся значения\n",
    "orders_query = orders.query('revenue < 200000')\n",
    "x_values = pd.Series(range(0,len(orders_query['revenue'])))\n",
    "plt.figure(figsize=(12, 6))\n",
    "plt.grid()\n",
    "plt.scatter(x_values, orders_query['revenue']) \n",
    "plt.title('Диаграмма стоимостей заказов', fontsize=14)\n",
    "plt.xlabel('Количество пользователей')\n",
    "plt.ylabel('Стоимость заказов')\n",
    "plt.show()"
   ]
  },
  {
   "cell_type": "markdown",
   "metadata": {},
   "source": [
    "Видим, что в целом заказов дороже 20 000 не очень много, и есть единичные значения больше 60 000. Найдем выборочные перцентили выручки с заказов по пользователям."
   ]
  },
  {
   "cell_type": "markdown",
   "metadata": {},
   "source": [
    "###  Посчитать 95-й и 99-й перцентили стоимости заказов."
   ]
  },
  {
   "cell_type": "code",
   "execution_count": 27,
   "metadata": {},
   "outputs": [
    {
     "data": {
      "text/plain": [
       "array([26785., 53904.])"
      ]
     },
     "execution_count": 27,
     "metadata": {},
     "output_type": "execute_result"
    }
   ],
   "source": [
    "np.percentile(orders['revenue'], [95, 99])"
   ]
  },
  {
   "cell_type": "markdown",
   "metadata": {},
   "source": [
    "Получается, что не более 5% заказов дороже 26 758, а дороже 53 904 только 1% заказов."
   ]
  },
  {
   "cell_type": "markdown",
   "metadata": {},
   "source": [
    "### Посчитать статистическую значимость различий в среднем количестве заказов на посетителя между группами по «сырым» данным. "
   ]
  },
  {
   "cell_type": "markdown",
   "metadata": {},
   "source": [
    "Посчитаем статистическую значимость различий в среднем числе заказов на пользователя между группами по «сырым» данным — без удаления аномальных пользователей.<br>\n",
    "**Н0:** Нет различий в среднем количестве заказов между группами.<br> \n",
    "**Н1:** Есть различия в среднем количестве заказов между группами."
   ]
  },
  {
   "cell_type": "code",
   "execution_count": 28,
   "metadata": {},
   "outputs": [],
   "source": [
    "visitorsADaily = visitors[visitors['group'] == 'A'][['date', 'visitors']]\n",
    "visitorsADaily.columns = ['date', 'visitorsPerDateA']\n",
    "\n",
    "visitorsACummulative = visitorsADaily.apply(\n",
    "    lambda x: visitorsADaily[visitorsADaily['date'] <= x['date']].agg(\n",
    "        {'date': 'max', 'visitorsPerDateA': 'sum'}\n",
    "    ),\n",
    "    axis=1,\n",
    ")\n",
    "visitorsACummulative.columns = ['date', 'visitorsCummulativeA']\n",
    "\n",
    "visitorsBDaily = visitors[visitors['group'] == 'B'][['date', 'visitors']]\n",
    "visitorsBDaily.columns = ['date', 'visitorsPerDateB']\n",
    "\n",
    "visitorsBCummulative = visitorsBDaily.apply(\n",
    "    lambda x: visitorsBDaily[visitorsBDaily['date'] <= x['date']].agg(\n",
    "        {'date': 'max', 'visitorsPerDateB': 'sum'}\n",
    "    ),\n",
    "    axis=1,\n",
    ")\n",
    "visitorsBCummulative.columns = ['date', 'visitorsCummulativeB']\n",
    "\n",
    "ordersADaily = (\n",
    "    orders[orders['group'] == 'A'][['date', 'transactionId', 'visitorId', 'revenue']]\n",
    "    .groupby('date', as_index=False)\n",
    "    .agg({'transactionId': pd.Series.nunique, 'revenue': 'sum'})\n",
    ")\n",
    "ordersADaily.columns = ['date', 'ordersPerDateA', 'revenuePerDateA']\n",
    "\n",
    "ordersACummulative = ordersADaily.apply(\n",
    "    lambda x: ordersADaily[ordersADaily['date'] <= x['date']].agg(\n",
    "        {'date': 'max', 'ordersPerDateA': 'sum', 'revenuePerDateA': 'sum'}\n",
    "    ),\n",
    "    axis=1,\n",
    ").sort_values(by=['date'])\n",
    "ordersACummulative.columns = [\n",
    "    'date',\n",
    "    'ordersCummulativeA',\n",
    "    'revenueCummulativeA',\n",
    "]\n",
    "\n",
    "ordersBDaily = (\n",
    "    orders[orders['group'] == 'B'][['date', 'transactionId', 'visitorId', 'revenue']]\n",
    "    .groupby('date', as_index=False)\n",
    "    .agg({'transactionId': pd.Series.nunique, 'revenue': 'sum'})\n",
    ")\n",
    "ordersBDaily.columns = ['date', 'ordersPerDateB', 'revenuePerDateB']\n",
    "\n",
    "ordersBCummulative = ordersBDaily.apply(\n",
    "    lambda x: ordersBDaily[ordersBDaily['date'] <= x['date']].agg(\n",
    "        {'date': 'max', 'ordersPerDateB': 'sum', 'revenuePerDateB': 'sum'}\n",
    "    ),\n",
    "    axis=1,\n",
    ").sort_values(by=['date'])\n",
    "ordersBCummulative.columns = [\n",
    "    'date',\n",
    "    'ordersCummulativeB',\n",
    "    'revenueCummulativeB',\n",
    "]\n",
    "\n",
    "data = (\n",
    "    ordersADaily.merge(\n",
    "        ordersBDaily, left_on='date', right_on='date', how='left'\n",
    "    )\n",
    "    .merge(ordersACummulative, left_on='date', right_on='date', how='left')\n",
    "    .merge(ordersBCummulative, left_on='date', right_on='date', how='left')\n",
    "    .merge(visitorsADaily, left_on='date', right_on='date', how='left')\n",
    "    .merge(visitorsBDaily, left_on='date', right_on='date', how='left')\n",
    "    .merge(visitorsACummulative, left_on='date', right_on='date', how='left')\n",
    "    .merge(visitorsBCummulative, left_on='date', right_on='date', how='left')\n",
    ")"
   ]
  },
  {
   "cell_type": "code",
   "execution_count": 29,
   "metadata": {},
   "outputs": [],
   "source": [
    "# Создадим переменные, с идентификарами пользователей, которые заказывали хотя бы 1 раз, и числом совершённых заказов. \n",
    "ordersByUsersA = (\n",
    "    orders[orders['group'] == 'A']\n",
    "    .groupby('visitorId', as_index=False)\n",
    "    .agg({'transactionId': pd.Series.nunique})\n",
    ")\n",
    "ordersByUsersA.columns = ['visitorId', 'orders']\n",
    "\n",
    "ordersByUsersB = (\n",
    "    orders[orders['group'] == 'B']\n",
    "    .groupby('visitorId', as_index=False)\n",
    "    .agg({'transactionId': pd.Series.nunique})\n",
    ")\n",
    "ordersByUsersB.columns = ['visitorId', 'orders'] "
   ]
  },
  {
   "cell_type": "code",
   "execution_count": 30,
   "metadata": {},
   "outputs": [],
   "source": [
    "# Создадим переменные, в которых пользователям из разных групп будет соответствовать количество заказов. \n",
    "# Тем, кто ничего не заказал, будут соответствовать нули.\n",
    "sampleA = pd.concat([ordersByUsersA['orders'],pd.Series(0, index=np.arange(data['visitorsPerDateA'].sum() \n",
    "                                                                           - len(ordersByUsersA['orders'])), name='orders')],axis=0)\n",
    "\n",
    "sampleB = pd.concat([ordersByUsersB['orders'],pd.Series(0, index=np.arange(data['visitorsPerDateB'].sum() \n",
    "                                                                           - len(ordersByUsersB['orders'])), name='orders')],axis=0)"
   ]
  },
  {
   "cell_type": "code",
   "execution_count": 31,
   "metadata": {},
   "outputs": [
    {
     "data": {
      "text/plain": [
       "'p-value различий в среднем количестве заказов: 0.011'"
      ]
     },
     "metadata": {},
     "output_type": "display_data"
    },
    {
     "data": {
      "text/plain": [
       "'Относительное различие в среднем между группами: 0.160'"
      ]
     },
     "execution_count": 31,
     "metadata": {},
     "output_type": "execute_result"
    }
   ],
   "source": [
    "# Выведим p-value для сравнения среднего количества заказов между группами по \"сырым\" данным.\n",
    "display(\"p-value различий в среднем количестве заказов: {0:.3f}\".format(st.mannwhitneyu(sampleA, sampleB)[1]))\n",
    "\"Относительное различие в среднем между группами: {0:.3f}\".format((data['ordersPerDateB'].sum()/data['visitorsPerDateB'].sum())/(data['ordersPerDateA'].sum()/data['visitorsPerDateA'].sum())-1)"
   ]
  },
  {
   "cell_type": "markdown",
   "metadata": {},
   "source": [
    "**Вывод:** p-value = 0.011, что меньше 0.05. Значит, нулевую гипотезу отвергаем, по «сырым» данным различия в среднем числе заказов групп A и B есть статистически значимые различия.<br>\n",
    "Относительное различие в среднем между группами 16%."
   ]
  },
  {
   "cell_type": "markdown",
   "metadata": {},
   "source": [
    "### Посчитать статистическую значимость различий в среднем чеке заказа между группами по «сырым» данным. "
   ]
  },
  {
   "cell_type": "markdown",
   "metadata": {},
   "source": [
    "Посчитаем статистическую значимость различий в среднем чеке на пользователя между группами по «сырым» данным — без удаления аномальных пользователей.<br>\n",
    "**Н0:** Нет различий в среднем чеке между группами.<br> \n",
    "**H1:** Есть различия в среднем чеке между группами."
   ]
  },
  {
   "cell_type": "code",
   "execution_count": 32,
   "metadata": {},
   "outputs": [
    {
     "data": {
      "text/plain": [
       "'p-value различий в среднем чеке заказа: 0.829'"
      ]
     },
     "metadata": {},
     "output_type": "display_data"
    },
    {
     "data": {
      "text/plain": [
       "'Относительное различие среднего чека между группами: 0.287'"
      ]
     },
     "execution_count": 32,
     "metadata": {},
     "output_type": "execute_result"
    }
   ],
   "source": [
    "# Выведим p-value для сравнения средних чеков между группами по \"сырым\" данным. \n",
    "display('p-value различий в среднем чеке заказа: {0:.3f}'.format(st.mannwhitneyu(orders[orders['group']=='A']['revenue'], orders[orders['group']=='B']['revenue'])[1]))\n",
    "'Относительное различие среднего чека между группами: {0:.3f}'.format(orders[orders['group']=='B']['revenue'].mean()/orders[orders['group']=='A']['revenue'].mean()-1)"
   ]
  },
  {
   "cell_type": "markdown",
   "metadata": {},
   "source": [
    "**Вывод:** По «сырым» данным различий в среднем чеке групп A и B нет. \n",
    "p-value = 0.829 больше 0.05. Значит, нулевую гипотезу о том, что статистически значимых различий в среднем чеке между группами нет, не отвергаем."
   ]
  },
  {
   "cell_type": "markdown",
   "metadata": {},
   "source": [
    "### Посчитать статистическую значимость различий в среднем количестве заказов на посетителя между группами по «очищенным» данным."
   ]
  },
  {
   "cell_type": "markdown",
   "metadata": {},
   "source": [
    "Примем за аномальных пользователей тех, кто совершил больше 2 заказов, и совершил заказ на сумму свыше 40 000 рублей. Так мы уберём 1% пользователей с наибольшим числом заказов и от 1% до 5% с заказами с наибольшей стоимостью."
   ]
  },
  {
   "cell_type": "code",
   "execution_count": 33,
   "metadata": {},
   "outputs": [
    {
     "data": {
      "text/plain": [
       "30"
      ]
     },
     "execution_count": 33,
     "metadata": {},
     "output_type": "execute_result"
    }
   ],
   "source": [
    "order_lim = 2\n",
    "revenue_lim = 40000\n",
    "usersWithManyOrders = pd.concat(\n",
    "    [\n",
    "        ordersByUsersA[ordersByUsersA['orders'] > order_lim]['visitorId'],\n",
    "        ordersByUsersB[ordersByUsersB['orders'] > order_lim]['visitorId'],\n",
    "    ],\n",
    "    axis=0,\n",
    ")\n",
    "usersWithExpensiveOrders = orders[orders['revenue'] > revenue_lim]['visitorId']\n",
    "abnormalUsers = (\n",
    "    pd.concat([usersWithManyOrders, usersWithExpensiveOrders], axis=0)\n",
    "    .drop_duplicates()\n",
    "    .sort_values()\n",
    ")\n",
    "abnormalUsers.shape[0]"
   ]
  },
  {
   "cell_type": "markdown",
   "metadata": {},
   "source": [
    "Получили 30 аномальных пользователей. \n",
    "\n",
    "Посчитаем статистическую значимость различий в среднем числе заказов на пользователя между группами по «очищенным» от выбросов данным.<br>\n",
    "**Н0:** Нет различий в среднем количестве заказов между группами.<br> \n",
    "**Н1:** Есть различия в среднем количестве заказов между группами."
   ]
  },
  {
   "cell_type": "code",
   "execution_count": 34,
   "metadata": {},
   "outputs": [
    {
     "data": {
      "text/plain": [
       "'p-value различий в среднем количестве заказов: 0.004'"
      ]
     },
     "metadata": {},
     "output_type": "display_data"
    },
    {
     "data": {
      "text/plain": [
       "'Относительное различие в среднем между группами: 0.205'"
      ]
     },
     "execution_count": 34,
     "metadata": {},
     "output_type": "execute_result"
    }
   ],
   "source": [
    "# Очистим наши данные от аномальных пользователей\n",
    "sampleAFiltered = pd.concat([ordersByUsersA[np.logical_not(ordersByUsersA['visitorId'].isin(abnormalUsers))]['orders'],\n",
    "        pd.Series(0, index=np.arange(data['visitorsPerDateA'].sum() - len(ordersByUsersA['orders'])\n",
    "            ),name='orders')], axis=0,\n",
    ")\n",
    "\n",
    "sampleBFiltered = pd.concat([ordersByUsersB[np.logical_not(ordersByUsersB['visitorId'].isin(abnormalUsers))]['orders'],\n",
    "        pd.Series(0, index=np.arange(data['visitorsPerDateB'].sum() - len(ordersByUsersB['orders'])\n",
    "            ), name='orders')], axis=0,\n",
    ") \n",
    "# Выведим p-value для сравнения среднего количества заказов между группами.\n",
    "display('p-value различий в среднем количестве заказов: {0:.3f}'.format(st.mannwhitneyu(sampleAFiltered, sampleBFiltered)[1]))\n",
    "'Относительное различие в среднем между группами: {0:.3f}'.format(sampleBFiltered.mean()/sampleAFiltered.mean()-1)"
   ]
  },
  {
   "cell_type": "markdown",
   "metadata": {},
   "source": [
    "**Вывод:** p-value = 0.004, что попрежнему меньше 0.05. Значит, нулевую гипотезу отвергаем. После удаления аномальных данных p-value различий в среднем количестве заказов стал еще меньше."
   ]
  },
  {
   "cell_type": "markdown",
   "metadata": {},
   "source": [
    "### Посчитать статистическую значимость различий в среднем чеке заказа между группами по «очищенным» данным. "
   ]
  },
  {
   "cell_type": "markdown",
   "metadata": {},
   "source": [
    "Посчитаем статистическую значимость различий в среднем чеке на пользователя между группами по «очищенным» данным.<br>\n",
    "**Н0:** Нет различий в среднем чеке между группами.<br> \n",
    "**H1:** Есть различия в среднем чеке между группами."
   ]
  },
  {
   "cell_type": "code",
   "execution_count": 35,
   "metadata": {},
   "outputs": [
    {
     "data": {
      "text/plain": [
       "'p-value различий в среднем чеке заказа: 0.937'"
      ]
     },
     "metadata": {},
     "output_type": "display_data"
    },
    {
     "data": {
      "text/plain": [
       "'Относительное различие среднего чека между группами: 0.055'"
      ]
     },
     "execution_count": 35,
     "metadata": {},
     "output_type": "execute_result"
    }
   ],
   "source": [
    "display('p-value различий в среднем чеке заказа: {0:.3f}'.format(\n",
    "        st.mannwhitneyu(orders[np.logical_and(orders['group'] == 'A', np.logical_not(orders['visitorId'].isin(abnormalUsers)),)]['revenue'],\n",
    "            orders[np.logical_and(orders['group'] == 'B', np.logical_not(orders['visitorId'].isin(abnormalUsers)),)]['revenue'],)[1]\n",
    "    ))\n",
    "'Относительное различие среднего чека между группами: {0:.3f}'.format(\n",
    "        orders[np.logical_and(orders['group'] == 'B', np.logical_not(orders['visitorId'].isin(abnormalUsers)),)]['revenue'].mean()\n",
    "        / orders[np.logical_and(orders['group'] == 'A', np.logical_not(orders['visitorId'].isin(abnormalUsers)),)]['revenue'].mean()- 1\n",
    "    )"
   ]
  },
  {
   "cell_type": "markdown",
   "metadata": {},
   "source": [
    "**Вывод:** После исключения аномалий р-value увеличился, и всё также больше 0.05. Значит, нулевую гипотезу о том, что статистически значимых различий в среднем чеке между группами нет, не отвергаем. Относительное различие среднего чека между группами составило всего 5.5%, значит после удаления выбросов в данных стало меньше шума. <br>\n",
    "В итоге общие выводы по результатам теста не изменились, но несмотря на это надо помнить, что аномалии могут сильно влиять на результаты A/B-теста."
   ]
  },
  {
   "cell_type": "markdown",
   "metadata": {},
   "source": [
    "### Решение по результатам теста."
   ]
  },
  {
   "cell_type": "markdown",
   "metadata": {},
   "source": [
    "Остановить тест, зафиксировать победу группы В.\n",
    "- Есть статистически значимое различие в среднем количестве заказов между группами и по \"сырым\", и по \"очищенным\" от аномалий данным.\n",
    "- Статистически значимые различия в средних чеках групп A и B отстутствуют, также по \"сырым\" и по \"очищенным\" данным.\n",
    "- График относительного изменения кумулятивного среднего количества заказов на посетителя показывает, что результаты группы B лучше группы A и зафиксировались около прироста в 15%."
   ]
  },
  {
   "cell_type": "markdown",
   "metadata": {},
   "source": [
    "## Выводы по проекту"
   ]
  },
  {
   "cell_type": "markdown",
   "metadata": {},
   "source": [
    "Мы изучили данные, провели предобработку данных (названия столбцов перевели в нижний регистр, преобразовали данные в столбцах с датой к нужному типу).\n",
    "\n",
    "Далее провели приоритезацию гипотез. При применении RICE вместо ICE, приоритизация гипотез изменилась.\n",
    "- Наиболее перспективные гипотезы по ICE: 9, 1, 8.\n",
    "- Наиболее перспективные гипотезы по RICE: 8, 3, 1, 7.\n",
    "\n",
    "Далее провели анализ А/В-теста.\n",
    "- Нашли и исключили пользователей, которые попали в обе группы.\n",
    "- График кумулятивной выручки увеличивается в течение всего теста, наблюдается резкий рост группы В.\n",
    "- График кумулятивного среднего чека сильно колеблется, но здесь также виден всплеск группы В.\n",
    "- Кумулятивное среднее количества заказов группы А в начале теста было больше, и затем пошло на спад, а среднее количество заказов группы В вырвалось вперёд.\n",
    "- В начале теста группа B значительно проигрывала группе A, затем вырвалась вперёд и зафиксировалась около прироста в 15% относительно группы А.\n",
    "\n",
    "Посчитали 95-й и 99-й перцентили количества и стоимости заказов на пользователя и определили границы аномальных пользователей.\n",
    "\n",
    "При проверке статистической значимости гипотез и по \"сырым\" и по \"очищенным\" данным выявили:\n",
    "- Различия в среднем количестве заказов между группами есть.\n",
    "- Различий в среднем чеке между группами нет.\n",
    "\n",
    "По результатам анализа приняли решение: Остановить тест, зафиксировать победу группы В."
   ]
  }
 ],
 "metadata": {
  "ExecuteTimeLog": [
   {
    "duration": 1420,
    "start_time": "2024-07-17T08:43:40.317Z"
   },
   {
    "duration": 3,
    "start_time": "2024-07-17T08:43:49.362Z"
   },
   {
    "duration": 216,
    "start_time": "2024-07-17T08:43:51.815Z"
   },
   {
    "duration": 8,
    "start_time": "2024-07-17T08:44:07.326Z"
   },
   {
    "duration": 23,
    "start_time": "2024-07-17T08:44:21.407Z"
   },
   {
    "duration": 18,
    "start_time": "2024-07-17T08:44:42.654Z"
   },
   {
    "duration": 18,
    "start_time": "2024-07-17T08:46:40.844Z"
   },
   {
    "duration": 19,
    "start_time": "2024-07-17T08:48:33.843Z"
   },
   {
    "duration": 6,
    "start_time": "2024-07-17T09:27:50.522Z"
   },
   {
    "duration": 5,
    "start_time": "2024-07-17T09:27:58.066Z"
   },
   {
    "duration": 7,
    "start_time": "2024-07-17T09:35:52.532Z"
   },
   {
    "duration": 9,
    "start_time": "2024-07-17T09:36:17.507Z"
   },
   {
    "duration": 7,
    "start_time": "2024-07-17T09:36:25.394Z"
   },
   {
    "duration": 7,
    "start_time": "2024-07-17T09:36:27.547Z"
   },
   {
    "duration": 11,
    "start_time": "2024-07-17T09:37:14.820Z"
   },
   {
    "duration": 17,
    "start_time": "2024-07-17T11:21:05.450Z"
   },
   {
    "duration": 12,
    "start_time": "2024-07-17T11:22:02.674Z"
   },
   {
    "duration": 1232,
    "start_time": "2024-07-17T11:23:12.152Z"
   },
   {
    "duration": 72,
    "start_time": "2024-07-17T11:23:13.386Z"
   },
   {
    "duration": 23,
    "start_time": "2024-07-17T11:23:13.460Z"
   },
   {
    "duration": 20,
    "start_time": "2024-07-17T11:23:13.485Z"
   },
   {
    "duration": 22,
    "start_time": "2024-07-17T11:23:13.506Z"
   },
   {
    "duration": 5,
    "start_time": "2024-07-17T11:23:13.556Z"
   },
   {
    "duration": 20,
    "start_time": "2024-07-17T11:23:13.562Z"
   },
   {
    "duration": 23,
    "start_time": "2024-07-17T11:23:13.584Z"
   },
   {
    "duration": 20,
    "start_time": "2024-07-17T11:23:13.608Z"
   },
   {
    "duration": 11,
    "start_time": "2024-07-17T11:24:13.175Z"
   },
   {
    "duration": 10,
    "start_time": "2024-07-17T11:24:40.743Z"
   },
   {
    "duration": 13,
    "start_time": "2024-07-17T11:29:45.908Z"
   },
   {
    "duration": 66,
    "start_time": "2024-07-17T12:19:25.581Z"
   },
   {
    "duration": 121,
    "start_time": "2024-07-17T12:19:38.539Z"
   },
   {
    "duration": 335,
    "start_time": "2024-07-17T12:21:34.820Z"
   },
   {
    "duration": 285,
    "start_time": "2024-07-17T12:23:35.336Z"
   },
   {
    "duration": 256,
    "start_time": "2024-07-17T12:27:30.015Z"
   },
   {
    "duration": 217,
    "start_time": "2024-07-17T12:27:51.869Z"
   },
   {
    "duration": 251,
    "start_time": "2024-07-17T12:28:02.340Z"
   },
   {
    "duration": 183,
    "start_time": "2024-07-17T12:28:39.725Z"
   },
   {
    "duration": 20,
    "start_time": "2024-07-17T12:29:16.796Z"
   },
   {
    "duration": 258,
    "start_time": "2024-07-17T12:29:27.475Z"
   },
   {
    "duration": 210,
    "start_time": "2024-07-17T12:32:00.717Z"
   },
   {
    "duration": 210,
    "start_time": "2024-07-17T12:35:01.815Z"
   },
   {
    "duration": 370,
    "start_time": "2024-07-17T12:38:38.878Z"
   },
   {
    "duration": 301,
    "start_time": "2024-07-17T12:38:51.179Z"
   },
   {
    "duration": 296,
    "start_time": "2024-07-17T12:40:19.996Z"
   },
   {
    "duration": 307,
    "start_time": "2024-07-17T12:40:27.170Z"
   },
   {
    "duration": 300,
    "start_time": "2024-07-17T12:42:05.610Z"
   },
   {
    "duration": 222,
    "start_time": "2024-07-17T12:44:03.160Z"
   },
   {
    "duration": 216,
    "start_time": "2024-07-17T12:44:24.607Z"
   },
   {
    "duration": 227,
    "start_time": "2024-07-17T12:46:38.038Z"
   },
   {
    "duration": 398,
    "start_time": "2024-07-17T12:53:21.025Z"
   },
   {
    "duration": 363,
    "start_time": "2024-07-17T12:53:50.871Z"
   },
   {
    "duration": 334,
    "start_time": "2024-07-17T12:54:18.423Z"
   },
   {
    "duration": 459,
    "start_time": "2024-07-17T12:54:48.823Z"
   },
   {
    "duration": 10,
    "start_time": "2024-07-17T12:56:36.086Z"
   },
   {
    "duration": 126,
    "start_time": "2024-07-17T12:57:15.862Z"
   },
   {
    "duration": 161,
    "start_time": "2024-07-17T12:57:47.445Z"
   },
   {
    "duration": 10,
    "start_time": "2024-07-17T13:05:22.639Z"
   },
   {
    "duration": 139,
    "start_time": "2024-07-17T13:05:24.576Z"
   },
   {
    "duration": 154,
    "start_time": "2024-07-17T13:09:48.003Z"
   },
   {
    "duration": 6,
    "start_time": "2024-07-17T13:12:07.545Z"
   },
   {
    "duration": 5,
    "start_time": "2024-07-17T13:12:23.875Z"
   },
   {
    "duration": 184,
    "start_time": "2024-07-17T13:15:55.918Z"
   },
   {
    "duration": 50,
    "start_time": "2024-07-18T06:37:04.388Z"
   },
   {
    "duration": 1380,
    "start_time": "2024-07-18T06:37:18.009Z"
   },
   {
    "duration": 254,
    "start_time": "2024-07-18T06:37:19.391Z"
   },
   {
    "duration": 24,
    "start_time": "2024-07-18T06:37:19.647Z"
   },
   {
    "duration": 21,
    "start_time": "2024-07-18T06:37:19.673Z"
   },
   {
    "duration": 19,
    "start_time": "2024-07-18T06:37:19.695Z"
   },
   {
    "duration": 5,
    "start_time": "2024-07-18T06:37:19.716Z"
   },
   {
    "duration": 11,
    "start_time": "2024-07-18T06:37:19.722Z"
   },
   {
    "duration": 28,
    "start_time": "2024-07-18T06:37:19.735Z"
   },
   {
    "duration": 14,
    "start_time": "2024-07-18T06:37:19.765Z"
   },
   {
    "duration": 26,
    "start_time": "2024-07-18T06:37:19.781Z"
   },
   {
    "duration": 314,
    "start_time": "2024-07-18T06:37:19.808Z"
   },
   {
    "duration": 329,
    "start_time": "2024-07-18T06:37:20.123Z"
   },
   {
    "duration": 230,
    "start_time": "2024-07-18T06:37:20.454Z"
   },
   {
    "duration": 396,
    "start_time": "2024-07-18T06:37:20.686Z"
   },
   {
    "duration": 252,
    "start_time": "2024-07-18T06:37:21.083Z"
   },
   {
    "duration": 316,
    "start_time": "2024-07-18T06:37:21.337Z"
   },
   {
    "duration": 6,
    "start_time": "2024-07-18T06:37:21.655Z"
   },
   {
    "duration": 177,
    "start_time": "2024-07-18T06:37:21.662Z"
   },
   {
    "duration": 5,
    "start_time": "2024-07-18T06:37:21.840Z"
   },
   {
    "duration": 182,
    "start_time": "2024-07-18T06:37:21.847Z"
   },
   {
    "duration": 237,
    "start_time": "2024-07-18T06:37:22.031Z"
   },
   {
    "duration": 207,
    "start_time": "2024-07-18T06:41:14.120Z"
   },
   {
    "duration": 184,
    "start_time": "2024-07-18T06:44:02.206Z"
   },
   {
    "duration": 5,
    "start_time": "2024-07-18T06:47:26.147Z"
   },
   {
    "duration": 6,
    "start_time": "2024-07-18T06:48:05.938Z"
   },
   {
    "duration": 132,
    "start_time": "2024-07-18T10:54:41.440Z"
   },
   {
    "duration": 218,
    "start_time": "2024-07-18T11:02:13.378Z"
   },
   {
    "duration": 139,
    "start_time": "2024-07-18T11:02:14.706Z"
   },
   {
    "duration": 6,
    "start_time": "2024-07-18T11:02:15.618Z"
   },
   {
    "duration": 10,
    "start_time": "2024-07-18T11:03:38.650Z"
   },
   {
    "duration": 26,
    "start_time": "2024-07-18T11:04:01.913Z"
   },
   {
    "duration": 26,
    "start_time": "2024-07-18T11:04:22.272Z"
   },
   {
    "duration": 32,
    "start_time": "2024-07-18T11:07:02.825Z"
   },
   {
    "duration": 25,
    "start_time": "2024-07-18T11:07:10.854Z"
   },
   {
    "duration": 25,
    "start_time": "2024-07-18T11:07:31.262Z"
   },
   {
    "duration": 25,
    "start_time": "2024-07-18T11:10:00.541Z"
   },
   {
    "duration": 9,
    "start_time": "2024-07-18T11:14:37.808Z"
   },
   {
    "duration": 9,
    "start_time": "2024-07-18T11:14:46.816Z"
   },
   {
    "duration": 1009,
    "start_time": "2024-07-18T11:37:26.072Z"
   },
   {
    "duration": 136,
    "start_time": "2024-07-18T11:38:00.046Z"
   },
   {
    "duration": 7,
    "start_time": "2024-07-18T11:38:01.138Z"
   },
   {
    "duration": 27,
    "start_time": "2024-07-18T11:38:02.270Z"
   },
   {
    "duration": 9,
    "start_time": "2024-07-18T11:38:07.365Z"
   },
   {
    "duration": 9,
    "start_time": "2024-07-18T11:38:12.208Z"
   },
   {
    "duration": 7,
    "start_time": "2024-07-18T11:40:10.503Z"
   },
   {
    "duration": 14,
    "start_time": "2024-07-18T11:40:29.196Z"
   },
   {
    "duration": 30,
    "start_time": "2024-07-18T11:40:38.087Z"
   },
   {
    "duration": 10,
    "start_time": "2024-07-18T11:44:46.209Z"
   },
   {
    "duration": 1001,
    "start_time": "2024-07-18T11:44:55.888Z"
   },
   {
    "duration": 10,
    "start_time": "2024-07-18T11:45:12.665Z"
   },
   {
    "duration": 11,
    "start_time": "2024-07-18T11:46:05.856Z"
   },
   {
    "duration": 1389,
    "start_time": "2024-07-19T06:11:24.578Z"
   },
   {
    "duration": 226,
    "start_time": "2024-07-19T06:11:25.969Z"
   },
   {
    "duration": 25,
    "start_time": "2024-07-19T06:11:26.197Z"
   },
   {
    "duration": 21,
    "start_time": "2024-07-19T06:11:26.225Z"
   },
   {
    "duration": 21,
    "start_time": "2024-07-19T06:11:26.248Z"
   },
   {
    "duration": 5,
    "start_time": "2024-07-19T06:11:26.270Z"
   },
   {
    "duration": 9,
    "start_time": "2024-07-19T06:11:26.276Z"
   },
   {
    "duration": 18,
    "start_time": "2024-07-19T06:11:26.286Z"
   },
   {
    "duration": 13,
    "start_time": "2024-07-19T06:11:26.305Z"
   },
   {
    "duration": 44,
    "start_time": "2024-07-19T06:11:26.321Z"
   },
   {
    "duration": 314,
    "start_time": "2024-07-19T06:11:26.367Z"
   },
   {
    "duration": 308,
    "start_time": "2024-07-19T06:11:26.683Z"
   },
   {
    "duration": 236,
    "start_time": "2024-07-19T06:11:26.993Z"
   },
   {
    "duration": 394,
    "start_time": "2024-07-19T06:11:27.231Z"
   },
   {
    "duration": 286,
    "start_time": "2024-07-19T06:11:27.627Z"
   },
   {
    "duration": 331,
    "start_time": "2024-07-19T06:11:27.915Z"
   },
   {
    "duration": 6,
    "start_time": "2024-07-19T06:11:28.248Z"
   },
   {
    "duration": 174,
    "start_time": "2024-07-19T06:11:28.264Z"
   },
   {
    "duration": 6,
    "start_time": "2024-07-19T06:11:28.440Z"
   },
   {
    "duration": 179,
    "start_time": "2024-07-19T06:11:28.448Z"
   },
   {
    "duration": 176,
    "start_time": "2024-07-19T06:11:28.630Z"
   },
   {
    "duration": 5,
    "start_time": "2024-07-19T06:11:28.808Z"
   },
   {
    "duration": 330,
    "start_time": "2024-07-19T06:11:28.815Z"
   },
   {
    "duration": 134,
    "start_time": "2024-07-19T06:11:29.147Z"
   },
   {
    "duration": 6,
    "start_time": "2024-07-19T06:11:29.283Z"
   },
   {
    "duration": 38,
    "start_time": "2024-07-19T06:11:29.290Z"
   },
   {
    "duration": 9,
    "start_time": "2024-07-19T06:11:29.329Z"
   },
   {
    "duration": 25,
    "start_time": "2024-07-19T06:11:29.341Z"
   },
   {
    "duration": 38,
    "start_time": "2024-07-19T06:11:29.367Z"
   },
   {
    "duration": 12,
    "start_time": "2024-07-19T06:11:29.406Z"
   },
   {
    "duration": 10,
    "start_time": "2024-07-19T06:27:28.594Z"
   },
   {
    "duration": 8,
    "start_time": "2024-07-19T06:44:50.632Z"
   },
   {
    "duration": 7,
    "start_time": "2024-07-19T06:46:10.805Z"
   },
   {
    "duration": 104,
    "start_time": "2024-07-19T06:46:29.910Z"
   },
   {
    "duration": 5,
    "start_time": "2024-07-19T06:47:38.667Z"
   },
   {
    "duration": 13,
    "start_time": "2024-07-19T06:49:19.034Z"
   },
   {
    "duration": 11,
    "start_time": "2024-07-19T06:50:05.177Z"
   },
   {
    "duration": 7,
    "start_time": "2024-07-19T06:52:41.104Z"
   },
   {
    "duration": 5,
    "start_time": "2024-07-19T06:53:13.495Z"
   },
   {
    "duration": 6,
    "start_time": "2024-07-19T06:55:10.662Z"
   },
   {
    "duration": 34,
    "start_time": "2024-07-19T07:17:36.989Z"
   },
   {
    "duration": 10,
    "start_time": "2024-07-19T07:19:51.548Z"
   },
   {
    "duration": 9,
    "start_time": "2024-07-19T07:20:19.403Z"
   },
   {
    "duration": 17,
    "start_time": "2024-07-19T07:45:17.904Z"
   },
   {
    "duration": 12,
    "start_time": "2024-07-19T07:45:44.831Z"
   },
   {
    "duration": 7,
    "start_time": "2024-07-19T07:53:40.970Z"
   },
   {
    "duration": 13,
    "start_time": "2024-07-19T07:53:54.945Z"
   },
   {
    "duration": 1172,
    "start_time": "2024-07-19T07:59:09.471Z"
   },
   {
    "duration": 76,
    "start_time": "2024-07-19T07:59:10.645Z"
   },
   {
    "duration": 31,
    "start_time": "2024-07-19T07:59:10.724Z"
   },
   {
    "duration": 23,
    "start_time": "2024-07-19T07:59:10.758Z"
   },
   {
    "duration": 22,
    "start_time": "2024-07-19T07:59:10.782Z"
   },
   {
    "duration": 15,
    "start_time": "2024-07-19T07:59:10.806Z"
   },
   {
    "duration": 7,
    "start_time": "2024-07-19T07:59:10.823Z"
   },
   {
    "duration": 39,
    "start_time": "2024-07-19T07:59:10.831Z"
   },
   {
    "duration": 5,
    "start_time": "2024-07-19T07:59:10.871Z"
   },
   {
    "duration": 6,
    "start_time": "2024-07-19T07:59:10.878Z"
   },
   {
    "duration": 10,
    "start_time": "2024-07-19T07:59:10.885Z"
   },
   {
    "duration": 12,
    "start_time": "2024-07-19T07:59:10.896Z"
   },
   {
    "duration": 11,
    "start_time": "2024-07-19T07:59:10.910Z"
   },
   {
    "duration": 51,
    "start_time": "2024-07-19T07:59:10.923Z"
   },
   {
    "duration": 309,
    "start_time": "2024-07-19T07:59:10.975Z"
   },
   {
    "duration": 316,
    "start_time": "2024-07-19T07:59:11.286Z"
   },
   {
    "duration": 252,
    "start_time": "2024-07-19T07:59:11.604Z"
   },
   {
    "duration": 333,
    "start_time": "2024-07-19T07:59:11.858Z"
   },
   {
    "duration": 263,
    "start_time": "2024-07-19T07:59:12.193Z"
   },
   {
    "duration": 335,
    "start_time": "2024-07-19T07:59:12.458Z"
   },
   {
    "duration": 7,
    "start_time": "2024-07-19T07:59:12.795Z"
   },
   {
    "duration": 187,
    "start_time": "2024-07-19T07:59:12.803Z"
   },
   {
    "duration": 5,
    "start_time": "2024-07-19T07:59:12.991Z"
   },
   {
    "duration": 176,
    "start_time": "2024-07-19T07:59:12.998Z"
   },
   {
    "duration": 170,
    "start_time": "2024-07-19T07:59:13.175Z"
   },
   {
    "duration": 4,
    "start_time": "2024-07-19T07:59:13.347Z"
   },
   {
    "duration": 317,
    "start_time": "2024-07-19T07:59:13.353Z"
   },
   {
    "duration": 142,
    "start_time": "2024-07-19T07:59:13.673Z"
   },
   {
    "duration": 7,
    "start_time": "2024-07-19T07:59:13.817Z"
   },
   {
    "duration": 44,
    "start_time": "2024-07-19T07:59:13.825Z"
   },
   {
    "duration": 11,
    "start_time": "2024-07-19T07:59:13.872Z"
   },
   {
    "duration": 16,
    "start_time": "2024-07-19T07:59:13.885Z"
   },
   {
    "duration": 64,
    "start_time": "2024-07-19T07:59:13.903Z"
   },
   {
    "duration": 11,
    "start_time": "2024-07-19T07:59:13.969Z"
   },
   {
    "duration": 351,
    "start_time": "2024-07-19T08:54:35.531Z"
   },
   {
    "duration": 382,
    "start_time": "2024-07-19T10:21:38.953Z"
   },
   {
    "duration": 3,
    "start_time": "2024-07-19T10:22:40.880Z"
   },
   {
    "duration": 216,
    "start_time": "2024-07-19T10:22:47.821Z"
   },
   {
    "duration": 236,
    "start_time": "2024-07-19T10:24:46.228Z"
   },
   {
    "duration": 341,
    "start_time": "2024-07-19T10:33:37.454Z"
   },
   {
    "duration": 12,
    "start_time": "2024-07-19T10:42:04.711Z"
   },
   {
    "duration": 20,
    "start_time": "2024-07-19T10:42:27.782Z"
   },
   {
    "duration": 12,
    "start_time": "2024-07-19T10:42:51.022Z"
   },
   {
    "duration": 26,
    "start_time": "2024-07-19T11:08:09.460Z"
   },
   {
    "duration": 10,
    "start_time": "2024-07-19T11:14:24.743Z"
   },
   {
    "duration": 35,
    "start_time": "2024-07-19T11:23:31.768Z"
   },
   {
    "duration": 32,
    "start_time": "2024-07-19T11:25:47.630Z"
   },
   {
    "duration": 11,
    "start_time": "2024-07-19T11:28:40.563Z"
   },
   {
    "duration": 1338,
    "start_time": "2024-07-19T12:32:39.453Z"
   },
   {
    "duration": 76,
    "start_time": "2024-07-19T12:32:40.794Z"
   },
   {
    "duration": 27,
    "start_time": "2024-07-19T12:32:40.872Z"
   },
   {
    "duration": 29,
    "start_time": "2024-07-19T12:32:40.901Z"
   },
   {
    "duration": 55,
    "start_time": "2024-07-19T12:32:40.932Z"
   },
   {
    "duration": 7,
    "start_time": "2024-07-19T12:32:40.989Z"
   },
   {
    "duration": 9,
    "start_time": "2024-07-19T12:32:40.998Z"
   },
   {
    "duration": 29,
    "start_time": "2024-07-19T12:32:41.008Z"
   },
   {
    "duration": 29,
    "start_time": "2024-07-19T12:32:41.039Z"
   },
   {
    "duration": 19,
    "start_time": "2024-07-19T12:32:41.069Z"
   },
   {
    "duration": 13,
    "start_time": "2024-07-19T12:32:41.090Z"
   },
   {
    "duration": 25,
    "start_time": "2024-07-19T12:32:41.104Z"
   },
   {
    "duration": 18,
    "start_time": "2024-07-19T12:32:41.131Z"
   },
   {
    "duration": 29,
    "start_time": "2024-07-19T12:32:41.152Z"
   },
   {
    "duration": 377,
    "start_time": "2024-07-19T12:32:41.183Z"
   },
   {
    "duration": 349,
    "start_time": "2024-07-19T12:32:41.561Z"
   },
   {
    "duration": 233,
    "start_time": "2024-07-19T12:32:41.912Z"
   },
   {
    "duration": 333,
    "start_time": "2024-07-19T12:32:42.146Z"
   },
   {
    "duration": 254,
    "start_time": "2024-07-19T12:32:42.481Z"
   },
   {
    "duration": 366,
    "start_time": "2024-07-19T12:32:42.737Z"
   },
   {
    "duration": 12,
    "start_time": "2024-07-19T12:32:43.106Z"
   },
   {
    "duration": 199,
    "start_time": "2024-07-19T12:32:43.120Z"
   },
   {
    "duration": 6,
    "start_time": "2024-07-19T12:32:43.321Z"
   },
   {
    "duration": 227,
    "start_time": "2024-07-19T12:32:43.328Z"
   },
   {
    "duration": 179,
    "start_time": "2024-07-19T12:32:43.557Z"
   },
   {
    "duration": 5,
    "start_time": "2024-07-19T12:32:43.738Z"
   },
   {
    "duration": 330,
    "start_time": "2024-07-19T12:32:43.745Z"
   },
   {
    "duration": 143,
    "start_time": "2024-07-19T12:32:44.077Z"
   },
   {
    "duration": 8,
    "start_time": "2024-07-19T12:32:44.222Z"
   },
   {
    "duration": 47,
    "start_time": "2024-07-19T12:32:44.231Z"
   },
   {
    "duration": 10,
    "start_time": "2024-07-19T12:32:44.280Z"
   },
   {
    "duration": 13,
    "start_time": "2024-07-19T12:32:44.292Z"
   },
   {
    "duration": 46,
    "start_time": "2024-07-19T12:32:44.307Z"
   },
   {
    "duration": 17,
    "start_time": "2024-07-19T12:32:44.354Z"
   },
   {
    "duration": 1431,
    "start_time": "2024-07-19T12:56:19.069Z"
   },
   {
    "duration": 239,
    "start_time": "2024-07-19T12:56:20.502Z"
   },
   {
    "duration": 22,
    "start_time": "2024-07-19T12:56:20.743Z"
   },
   {
    "duration": 16,
    "start_time": "2024-07-19T12:56:20.767Z"
   },
   {
    "duration": 21,
    "start_time": "2024-07-19T12:56:20.784Z"
   },
   {
    "duration": 23,
    "start_time": "2024-07-19T12:56:20.806Z"
   },
   {
    "duration": 8,
    "start_time": "2024-07-19T12:56:20.831Z"
   },
   {
    "duration": 12,
    "start_time": "2024-07-19T12:56:20.841Z"
   },
   {
    "duration": 12,
    "start_time": "2024-07-19T12:56:20.854Z"
   },
   {
    "duration": 23,
    "start_time": "2024-07-19T12:56:20.868Z"
   },
   {
    "duration": 44,
    "start_time": "2024-07-19T12:56:20.893Z"
   },
   {
    "duration": 17,
    "start_time": "2024-07-19T12:56:20.938Z"
   },
   {
    "duration": 12,
    "start_time": "2024-07-19T12:56:20.956Z"
   },
   {
    "duration": 15,
    "start_time": "2024-07-19T12:56:20.970Z"
   },
   {
    "duration": 295,
    "start_time": "2024-07-19T12:56:20.987Z"
   },
   {
    "duration": 281,
    "start_time": "2024-07-19T12:56:21.283Z"
   },
   {
    "duration": 218,
    "start_time": "2024-07-19T12:56:21.566Z"
   },
   {
    "duration": 347,
    "start_time": "2024-07-19T12:56:21.785Z"
   },
   {
    "duration": 211,
    "start_time": "2024-07-19T12:56:22.133Z"
   },
   {
    "duration": 336,
    "start_time": "2024-07-19T12:56:22.346Z"
   },
   {
    "duration": 11,
    "start_time": "2024-07-19T12:56:22.683Z"
   },
   {
    "duration": 164,
    "start_time": "2024-07-19T12:56:22.695Z"
   },
   {
    "duration": 4,
    "start_time": "2024-07-19T12:56:22.861Z"
   },
   {
    "duration": 170,
    "start_time": "2024-07-19T12:56:22.867Z"
   },
   {
    "duration": 169,
    "start_time": "2024-07-19T12:56:23.038Z"
   },
   {
    "duration": 5,
    "start_time": "2024-07-19T12:56:23.208Z"
   },
   {
    "duration": 298,
    "start_time": "2024-07-19T12:56:23.215Z"
   },
   {
    "duration": 129,
    "start_time": "2024-07-19T12:56:23.516Z"
   },
   {
    "duration": 5,
    "start_time": "2024-07-19T12:56:23.646Z"
   },
   {
    "duration": 46,
    "start_time": "2024-07-19T12:56:23.653Z"
   },
   {
    "duration": 9,
    "start_time": "2024-07-19T12:56:23.701Z"
   },
   {
    "duration": 23,
    "start_time": "2024-07-19T12:56:23.711Z"
   },
   {
    "duration": 46,
    "start_time": "2024-07-19T12:56:23.736Z"
   },
   {
    "duration": 9,
    "start_time": "2024-07-19T12:56:23.784Z"
   },
   {
    "duration": 1426,
    "start_time": "2024-07-22T05:27:00.899Z"
   },
   {
    "duration": 237,
    "start_time": "2024-07-22T05:27:02.327Z"
   },
   {
    "duration": 28,
    "start_time": "2024-07-22T05:27:02.566Z"
   },
   {
    "duration": 26,
    "start_time": "2024-07-22T05:27:02.597Z"
   },
   {
    "duration": 38,
    "start_time": "2024-07-22T05:27:02.625Z"
   },
   {
    "duration": 6,
    "start_time": "2024-07-22T05:27:02.665Z"
   },
   {
    "duration": 21,
    "start_time": "2024-07-22T05:27:02.673Z"
   },
   {
    "duration": 53,
    "start_time": "2024-07-22T05:27:02.696Z"
   },
   {
    "duration": 39,
    "start_time": "2024-07-22T05:27:02.752Z"
   },
   {
    "duration": 55,
    "start_time": "2024-07-22T05:27:02.795Z"
   },
   {
    "duration": 17,
    "start_time": "2024-07-22T05:27:02.852Z"
   },
   {
    "duration": 16,
    "start_time": "2024-07-22T05:27:02.871Z"
   },
   {
    "duration": 11,
    "start_time": "2024-07-22T05:27:02.889Z"
   },
   {
    "duration": 11,
    "start_time": "2024-07-22T05:27:02.902Z"
   },
   {
    "duration": 319,
    "start_time": "2024-07-22T05:27:02.915Z"
   },
   {
    "duration": 316,
    "start_time": "2024-07-22T05:27:03.235Z"
   },
   {
    "duration": 268,
    "start_time": "2024-07-22T05:27:03.553Z"
   },
   {
    "duration": 392,
    "start_time": "2024-07-22T05:27:03.822Z"
   },
   {
    "duration": 252,
    "start_time": "2024-07-22T05:27:04.216Z"
   },
   {
    "duration": 336,
    "start_time": "2024-07-22T05:27:04.470Z"
   },
   {
    "duration": 12,
    "start_time": "2024-07-22T05:27:04.808Z"
   },
   {
    "duration": 200,
    "start_time": "2024-07-22T05:27:04.822Z"
   },
   {
    "duration": 6,
    "start_time": "2024-07-22T05:27:05.024Z"
   },
   {
    "duration": 180,
    "start_time": "2024-07-22T05:27:05.031Z"
   },
   {
    "duration": 191,
    "start_time": "2024-07-22T05:27:05.213Z"
   },
   {
    "duration": 5,
    "start_time": "2024-07-22T05:27:05.406Z"
   },
   {
    "duration": 311,
    "start_time": "2024-07-22T05:27:05.413Z"
   },
   {
    "duration": 152,
    "start_time": "2024-07-22T05:27:05.727Z"
   },
   {
    "duration": 6,
    "start_time": "2024-07-22T05:27:05.881Z"
   },
   {
    "duration": 55,
    "start_time": "2024-07-22T05:27:05.888Z"
   },
   {
    "duration": 11,
    "start_time": "2024-07-22T05:27:05.945Z"
   },
   {
    "duration": 39,
    "start_time": "2024-07-22T05:27:05.958Z"
   },
   {
    "duration": 67,
    "start_time": "2024-07-22T05:27:06.000Z"
   },
   {
    "duration": 17,
    "start_time": "2024-07-22T05:27:06.069Z"
   },
   {
    "duration": 17,
    "start_time": "2024-07-22T05:48:10.573Z"
   },
   {
    "duration": 12,
    "start_time": "2024-07-22T05:48:28.987Z"
   },
   {
    "duration": 1068,
    "start_time": "2024-07-22T05:49:22.154Z"
   },
   {
    "duration": 66,
    "start_time": "2024-07-22T05:49:39.555Z"
   },
   {
    "duration": 29,
    "start_time": "2024-07-22T06:05:56.222Z"
   },
   {
    "duration": 29,
    "start_time": "2024-07-22T06:06:04.109Z"
   },
   {
    "duration": 12,
    "start_time": "2024-07-22T06:10:45.861Z"
   },
   {
    "duration": 10,
    "start_time": "2024-07-22T06:14:31.672Z"
   },
   {
    "duration": 76,
    "start_time": "2024-07-22T06:16:19.582Z"
   },
   {
    "duration": 35,
    "start_time": "2024-07-22T06:16:30.574Z"
   },
   {
    "duration": 99,
    "start_time": "2024-07-22T06:19:25.277Z"
   },
   {
    "duration": 90,
    "start_time": "2024-07-22T06:19:56.515Z"
   },
   {
    "duration": 67,
    "start_time": "2024-07-22T06:20:58.290Z"
   },
   {
    "duration": 85,
    "start_time": "2024-07-22T06:21:56.330Z"
   },
   {
    "duration": 1283,
    "start_time": "2024-07-22T06:22:29.175Z"
   },
   {
    "duration": 81,
    "start_time": "2024-07-22T06:22:30.460Z"
   },
   {
    "duration": 41,
    "start_time": "2024-07-22T06:22:30.543Z"
   },
   {
    "duration": 184,
    "start_time": "2024-07-22T06:22:30.586Z"
   },
   {
    "duration": 105,
    "start_time": "2024-07-22T06:22:30.772Z"
   },
   {
    "duration": 64,
    "start_time": "2024-07-22T06:22:30.879Z"
   },
   {
    "duration": 76,
    "start_time": "2024-07-22T06:22:30.944Z"
   },
   {
    "duration": 57,
    "start_time": "2024-07-22T06:22:31.022Z"
   },
   {
    "duration": 33,
    "start_time": "2024-07-22T06:22:31.082Z"
   },
   {
    "duration": 26,
    "start_time": "2024-07-22T06:22:31.117Z"
   },
   {
    "duration": 101,
    "start_time": "2024-07-22T06:22:31.145Z"
   },
   {
    "duration": 7,
    "start_time": "2024-07-22T06:22:31.248Z"
   },
   {
    "duration": 38,
    "start_time": "2024-07-22T06:22:31.257Z"
   },
   {
    "duration": 39,
    "start_time": "2024-07-22T06:22:31.299Z"
   },
   {
    "duration": 47,
    "start_time": "2024-07-22T06:22:31.340Z"
   },
   {
    "duration": 334,
    "start_time": "2024-07-22T06:22:31.389Z"
   },
   {
    "duration": 317,
    "start_time": "2024-07-22T06:22:31.725Z"
   },
   {
    "duration": 239,
    "start_time": "2024-07-22T06:22:32.043Z"
   },
   {
    "duration": 298,
    "start_time": "2024-07-22T06:22:32.284Z"
   },
   {
    "duration": 274,
    "start_time": "2024-07-22T06:22:32.586Z"
   },
   {
    "duration": 334,
    "start_time": "2024-07-22T06:22:32.861Z"
   },
   {
    "duration": 16,
    "start_time": "2024-07-22T06:22:33.197Z"
   },
   {
    "duration": 201,
    "start_time": "2024-07-22T06:22:33.216Z"
   },
   {
    "duration": 5,
    "start_time": "2024-07-22T06:22:33.418Z"
   },
   {
    "duration": 175,
    "start_time": "2024-07-22T06:22:33.425Z"
   },
   {
    "duration": 249,
    "start_time": "2024-07-22T06:22:33.601Z"
   },
   {
    "duration": 6,
    "start_time": "2024-07-22T06:22:33.852Z"
   },
   {
    "duration": 241,
    "start_time": "2024-07-22T06:22:33.859Z"
   },
   {
    "duration": 157,
    "start_time": "2024-07-22T06:22:34.101Z"
   },
   {
    "duration": 7,
    "start_time": "2024-07-22T06:22:34.259Z"
   },
   {
    "duration": 30,
    "start_time": "2024-07-22T06:22:34.267Z"
   },
   {
    "duration": 12,
    "start_time": "2024-07-22T06:22:34.300Z"
   },
   {
    "duration": 36,
    "start_time": "2024-07-22T06:22:34.314Z"
   },
   {
    "duration": 37,
    "start_time": "2024-07-22T06:22:34.352Z"
   },
   {
    "duration": 117,
    "start_time": "2024-07-22T06:22:34.390Z"
   },
   {
    "duration": 1045,
    "start_time": "2024-07-22T06:23:44.352Z"
   },
   {
    "duration": 90,
    "start_time": "2024-07-22T06:24:19.537Z"
   },
   {
    "duration": 13,
    "start_time": "2024-07-22T06:24:33.568Z"
   },
   {
    "duration": 18,
    "start_time": "2024-07-22T06:25:49.174Z"
   },
   {
    "duration": 1379,
    "start_time": "2024-07-22T06:45:17.616Z"
   },
   {
    "duration": 79,
    "start_time": "2024-07-22T06:45:18.998Z"
   },
   {
    "duration": 26,
    "start_time": "2024-07-22T06:45:19.079Z"
   },
   {
    "duration": 20,
    "start_time": "2024-07-22T06:45:19.107Z"
   },
   {
    "duration": 27,
    "start_time": "2024-07-22T06:45:19.129Z"
   },
   {
    "duration": 33,
    "start_time": "2024-07-22T06:45:19.158Z"
   },
   {
    "duration": 25,
    "start_time": "2024-07-22T06:45:19.193Z"
   },
   {
    "duration": 20,
    "start_time": "2024-07-22T06:45:19.220Z"
   },
   {
    "duration": 13,
    "start_time": "2024-07-22T06:45:19.241Z"
   },
   {
    "duration": 13,
    "start_time": "2024-07-22T06:45:19.257Z"
   },
   {
    "duration": 77,
    "start_time": "2024-07-22T06:45:19.272Z"
   },
   {
    "duration": 5,
    "start_time": "2024-07-22T06:45:19.352Z"
   },
   {
    "duration": 12,
    "start_time": "2024-07-22T06:45:19.358Z"
   },
   {
    "duration": 20,
    "start_time": "2024-07-22T06:45:19.371Z"
   },
   {
    "duration": 33,
    "start_time": "2024-07-22T06:45:19.393Z"
   },
   {
    "duration": 332,
    "start_time": "2024-07-22T06:45:19.428Z"
   },
   {
    "duration": 347,
    "start_time": "2024-07-22T06:45:19.762Z"
   },
   {
    "duration": 235,
    "start_time": "2024-07-22T06:45:20.111Z"
   },
   {
    "duration": 339,
    "start_time": "2024-07-22T06:45:20.347Z"
   },
   {
    "duration": 252,
    "start_time": "2024-07-22T06:45:20.687Z"
   },
   {
    "duration": 359,
    "start_time": "2024-07-22T06:45:20.945Z"
   },
   {
    "duration": 17,
    "start_time": "2024-07-22T06:45:21.307Z"
   },
   {
    "duration": 224,
    "start_time": "2024-07-22T06:45:21.326Z"
   },
   {
    "duration": 6,
    "start_time": "2024-07-22T06:45:21.553Z"
   },
   {
    "duration": 250,
    "start_time": "2024-07-22T06:45:21.561Z"
   },
   {
    "duration": 258,
    "start_time": "2024-07-22T06:45:21.814Z"
   },
   {
    "duration": 5,
    "start_time": "2024-07-22T06:45:22.075Z"
   },
   {
    "duration": 246,
    "start_time": "2024-07-22T06:45:22.083Z"
   },
   {
    "duration": 134,
    "start_time": "2024-07-22T06:45:22.330Z"
   },
   {
    "duration": 7,
    "start_time": "2024-07-22T06:45:22.466Z"
   },
   {
    "duration": 35,
    "start_time": "2024-07-22T06:45:22.475Z"
   },
   {
    "duration": 36,
    "start_time": "2024-07-22T06:45:22.513Z"
   },
   {
    "duration": 15,
    "start_time": "2024-07-22T06:45:22.551Z"
   },
   {
    "duration": 38,
    "start_time": "2024-07-22T06:45:22.568Z"
   },
   {
    "duration": 45,
    "start_time": "2024-07-22T06:45:22.607Z"
   },
   {
    "duration": 1270,
    "start_time": "2024-07-22T12:56:41.372Z"
   },
   {
    "duration": 246,
    "start_time": "2024-07-22T12:56:42.644Z"
   },
   {
    "duration": 22,
    "start_time": "2024-07-22T12:56:42.892Z"
   },
   {
    "duration": 16,
    "start_time": "2024-07-22T12:56:42.916Z"
   },
   {
    "duration": 14,
    "start_time": "2024-07-22T12:56:42.933Z"
   },
   {
    "duration": 3,
    "start_time": "2024-07-22T12:56:42.949Z"
   },
   {
    "duration": 5,
    "start_time": "2024-07-22T12:56:42.953Z"
   },
   {
    "duration": 43,
    "start_time": "2024-07-22T12:56:42.960Z"
   },
   {
    "duration": 12,
    "start_time": "2024-07-22T12:56:43.004Z"
   },
   {
    "duration": 58,
    "start_time": "2024-07-22T12:56:43.018Z"
   },
   {
    "duration": 45,
    "start_time": "2024-07-22T12:56:43.078Z"
   },
   {
    "duration": 3,
    "start_time": "2024-07-22T12:56:43.124Z"
   },
   {
    "duration": 7,
    "start_time": "2024-07-22T12:56:43.128Z"
   },
   {
    "duration": 9,
    "start_time": "2024-07-22T12:56:43.136Z"
   },
   {
    "duration": 11,
    "start_time": "2024-07-22T12:56:43.147Z"
   },
   {
    "duration": 288,
    "start_time": "2024-07-22T12:56:43.159Z"
   },
   {
    "duration": 273,
    "start_time": "2024-07-22T12:56:43.449Z"
   },
   {
    "duration": 191,
    "start_time": "2024-07-22T12:56:43.723Z"
   },
   {
    "duration": 348,
    "start_time": "2024-07-22T12:56:43.915Z"
   },
   {
    "duration": 236,
    "start_time": "2024-07-22T12:56:44.265Z"
   },
   {
    "duration": 418,
    "start_time": "2024-07-22T12:56:44.502Z"
   },
   {
    "duration": 10,
    "start_time": "2024-07-22T12:56:44.921Z"
   },
   {
    "duration": 312,
    "start_time": "2024-07-22T12:56:44.932Z"
   },
   {
    "duration": 11,
    "start_time": "2024-07-22T12:56:45.297Z"
   },
   {
    "duration": 327,
    "start_time": "2024-07-22T12:56:45.310Z"
   },
   {
    "duration": 334,
    "start_time": "2024-07-22T12:56:45.638Z"
   },
   {
    "duration": 4,
    "start_time": "2024-07-22T12:56:45.974Z"
   },
   {
    "duration": 208,
    "start_time": "2024-07-22T12:56:45.980Z"
   },
   {
    "duration": 126,
    "start_time": "2024-07-22T12:56:46.190Z"
   },
   {
    "duration": 6,
    "start_time": "2024-07-22T12:56:46.317Z"
   },
   {
    "duration": 39,
    "start_time": "2024-07-22T12:56:46.324Z"
   },
   {
    "duration": 32,
    "start_time": "2024-07-22T12:56:46.364Z"
   },
   {
    "duration": 8,
    "start_time": "2024-07-22T12:56:46.397Z"
   },
   {
    "duration": 49,
    "start_time": "2024-07-22T12:56:46.407Z"
   },
   {
    "duration": 13,
    "start_time": "2024-07-22T12:56:46.457Z"
   }
  ],
  "kernelspec": {
   "display_name": "Python 3 (ipykernel)",
   "language": "python",
   "name": "python3"
  },
  "language_info": {
   "codemirror_mode": {
    "name": "ipython",
    "version": 3
   },
   "file_extension": ".py",
   "mimetype": "text/x-python",
   "name": "python",
   "nbconvert_exporter": "python",
   "pygments_lexer": "ipython3",
   "version": "3.9.18"
  },
  "toc": {
   "base_numbering": 1,
   "nav_menu": {},
   "number_sections": true,
   "sideBar": true,
   "skip_h1_title": true,
   "title_cell": "Table of Contents",
   "title_sidebar": "Contents",
   "toc_cell": false,
   "toc_position": {
    "height": "calc(100% - 180px)",
    "left": "10px",
    "top": "150px",
    "width": "384px"
   },
   "toc_section_display": true,
   "toc_window_display": true
  }
 },
 "nbformat": 4,
 "nbformat_minor": 2
}
