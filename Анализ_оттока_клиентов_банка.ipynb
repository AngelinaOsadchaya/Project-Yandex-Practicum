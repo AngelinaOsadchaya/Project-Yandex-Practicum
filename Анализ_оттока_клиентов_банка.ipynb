{
 "cells": [
  {
   "cell_type": "markdown",
   "metadata": {},
   "source": [
    "# Анализ оттока клиентов"
   ]
  },
  {
   "cell_type": "markdown",
   "metadata": {},
   "source": [
    "## Материалы:\n",
    "[**Презентация**](https://disk.yandex.ru/i/dKQmCP2rIya7sQ)"
   ]
  },
  {
   "cell_type": "markdown",
   "metadata": {},
   "source": [
    "**Цель:** определить признаки, влияющие на отток клиентов и выделить сегменты клиентов, которые склонны уходить из банка и дать рекоментации по работе с ними."
   ]
  },
  {
   "cell_type": "markdown",
   "metadata": {},
   "source": [
    "**План:**\n",
    "1. Загрузка и описание данных.\n",
    "2. Предобрботка данных:\n",
    "   - анализ природы пропусков и их обработка;\n",
    "   - проверка на явные и неявные дубликаты;\n",
    "   - кодирование (для использования в анализе корреляции).\n",
    "3. EDA:\n",
    "   - анализ распределения признаков, в тч в разрезе оттока;\n",
    "   - корреляционный анализ;\n",
    "   - сравнение портретов клиентов, которые склонны и не склонны уходить из банка.\n",
    "4. Проверка статистических гипотез, обосновать инструмент.\n",
    "5. Подведение промежуточных итогов - выводы по результатам EDA, корреляционного анализа и гипотез, выделение признаков, влияющих на отток.\n",
    "6. Сегментация (неузкие сегменты (от 500 клиентов на сегмент)).\n",
    "7. Приоритизация сегментов.\n",
    "8. Формирование рекомендаций (таргетированных) по работе с ними."
   ]
  },
  {
   "cell_type": "markdown",
   "metadata": {},
   "source": [
    "## Загрузка и описание данных"
   ]
  },
  {
   "cell_type": "code",
   "execution_count": 1,
   "metadata": {},
   "outputs": [],
   "source": [
    "# импортируем все необходимые библиотеки\n",
    "import pandas as pd\n",
    "import seaborn as sns\n",
    "import numpy as np\n",
    "import math as mth\n",
    "import matplotlib.pylab as plt\n",
    "from scipy import stats as st\n",
    "from IPython.display import display\n",
    "from functools import reduce"
   ]
  },
  {
   "cell_type": "code",
   "execution_count": 2,
   "metadata": {},
   "outputs": [],
   "source": [
    "# загрузим данные\n",
    "try:\n",
    "    df = pd.read_csv('https://code.s3.yandex.net/datasets/bank_scrooge.csv')\n",
    "except:\n",
    "    'FileNotFoundError'"
   ]
  },
  {
   "cell_type": "code",
   "execution_count": 3,
   "metadata": {},
   "outputs": [
    {
     "data": {
      "text/html": [
       "<div>\n",
       "<style scoped>\n",
       "    .dataframe tbody tr th:only-of-type {\n",
       "        vertical-align: middle;\n",
       "    }\n",
       "\n",
       "    .dataframe tbody tr th {\n",
       "        vertical-align: top;\n",
       "    }\n",
       "\n",
       "    .dataframe thead th {\n",
       "        text-align: right;\n",
       "    }\n",
       "</style>\n",
       "<table border=\"1\" class=\"dataframe\">\n",
       "  <thead>\n",
       "    <tr style=\"text-align: right;\">\n",
       "      <th></th>\n",
       "      <th>USERID</th>\n",
       "      <th>score</th>\n",
       "      <th>city</th>\n",
       "      <th>gender</th>\n",
       "      <th>age</th>\n",
       "      <th>equity</th>\n",
       "      <th>balance</th>\n",
       "      <th>products</th>\n",
       "      <th>credit_card</th>\n",
       "      <th>last_activity</th>\n",
       "      <th>EST_SALARY</th>\n",
       "      <th>churn</th>\n",
       "    </tr>\n",
       "  </thead>\n",
       "  <tbody>\n",
       "    <tr>\n",
       "      <th>0</th>\n",
       "      <td>183012</td>\n",
       "      <td>850.0</td>\n",
       "      <td>Рыбинск</td>\n",
       "      <td>Ж</td>\n",
       "      <td>25.0</td>\n",
       "      <td>1</td>\n",
       "      <td>59214.82</td>\n",
       "      <td>2</td>\n",
       "      <td>0</td>\n",
       "      <td>1</td>\n",
       "      <td>75719.14</td>\n",
       "      <td>1</td>\n",
       "    </tr>\n",
       "    <tr>\n",
       "      <th>1</th>\n",
       "      <td>146556</td>\n",
       "      <td>861.0</td>\n",
       "      <td>Рыбинск</td>\n",
       "      <td>Ж</td>\n",
       "      <td>37.0</td>\n",
       "      <td>5</td>\n",
       "      <td>850594.33</td>\n",
       "      <td>3</td>\n",
       "      <td>1</td>\n",
       "      <td>0</td>\n",
       "      <td>86621.77</td>\n",
       "      <td>0</td>\n",
       "    </tr>\n",
       "    <tr>\n",
       "      <th>2</th>\n",
       "      <td>120722</td>\n",
       "      <td>892.0</td>\n",
       "      <td>Рыбинск</td>\n",
       "      <td>Ж</td>\n",
       "      <td>30.0</td>\n",
       "      <td>0</td>\n",
       "      <td>NaN</td>\n",
       "      <td>1</td>\n",
       "      <td>1</td>\n",
       "      <td>1</td>\n",
       "      <td>107683.34</td>\n",
       "      <td>0</td>\n",
       "    </tr>\n",
       "    <tr>\n",
       "      <th>3</th>\n",
       "      <td>225363</td>\n",
       "      <td>866.0</td>\n",
       "      <td>Ярославль</td>\n",
       "      <td>Ж</td>\n",
       "      <td>51.0</td>\n",
       "      <td>5</td>\n",
       "      <td>1524746.26</td>\n",
       "      <td>2</td>\n",
       "      <td>0</td>\n",
       "      <td>1</td>\n",
       "      <td>174423.53</td>\n",
       "      <td>1</td>\n",
       "    </tr>\n",
       "    <tr>\n",
       "      <th>4</th>\n",
       "      <td>157978</td>\n",
       "      <td>730.0</td>\n",
       "      <td>Ярославль</td>\n",
       "      <td>М</td>\n",
       "      <td>34.0</td>\n",
       "      <td>5</td>\n",
       "      <td>174.00</td>\n",
       "      <td>1</td>\n",
       "      <td>1</td>\n",
       "      <td>0</td>\n",
       "      <td>67353.16</td>\n",
       "      <td>1</td>\n",
       "    </tr>\n",
       "    <tr>\n",
       "      <th>5</th>\n",
       "      <td>202305</td>\n",
       "      <td>856.0</td>\n",
       "      <td>Рыбинск</td>\n",
       "      <td>М</td>\n",
       "      <td>56.0</td>\n",
       "      <td>4</td>\n",
       "      <td>863687.24</td>\n",
       "      <td>3</td>\n",
       "      <td>1</td>\n",
       "      <td>0</td>\n",
       "      <td>156619.80</td>\n",
       "      <td>0</td>\n",
       "    </tr>\n",
       "    <tr>\n",
       "      <th>6</th>\n",
       "      <td>177259</td>\n",
       "      <td>807.0</td>\n",
       "      <td>Ярославль</td>\n",
       "      <td>Ж</td>\n",
       "      <td>39.0</td>\n",
       "      <td>3</td>\n",
       "      <td>405042.44</td>\n",
       "      <td>3</td>\n",
       "      <td>0</td>\n",
       "      <td>1</td>\n",
       "      <td>103838.32</td>\n",
       "      <td>0</td>\n",
       "    </tr>\n",
       "    <tr>\n",
       "      <th>7</th>\n",
       "      <td>218868</td>\n",
       "      <td>825.0</td>\n",
       "      <td>Ярославль</td>\n",
       "      <td>Ж</td>\n",
       "      <td>38.0</td>\n",
       "      <td>4</td>\n",
       "      <td>458145.40</td>\n",
       "      <td>2</td>\n",
       "      <td>1</td>\n",
       "      <td>1</td>\n",
       "      <td>68085.48</td>\n",
       "      <td>0</td>\n",
       "    </tr>\n",
       "    <tr>\n",
       "      <th>8</th>\n",
       "      <td>211686</td>\n",
       "      <td>923.0</td>\n",
       "      <td>Ярославль</td>\n",
       "      <td>М</td>\n",
       "      <td>54.0</td>\n",
       "      <td>5</td>\n",
       "      <td>1206337.87</td>\n",
       "      <td>2</td>\n",
       "      <td>1</td>\n",
       "      <td>0</td>\n",
       "      <td>155371.79</td>\n",
       "      <td>0</td>\n",
       "    </tr>\n",
       "    <tr>\n",
       "      <th>9</th>\n",
       "      <td>133130</td>\n",
       "      <td>906.0</td>\n",
       "      <td>Ярославль</td>\n",
       "      <td>Ж</td>\n",
       "      <td>67.0</td>\n",
       "      <td>0</td>\n",
       "      <td>NaN</td>\n",
       "      <td>1</td>\n",
       "      <td>0</td>\n",
       "      <td>1</td>\n",
       "      <td>238055.53</td>\n",
       "      <td>0</td>\n",
       "    </tr>\n",
       "  </tbody>\n",
       "</table>\n",
       "</div>"
      ],
      "text/plain": [
       "   USERID  score       city gender   age  equity     balance  products  \\\n",
       "0  183012  850.0    Рыбинск      Ж  25.0       1    59214.82         2   \n",
       "1  146556  861.0    Рыбинск      Ж  37.0       5   850594.33         3   \n",
       "2  120722  892.0    Рыбинск      Ж  30.0       0         NaN         1   \n",
       "3  225363  866.0  Ярославль      Ж  51.0       5  1524746.26         2   \n",
       "4  157978  730.0  Ярославль      М  34.0       5      174.00         1   \n",
       "5  202305  856.0    Рыбинск      М  56.0       4   863687.24         3   \n",
       "6  177259  807.0  Ярославль      Ж  39.0       3   405042.44         3   \n",
       "7  218868  825.0  Ярославль      Ж  38.0       4   458145.40         2   \n",
       "8  211686  923.0  Ярославль      М  54.0       5  1206337.87         2   \n",
       "9  133130  906.0  Ярославль      Ж  67.0       0         NaN         1   \n",
       "\n",
       "   credit_card  last_activity  EST_SALARY  churn  \n",
       "0            0              1    75719.14      1  \n",
       "1            1              0    86621.77      0  \n",
       "2            1              1   107683.34      0  \n",
       "3            0              1   174423.53      1  \n",
       "4            1              0    67353.16      1  \n",
       "5            1              0   156619.80      0  \n",
       "6            0              1   103838.32      0  \n",
       "7            1              1    68085.48      0  \n",
       "8            1              0   155371.79      0  \n",
       "9            0              1   238055.53      0  "
      ]
     },
     "metadata": {},
     "output_type": "display_data"
    },
    {
     "name": "stdout",
     "output_type": "stream",
     "text": [
      "<class 'pandas.core.frame.DataFrame'>\n",
      "RangeIndex: 10000 entries, 0 to 9999\n",
      "Data columns (total 12 columns):\n",
      " #   Column         Non-Null Count  Dtype  \n",
      "---  ------         --------------  -----  \n",
      " 0   USERID         10000 non-null  int64  \n",
      " 1   score          10000 non-null  float64\n",
      " 2   city           10000 non-null  object \n",
      " 3   gender         10000 non-null  object \n",
      " 4   age            9974 non-null   float64\n",
      " 5   equity         10000 non-null  int64  \n",
      " 6   balance        7705 non-null   float64\n",
      " 7   products       10000 non-null  int64  \n",
      " 8   credit_card    10000 non-null  int64  \n",
      " 9   last_activity  10000 non-null  int64  \n",
      " 10  EST_SALARY     10000 non-null  float64\n",
      " 11  churn          10000 non-null  int64  \n",
      "dtypes: float64(4), int64(6), object(2)\n",
      "memory usage: 937.6+ KB\n"
     ]
    },
    {
     "data": {
      "text/plain": [
       "None"
      ]
     },
     "metadata": {},
     "output_type": "display_data"
    },
    {
     "data": {
      "text/plain": [
       "USERID              0\n",
       "score               0\n",
       "city                0\n",
       "gender              0\n",
       "age                26\n",
       "equity              0\n",
       "balance          2295\n",
       "products            0\n",
       "credit_card         0\n",
       "last_activity       0\n",
       "EST_SALARY          0\n",
       "churn               0\n",
       "dtype: int64"
      ]
     },
     "execution_count": 3,
     "metadata": {},
     "output_type": "execute_result"
    }
   ],
   "source": [
    "display(df.head(10))\n",
    "display(df.info())\n",
    "df.isna().sum()"
   ]
  },
  {
   "cell_type": "markdown",
   "metadata": {},
   "source": [
    "**Вывод:** Изучив данные видим, что в столбцах `age` и `balance` пропущены данные. Необходимо привести названия столбцов к нижнему регистру. В столбцах `score` и `age` нужно замнить тип данных на целочисленный."
   ]
  },
  {
   "cell_type": "markdown",
   "metadata": {},
   "source": [
    "## Предобрботка данных"
   ]
  },
  {
   "cell_type": "markdown",
   "metadata": {},
   "source": [
    "### Приведем названия столбцов к нижнему регистру"
   ]
  },
  {
   "cell_type": "code",
   "execution_count": 4,
   "metadata": {},
   "outputs": [
    {
     "data": {
      "text/plain": [
       "Index(['user_id', 'score', 'city', 'gender', 'age', 'equity', 'balance',\n",
       "       'products', 'credit_card', 'last_activity', 'est_salary', 'churn'],\n",
       "      dtype='object')"
      ]
     },
     "execution_count": 4,
     "metadata": {},
     "output_type": "execute_result"
    }
   ],
   "source": [
    "# приведем названия столбцов к нижнему регистру\n",
    "df.columns = df.columns.str.lower()\n",
    "# заменим название столбца 'userid'\n",
    "df = df.rename(columns={'userid': 'user_id'})\n",
    "df.columns"
   ]
  },
  {
   "cell_type": "markdown",
   "metadata": {},
   "source": [
    "### Проанализируем пропуски и обработаем их"
   ]
  },
  {
   "cell_type": "code",
   "execution_count": 5,
   "metadata": {},
   "outputs": [
    {
     "data": {
      "text/html": [
       "<div>\n",
       "<style scoped>\n",
       "    .dataframe tbody tr th:only-of-type {\n",
       "        vertical-align: middle;\n",
       "    }\n",
       "\n",
       "    .dataframe tbody tr th {\n",
       "        vertical-align: top;\n",
       "    }\n",
       "\n",
       "    .dataframe thead th {\n",
       "        text-align: right;\n",
       "    }\n",
       "</style>\n",
       "<table border=\"1\" class=\"dataframe\">\n",
       "  <thead>\n",
       "    <tr style=\"text-align: right;\">\n",
       "      <th></th>\n",
       "      <th>user_id</th>\n",
       "      <th>score</th>\n",
       "      <th>age</th>\n",
       "      <th>equity</th>\n",
       "      <th>balance</th>\n",
       "      <th>products</th>\n",
       "      <th>credit_card</th>\n",
       "      <th>last_activity</th>\n",
       "      <th>est_salary</th>\n",
       "      <th>churn</th>\n",
       "      <th>age_isna</th>\n",
       "      <th>balance_isna</th>\n",
       "    </tr>\n",
       "  </thead>\n",
       "  <tbody>\n",
       "    <tr>\n",
       "      <th>user_id</th>\n",
       "      <td>1.000000</td>\n",
       "      <td>0.009804</td>\n",
       "      <td>0.017795</td>\n",
       "      <td>0.004599</td>\n",
       "      <td>0.006133</td>\n",
       "      <td>-0.004504</td>\n",
       "      <td>0.005674</td>\n",
       "      <td>-0.031029</td>\n",
       "      <td>-0.000369</td>\n",
       "      <td>-0.011928</td>\n",
       "      <td>0.034571</td>\n",
       "      <td>0.004125</td>\n",
       "    </tr>\n",
       "    <tr>\n",
       "      <th>score</th>\n",
       "      <td>0.009804</td>\n",
       "      <td>1.000000</td>\n",
       "      <td>-0.011814</td>\n",
       "      <td>0.064126</td>\n",
       "      <td>0.235812</td>\n",
       "      <td>-0.004115</td>\n",
       "      <td>-0.094732</td>\n",
       "      <td>-0.031179</td>\n",
       "      <td>0.163866</td>\n",
       "      <td>0.105962</td>\n",
       "      <td>0.005035</td>\n",
       "      <td>0.138871</td>\n",
       "    </tr>\n",
       "    <tr>\n",
       "      <th>age</th>\n",
       "      <td>0.017795</td>\n",
       "      <td>-0.011814</td>\n",
       "      <td>1.000000</td>\n",
       "      <td>0.020628</td>\n",
       "      <td>0.069745</td>\n",
       "      <td>0.017182</td>\n",
       "      <td>-0.123128</td>\n",
       "      <td>-0.008157</td>\n",
       "      <td>-0.039598</td>\n",
       "      <td>-0.049797</td>\n",
       "      <td>NaN</td>\n",
       "      <td>-0.028659</td>\n",
       "    </tr>\n",
       "    <tr>\n",
       "      <th>equity</th>\n",
       "      <td>0.004599</td>\n",
       "      <td>0.064126</td>\n",
       "      <td>0.020628</td>\n",
       "      <td>1.000000</td>\n",
       "      <td>0.164126</td>\n",
       "      <td>0.432069</td>\n",
       "      <td>-0.167506</td>\n",
       "      <td>-0.001970</td>\n",
       "      <td>-0.171974</td>\n",
       "      <td>0.270559</td>\n",
       "      <td>-0.032040</td>\n",
       "      <td>-0.709951</td>\n",
       "    </tr>\n",
       "    <tr>\n",
       "      <th>balance</th>\n",
       "      <td>0.006133</td>\n",
       "      <td>0.235812</td>\n",
       "      <td>0.069745</td>\n",
       "      <td>0.164126</td>\n",
       "      <td>1.000000</td>\n",
       "      <td>0.075684</td>\n",
       "      <td>-0.059253</td>\n",
       "      <td>0.025004</td>\n",
       "      <td>0.339622</td>\n",
       "      <td>0.085577</td>\n",
       "      <td>0.007686</td>\n",
       "      <td>NaN</td>\n",
       "    </tr>\n",
       "    <tr>\n",
       "      <th>products</th>\n",
       "      <td>-0.004504</td>\n",
       "      <td>-0.004115</td>\n",
       "      <td>0.017182</td>\n",
       "      <td>0.432069</td>\n",
       "      <td>0.075684</td>\n",
       "      <td>1.000000</td>\n",
       "      <td>-0.251390</td>\n",
       "      <td>0.037141</td>\n",
       "      <td>-0.118054</td>\n",
       "      <td>0.300964</td>\n",
       "      <td>-0.033751</td>\n",
       "      <td>-0.487512</td>\n",
       "    </tr>\n",
       "    <tr>\n",
       "      <th>credit_card</th>\n",
       "      <td>0.005674</td>\n",
       "      <td>-0.094732</td>\n",
       "      <td>-0.123128</td>\n",
       "      <td>-0.167506</td>\n",
       "      <td>-0.059253</td>\n",
       "      <td>-0.251390</td>\n",
       "      <td>1.000000</td>\n",
       "      <td>-0.033445</td>\n",
       "      <td>0.035556</td>\n",
       "      <td>-0.130790</td>\n",
       "      <td>0.009726</td>\n",
       "      <td>0.158334</td>\n",
       "    </tr>\n",
       "    <tr>\n",
       "      <th>last_activity</th>\n",
       "      <td>-0.031029</td>\n",
       "      <td>-0.031179</td>\n",
       "      <td>-0.008157</td>\n",
       "      <td>-0.001970</td>\n",
       "      <td>0.025004</td>\n",
       "      <td>0.037141</td>\n",
       "      <td>-0.033445</td>\n",
       "      <td>1.000000</td>\n",
       "      <td>0.003039</td>\n",
       "      <td>0.168767</td>\n",
       "      <td>0.025120</td>\n",
       "      <td>0.028362</td>\n",
       "    </tr>\n",
       "    <tr>\n",
       "      <th>est_salary</th>\n",
       "      <td>-0.000369</td>\n",
       "      <td>0.163866</td>\n",
       "      <td>-0.039598</td>\n",
       "      <td>-0.171974</td>\n",
       "      <td>0.339622</td>\n",
       "      <td>-0.118054</td>\n",
       "      <td>0.035556</td>\n",
       "      <td>0.003039</td>\n",
       "      <td>1.000000</td>\n",
       "      <td>0.001273</td>\n",
       "      <td>0.011252</td>\n",
       "      <td>0.307154</td>\n",
       "    </tr>\n",
       "    <tr>\n",
       "      <th>churn</th>\n",
       "      <td>-0.011928</td>\n",
       "      <td>0.105962</td>\n",
       "      <td>-0.049797</td>\n",
       "      <td>0.270559</td>\n",
       "      <td>0.085577</td>\n",
       "      <td>0.300964</td>\n",
       "      <td>-0.130790</td>\n",
       "      <td>0.168767</td>\n",
       "      <td>0.001273</td>\n",
       "      <td>1.000000</td>\n",
       "      <td>-0.018994</td>\n",
       "      <td>-0.249421</td>\n",
       "    </tr>\n",
       "    <tr>\n",
       "      <th>age_isna</th>\n",
       "      <td>0.034571</td>\n",
       "      <td>0.005035</td>\n",
       "      <td>NaN</td>\n",
       "      <td>-0.032040</td>\n",
       "      <td>0.007686</td>\n",
       "      <td>-0.033751</td>\n",
       "      <td>0.009726</td>\n",
       "      <td>0.025120</td>\n",
       "      <td>0.011252</td>\n",
       "      <td>-0.018994</td>\n",
       "      <td>1.000000</td>\n",
       "      <td>0.046852</td>\n",
       "    </tr>\n",
       "    <tr>\n",
       "      <th>balance_isna</th>\n",
       "      <td>0.004125</td>\n",
       "      <td>0.138871</td>\n",
       "      <td>-0.028659</td>\n",
       "      <td>-0.709951</td>\n",
       "      <td>NaN</td>\n",
       "      <td>-0.487512</td>\n",
       "      <td>0.158334</td>\n",
       "      <td>0.028362</td>\n",
       "      <td>0.307154</td>\n",
       "      <td>-0.249421</td>\n",
       "      <td>0.046852</td>\n",
       "      <td>1.000000</td>\n",
       "    </tr>\n",
       "  </tbody>\n",
       "</table>\n",
       "</div>"
      ],
      "text/plain": [
       "                user_id     score       age    equity   balance  products  \\\n",
       "user_id        1.000000  0.009804  0.017795  0.004599  0.006133 -0.004504   \n",
       "score          0.009804  1.000000 -0.011814  0.064126  0.235812 -0.004115   \n",
       "age            0.017795 -0.011814  1.000000  0.020628  0.069745  0.017182   \n",
       "equity         0.004599  0.064126  0.020628  1.000000  0.164126  0.432069   \n",
       "balance        0.006133  0.235812  0.069745  0.164126  1.000000  0.075684   \n",
       "products      -0.004504 -0.004115  0.017182  0.432069  0.075684  1.000000   \n",
       "credit_card    0.005674 -0.094732 -0.123128 -0.167506 -0.059253 -0.251390   \n",
       "last_activity -0.031029 -0.031179 -0.008157 -0.001970  0.025004  0.037141   \n",
       "est_salary    -0.000369  0.163866 -0.039598 -0.171974  0.339622 -0.118054   \n",
       "churn         -0.011928  0.105962 -0.049797  0.270559  0.085577  0.300964   \n",
       "age_isna       0.034571  0.005035       NaN -0.032040  0.007686 -0.033751   \n",
       "balance_isna   0.004125  0.138871 -0.028659 -0.709951       NaN -0.487512   \n",
       "\n",
       "               credit_card  last_activity  est_salary     churn  age_isna  \\\n",
       "user_id           0.005674      -0.031029   -0.000369 -0.011928  0.034571   \n",
       "score            -0.094732      -0.031179    0.163866  0.105962  0.005035   \n",
       "age              -0.123128      -0.008157   -0.039598 -0.049797       NaN   \n",
       "equity           -0.167506      -0.001970   -0.171974  0.270559 -0.032040   \n",
       "balance          -0.059253       0.025004    0.339622  0.085577  0.007686   \n",
       "products         -0.251390       0.037141   -0.118054  0.300964 -0.033751   \n",
       "credit_card       1.000000      -0.033445    0.035556 -0.130790  0.009726   \n",
       "last_activity    -0.033445       1.000000    0.003039  0.168767  0.025120   \n",
       "est_salary        0.035556       0.003039    1.000000  0.001273  0.011252   \n",
       "churn            -0.130790       0.168767    0.001273  1.000000 -0.018994   \n",
       "age_isna          0.009726       0.025120    0.011252 -0.018994  1.000000   \n",
       "balance_isna      0.158334       0.028362    0.307154 -0.249421  0.046852   \n",
       "\n",
       "               balance_isna  \n",
       "user_id            0.004125  \n",
       "score              0.138871  \n",
       "age               -0.028659  \n",
       "equity            -0.709951  \n",
       "balance                 NaN  \n",
       "products          -0.487512  \n",
       "credit_card        0.158334  \n",
       "last_activity      0.028362  \n",
       "est_salary         0.307154  \n",
       "churn             -0.249421  \n",
       "age_isna           0.046852  \n",
       "balance_isna       1.000000  "
      ]
     },
     "execution_count": 5,
     "metadata": {},
     "output_type": "execute_result"
    }
   ],
   "source": [
    "# создадим столбцы с признаками пропущенных значений столбцов `age` и `balance`\n",
    "df['age_isna'] = df['age'].isna().astype('int')\n",
    "df['balance_isna'] = df['balance'].isna().astype('int')\n",
    "# посмотрим на матрицу корреляции признаков\n",
    "df.corr()"
   ]
  },
  {
   "cell_type": "markdown",
   "metadata": {},
   "source": [
    "Проанализировав зависимость пропущенных значений, видим что в столбце `age` нет зависимости пропусков с другими признаками следовательно данные отсутствуют случайно и пропуск относятся к типу MAR.<br>\n",
    "В столбце `balance` данные коррелируют с признаком колличества баллов собственности, следовательно пропуск относятся к типу MNAR и мы не можем их отбросить или заполнить одним значением."
   ]
  },
  {
   "cell_type": "code",
   "execution_count": 6,
   "metadata": {},
   "outputs": [
    {
     "data": {
      "text/plain": [
       "0.0026"
      ]
     },
     "execution_count": 6,
     "metadata": {},
     "output_type": "execute_result"
    }
   ],
   "source": [
    "# посчитаем какое количество составляют пропуски в столбце `age`\n",
    "df['age'].isna().sum()/df.shape[0]"
   ]
  },
  {
   "cell_type": "markdown",
   "metadata": {},
   "source": [
    "Пропуски в столбце `age` составляют всего 0,26%, удалим их без потери качества данных."
   ]
  },
  {
   "cell_type": "code",
   "execution_count": 7,
   "metadata": {},
   "outputs": [],
   "source": [
    "# удалим пропуски в столбце age\n",
    "df = df.dropna(subset=['age'])"
   ]
  },
  {
   "cell_type": "code",
   "execution_count": 8,
   "metadata": {},
   "outputs": [],
   "source": [
    "# заменим тип данных в столбцах score и age на целочисленный\n",
    "df['score'] = df['score'].astype('int')\n",
    "df['age'] = df['age'].astype('int')"
   ]
  },
  {
   "cell_type": "code",
   "execution_count": 9,
   "metadata": {},
   "outputs": [
    {
     "data": {
      "text/html": [
       "<div>\n",
       "<style scoped>\n",
       "    .dataframe tbody tr th:only-of-type {\n",
       "        vertical-align: middle;\n",
       "    }\n",
       "\n",
       "    .dataframe tbody tr th {\n",
       "        vertical-align: top;\n",
       "    }\n",
       "\n",
       "    .dataframe thead th {\n",
       "        text-align: right;\n",
       "    }\n",
       "</style>\n",
       "<table border=\"1\" class=\"dataframe\">\n",
       "  <thead>\n",
       "    <tr style=\"text-align: right;\">\n",
       "      <th></th>\n",
       "      <th>user_id</th>\n",
       "      <th>score</th>\n",
       "      <th>city</th>\n",
       "      <th>gender</th>\n",
       "      <th>age</th>\n",
       "      <th>equity</th>\n",
       "      <th>balance</th>\n",
       "      <th>products</th>\n",
       "      <th>credit_card</th>\n",
       "      <th>last_activity</th>\n",
       "      <th>est_salary</th>\n",
       "      <th>churn</th>\n",
       "      <th>age_isna</th>\n",
       "      <th>balance_isna</th>\n",
       "    </tr>\n",
       "  </thead>\n",
       "  <tbody>\n",
       "    <tr>\n",
       "      <th>0</th>\n",
       "      <td>183012</td>\n",
       "      <td>850</td>\n",
       "      <td>Рыбинск</td>\n",
       "      <td>Ж</td>\n",
       "      <td>25</td>\n",
       "      <td>1</td>\n",
       "      <td>59214.82</td>\n",
       "      <td>2</td>\n",
       "      <td>0</td>\n",
       "      <td>1</td>\n",
       "      <td>75719.14</td>\n",
       "      <td>1</td>\n",
       "      <td>0</td>\n",
       "      <td>0</td>\n",
       "    </tr>\n",
       "    <tr>\n",
       "      <th>1</th>\n",
       "      <td>146556</td>\n",
       "      <td>861</td>\n",
       "      <td>Рыбинск</td>\n",
       "      <td>Ж</td>\n",
       "      <td>37</td>\n",
       "      <td>5</td>\n",
       "      <td>850594.33</td>\n",
       "      <td>3</td>\n",
       "      <td>1</td>\n",
       "      <td>0</td>\n",
       "      <td>86621.77</td>\n",
       "      <td>0</td>\n",
       "      <td>0</td>\n",
       "      <td>0</td>\n",
       "    </tr>\n",
       "    <tr>\n",
       "      <th>2</th>\n",
       "      <td>120722</td>\n",
       "      <td>892</td>\n",
       "      <td>Рыбинск</td>\n",
       "      <td>Ж</td>\n",
       "      <td>30</td>\n",
       "      <td>0</td>\n",
       "      <td>NaN</td>\n",
       "      <td>1</td>\n",
       "      <td>1</td>\n",
       "      <td>1</td>\n",
       "      <td>107683.34</td>\n",
       "      <td>0</td>\n",
       "      <td>0</td>\n",
       "      <td>1</td>\n",
       "    </tr>\n",
       "    <tr>\n",
       "      <th>3</th>\n",
       "      <td>225363</td>\n",
       "      <td>866</td>\n",
       "      <td>Ярославль</td>\n",
       "      <td>Ж</td>\n",
       "      <td>51</td>\n",
       "      <td>5</td>\n",
       "      <td>1524746.26</td>\n",
       "      <td>2</td>\n",
       "      <td>0</td>\n",
       "      <td>1</td>\n",
       "      <td>174423.53</td>\n",
       "      <td>1</td>\n",
       "      <td>0</td>\n",
       "      <td>0</td>\n",
       "    </tr>\n",
       "    <tr>\n",
       "      <th>4</th>\n",
       "      <td>157978</td>\n",
       "      <td>730</td>\n",
       "      <td>Ярославль</td>\n",
       "      <td>М</td>\n",
       "      <td>34</td>\n",
       "      <td>5</td>\n",
       "      <td>174.00</td>\n",
       "      <td>1</td>\n",
       "      <td>1</td>\n",
       "      <td>0</td>\n",
       "      <td>67353.16</td>\n",
       "      <td>1</td>\n",
       "      <td>0</td>\n",
       "      <td>0</td>\n",
       "    </tr>\n",
       "  </tbody>\n",
       "</table>\n",
       "</div>"
      ],
      "text/plain": [
       "   user_id  score       city gender  age  equity     balance  products  \\\n",
       "0   183012    850    Рыбинск      Ж   25       1    59214.82         2   \n",
       "1   146556    861    Рыбинск      Ж   37       5   850594.33         3   \n",
       "2   120722    892    Рыбинск      Ж   30       0         NaN         1   \n",
       "3   225363    866  Ярославль      Ж   51       5  1524746.26         2   \n",
       "4   157978    730  Ярославль      М   34       5      174.00         1   \n",
       "\n",
       "   credit_card  last_activity  est_salary  churn  age_isna  balance_isna  \n",
       "0            0              1    75719.14      1         0             0  \n",
       "1            1              0    86621.77      0         0             0  \n",
       "2            1              1   107683.34      0         0             1  \n",
       "3            0              1   174423.53      1         0             0  \n",
       "4            1              0    67353.16      1         0             0  "
      ]
     },
     "execution_count": 9,
     "metadata": {},
     "output_type": "execute_result"
    }
   ],
   "source": [
    "df.head()"
   ]
  },
  {
   "cell_type": "markdown",
   "metadata": {},
   "source": [
    "### Проверим данные на явные и неявные дубликаты"
   ]
  },
  {
   "cell_type": "code",
   "execution_count": 10,
   "metadata": {},
   "outputs": [
    {
     "data": {
      "text/plain": [
       "0"
      ]
     },
     "execution_count": 10,
     "metadata": {},
     "output_type": "execute_result"
    }
   ],
   "source": [
    "# проверим явные дубликаты\n",
    "df.duplicated().sum()"
   ]
  },
  {
   "cell_type": "markdown",
   "metadata": {},
   "source": [
    "Явных дубликатов в данных нет."
   ]
  },
  {
   "cell_type": "code",
   "execution_count": 11,
   "metadata": {},
   "outputs": [
    {
     "data": {
      "text/html": [
       "<div>\n",
       "<style scoped>\n",
       "    .dataframe tbody tr th:only-of-type {\n",
       "        vertical-align: middle;\n",
       "    }\n",
       "\n",
       "    .dataframe tbody tr th {\n",
       "        vertical-align: top;\n",
       "    }\n",
       "\n",
       "    .dataframe thead th {\n",
       "        text-align: right;\n",
       "    }\n",
       "</style>\n",
       "<table border=\"1\" class=\"dataframe\">\n",
       "  <thead>\n",
       "    <tr style=\"text-align: right;\">\n",
       "      <th></th>\n",
       "      <th>user_id</th>\n",
       "      <th>score</th>\n",
       "      <th>city</th>\n",
       "      <th>gender</th>\n",
       "      <th>age</th>\n",
       "      <th>equity</th>\n",
       "      <th>balance</th>\n",
       "      <th>products</th>\n",
       "      <th>credit_card</th>\n",
       "      <th>last_activity</th>\n",
       "      <th>est_salary</th>\n",
       "      <th>churn</th>\n",
       "      <th>age_isna</th>\n",
       "      <th>balance_isna</th>\n",
       "    </tr>\n",
       "  </thead>\n",
       "  <tbody>\n",
       "    <tr>\n",
       "      <th>1893</th>\n",
       "      <td>116540</td>\n",
       "      <td>883</td>\n",
       "      <td>Рыбинск</td>\n",
       "      <td>Ж</td>\n",
       "      <td>55</td>\n",
       "      <td>1</td>\n",
       "      <td>362756.49</td>\n",
       "      <td>3</td>\n",
       "      <td>0</td>\n",
       "      <td>1</td>\n",
       "      <td>175920.48</td>\n",
       "      <td>1</td>\n",
       "      <td>0</td>\n",
       "      <td>0</td>\n",
       "    </tr>\n",
       "    <tr>\n",
       "      <th>7694</th>\n",
       "      <td>116540</td>\n",
       "      <td>887</td>\n",
       "      <td>Ярославль</td>\n",
       "      <td>Ж</td>\n",
       "      <td>38</td>\n",
       "      <td>0</td>\n",
       "      <td>NaN</td>\n",
       "      <td>1</td>\n",
       "      <td>0</td>\n",
       "      <td>1</td>\n",
       "      <td>119247.61</td>\n",
       "      <td>0</td>\n",
       "      <td>0</td>\n",
       "      <td>1</td>\n",
       "    </tr>\n",
       "    <tr>\n",
       "      <th>4866</th>\n",
       "      <td>117943</td>\n",
       "      <td>855</td>\n",
       "      <td>Рыбинск</td>\n",
       "      <td>Ж</td>\n",
       "      <td>32</td>\n",
       "      <td>6</td>\n",
       "      <td>1036832.93</td>\n",
       "      <td>4</td>\n",
       "      <td>1</td>\n",
       "      <td>1</td>\n",
       "      <td>107792.71</td>\n",
       "      <td>1</td>\n",
       "      <td>0</td>\n",
       "      <td>0</td>\n",
       "    </tr>\n",
       "    <tr>\n",
       "      <th>7542</th>\n",
       "      <td>117943</td>\n",
       "      <td>880</td>\n",
       "      <td>Ярославль</td>\n",
       "      <td>Ж</td>\n",
       "      <td>40</td>\n",
       "      <td>0</td>\n",
       "      <td>NaN</td>\n",
       "      <td>1</td>\n",
       "      <td>1</td>\n",
       "      <td>0</td>\n",
       "      <td>137718.93</td>\n",
       "      <td>0</td>\n",
       "      <td>0</td>\n",
       "      <td>1</td>\n",
       "    </tr>\n",
       "    <tr>\n",
       "      <th>5863</th>\n",
       "      <td>120258</td>\n",
       "      <td>908</td>\n",
       "      <td>Рыбинск</td>\n",
       "      <td>Ж</td>\n",
       "      <td>38</td>\n",
       "      <td>4</td>\n",
       "      <td>2213581.63</td>\n",
       "      <td>2</td>\n",
       "      <td>0</td>\n",
       "      <td>1</td>\n",
       "      <td>160327.77</td>\n",
       "      <td>1</td>\n",
       "      <td>0</td>\n",
       "      <td>0</td>\n",
       "    </tr>\n",
       "    <tr>\n",
       "      <th>...</th>\n",
       "      <td>...</td>\n",
       "      <td>...</td>\n",
       "      <td>...</td>\n",
       "      <td>...</td>\n",
       "      <td>...</td>\n",
       "      <td>...</td>\n",
       "      <td>...</td>\n",
       "      <td>...</td>\n",
       "      <td>...</td>\n",
       "      <td>...</td>\n",
       "      <td>...</td>\n",
       "      <td>...</td>\n",
       "      <td>...</td>\n",
       "      <td>...</td>\n",
       "    </tr>\n",
       "    <tr>\n",
       "      <th>2302</th>\n",
       "      <td>220816</td>\n",
       "      <td>934</td>\n",
       "      <td>Рыбинск</td>\n",
       "      <td>Ж</td>\n",
       "      <td>74</td>\n",
       "      <td>5</td>\n",
       "      <td>1294285.39</td>\n",
       "      <td>3</td>\n",
       "      <td>1</td>\n",
       "      <td>0</td>\n",
       "      <td>95606.80</td>\n",
       "      <td>0</td>\n",
       "      <td>0</td>\n",
       "      <td>0</td>\n",
       "    </tr>\n",
       "    <tr>\n",
       "      <th>2597</th>\n",
       "      <td>226719</td>\n",
       "      <td>990</td>\n",
       "      <td>Ярославль</td>\n",
       "      <td>М</td>\n",
       "      <td>37</td>\n",
       "      <td>4</td>\n",
       "      <td>14648692.14</td>\n",
       "      <td>2</td>\n",
       "      <td>0</td>\n",
       "      <td>0</td>\n",
       "      <td>934412.61</td>\n",
       "      <td>1</td>\n",
       "      <td>0</td>\n",
       "      <td>0</td>\n",
       "    </tr>\n",
       "    <tr>\n",
       "      <th>4216</th>\n",
       "      <td>226719</td>\n",
       "      <td>903</td>\n",
       "      <td>Рыбинск</td>\n",
       "      <td>Ж</td>\n",
       "      <td>63</td>\n",
       "      <td>0</td>\n",
       "      <td>NaN</td>\n",
       "      <td>1</td>\n",
       "      <td>1</td>\n",
       "      <td>0</td>\n",
       "      <td>138582.58</td>\n",
       "      <td>0</td>\n",
       "      <td>0</td>\n",
       "      <td>1</td>\n",
       "    </tr>\n",
       "    <tr>\n",
       "      <th>8205</th>\n",
       "      <td>227795</td>\n",
       "      <td>840</td>\n",
       "      <td>Рыбинск</td>\n",
       "      <td>М</td>\n",
       "      <td>34</td>\n",
       "      <td>2</td>\n",
       "      <td>350768.03</td>\n",
       "      <td>1</td>\n",
       "      <td>1</td>\n",
       "      <td>0</td>\n",
       "      <td>102036.14</td>\n",
       "      <td>1</td>\n",
       "      <td>0</td>\n",
       "      <td>0</td>\n",
       "    </tr>\n",
       "    <tr>\n",
       "      <th>8497</th>\n",
       "      <td>227795</td>\n",
       "      <td>839</td>\n",
       "      <td>Ярославль</td>\n",
       "      <td>М</td>\n",
       "      <td>34</td>\n",
       "      <td>2</td>\n",
       "      <td>326593.14</td>\n",
       "      <td>2</td>\n",
       "      <td>1</td>\n",
       "      <td>0</td>\n",
       "      <td>103314.92</td>\n",
       "      <td>0</td>\n",
       "      <td>0</td>\n",
       "      <td>0</td>\n",
       "    </tr>\n",
       "  </tbody>\n",
       "</table>\n",
       "<p>100 rows × 14 columns</p>\n",
       "</div>"
      ],
      "text/plain": [
       "      user_id  score       city gender  age  equity      balance  products  \\\n",
       "1893   116540    883    Рыбинск      Ж   55       1    362756.49         3   \n",
       "7694   116540    887  Ярославль      Ж   38       0          NaN         1   \n",
       "4866   117943    855    Рыбинск      Ж   32       6   1036832.93         4   \n",
       "7542   117943    880  Ярославль      Ж   40       0          NaN         1   \n",
       "5863   120258    908    Рыбинск      Ж   38       4   2213581.63         2   \n",
       "...       ...    ...        ...    ...  ...     ...          ...       ...   \n",
       "2302   220816    934    Рыбинск      Ж   74       5   1294285.39         3   \n",
       "2597   226719    990  Ярославль      М   37       4  14648692.14         2   \n",
       "4216   226719    903    Рыбинск      Ж   63       0          NaN         1   \n",
       "8205   227795    840    Рыбинск      М   34       2    350768.03         1   \n",
       "8497   227795    839  Ярославль      М   34       2    326593.14         2   \n",
       "\n",
       "      credit_card  last_activity  est_salary  churn  age_isna  balance_isna  \n",
       "1893            0              1   175920.48      1         0             0  \n",
       "7694            0              1   119247.61      0         0             1  \n",
       "4866            1              1   107792.71      1         0             0  \n",
       "7542            1              0   137718.93      0         0             1  \n",
       "5863            0              1   160327.77      1         0             0  \n",
       "...           ...            ...         ...    ...       ...           ...  \n",
       "2302            1              0    95606.80      0         0             0  \n",
       "2597            0              0   934412.61      1         0             0  \n",
       "4216            1              0   138582.58      0         0             1  \n",
       "8205            1              0   102036.14      1         0             0  \n",
       "8497            1              0   103314.92      0         0             0  \n",
       "\n",
       "[100 rows x 14 columns]"
      ]
     },
     "execution_count": 11,
     "metadata": {},
     "output_type": "execute_result"
    }
   ],
   "source": [
    "# проверим неявные дубликаты\n",
    "df[df.duplicated(subset=['user_id'], keep=False)].sort_values(by ='user_id')"
   ]
  },
  {
   "cell_type": "markdown",
   "metadata": {},
   "source": [
    "Видим что у нас 100 дубликатов по столбцу `user_id`, а в столбцах `city`, `gender`, `age` соверешненно разные значения. Поэтому скорее всего произошел какой-то сбой при присвоении `user_id` и это разные люди."
   ]
  },
  {
   "cell_type": "code",
   "execution_count": 12,
   "metadata": {},
   "outputs": [
    {
     "data": {
      "text/html": [
       "<div>\n",
       "<style scoped>\n",
       "    .dataframe tbody tr th:only-of-type {\n",
       "        vertical-align: middle;\n",
       "    }\n",
       "\n",
       "    .dataframe tbody tr th {\n",
       "        vertical-align: top;\n",
       "    }\n",
       "\n",
       "    .dataframe thead th {\n",
       "        text-align: right;\n",
       "    }\n",
       "</style>\n",
       "<table border=\"1\" class=\"dataframe\">\n",
       "  <thead>\n",
       "    <tr style=\"text-align: right;\">\n",
       "      <th></th>\n",
       "      <th>user_id</th>\n",
       "      <th>score</th>\n",
       "      <th>city</th>\n",
       "      <th>gender</th>\n",
       "      <th>age</th>\n",
       "      <th>equity</th>\n",
       "      <th>balance</th>\n",
       "      <th>products</th>\n",
       "      <th>credit_card</th>\n",
       "      <th>last_activity</th>\n",
       "      <th>est_salary</th>\n",
       "      <th>churn</th>\n",
       "      <th>age_isna</th>\n",
       "      <th>balance_isna</th>\n",
       "    </tr>\n",
       "  </thead>\n",
       "  <tbody>\n",
       "    <tr>\n",
       "      <th>8957</th>\n",
       "      <td>147837</td>\n",
       "      <td>962</td>\n",
       "      <td>Рыбинск</td>\n",
       "      <td>Ж</td>\n",
       "      <td>79</td>\n",
       "      <td>3</td>\n",
       "      <td>NaN</td>\n",
       "      <td>0</td>\n",
       "      <td>0</td>\n",
       "      <td>0</td>\n",
       "      <td>25063.96</td>\n",
       "      <td>1</td>\n",
       "      <td>0</td>\n",
       "      <td>1</td>\n",
       "    </tr>\n",
       "  </tbody>\n",
       "</table>\n",
       "</div>"
      ],
      "text/plain": [
       "      user_id  score     city gender  age  equity  balance  products  \\\n",
       "8957   147837    962  Рыбинск      Ж   79       3      NaN         0   \n",
       "\n",
       "      credit_card  last_activity  est_salary  churn  age_isna  balance_isna  \n",
       "8957            0              0    25063.96      1         0             1  "
      ]
     },
     "execution_count": 12,
     "metadata": {},
     "output_type": "execute_result"
    }
   ],
   "source": [
    "# проверим данные по признаку количество продуктов, т.к. клиент банка должен иметь хотябы один продукт\n",
    "df.query('products == 0')"
   ]
  },
  {
   "cell_type": "code",
   "execution_count": 13,
   "metadata": {},
   "outputs": [],
   "source": [
    "# удалим данные о клиенте, который не имеет продуктов в этом банке\n",
    "df = df.query('products != 0').reset_index(drop=True)"
   ]
  },
  {
   "cell_type": "markdown",
   "metadata": {},
   "source": [
    "### Кодирование данных"
   ]
  },
  {
   "cell_type": "code",
   "execution_count": 14,
   "metadata": {},
   "outputs": [
    {
     "data": {
      "text/html": [
       "<div>\n",
       "<style scoped>\n",
       "    .dataframe tbody tr th:only-of-type {\n",
       "        vertical-align: middle;\n",
       "    }\n",
       "\n",
       "    .dataframe tbody tr th {\n",
       "        vertical-align: top;\n",
       "    }\n",
       "\n",
       "    .dataframe thead th {\n",
       "        text-align: right;\n",
       "    }\n",
       "</style>\n",
       "<table border=\"1\" class=\"dataframe\">\n",
       "  <thead>\n",
       "    <tr style=\"text-align: right;\">\n",
       "      <th></th>\n",
       "      <th>user_id</th>\n",
       "      <th>score</th>\n",
       "      <th>city</th>\n",
       "      <th>gender</th>\n",
       "      <th>age</th>\n",
       "      <th>equity</th>\n",
       "      <th>balance</th>\n",
       "      <th>products</th>\n",
       "      <th>credit_card</th>\n",
       "      <th>last_activity</th>\n",
       "      <th>est_salary</th>\n",
       "      <th>churn</th>\n",
       "      <th>age_isna</th>\n",
       "      <th>balance_isna</th>\n",
       "      <th>Ростов</th>\n",
       "      <th>Рыбинск</th>\n",
       "      <th>Ярославль</th>\n",
       "      <th>gender_dum</th>\n",
       "    </tr>\n",
       "  </thead>\n",
       "  <tbody>\n",
       "    <tr>\n",
       "      <th>0</th>\n",
       "      <td>183012</td>\n",
       "      <td>850</td>\n",
       "      <td>Рыбинск</td>\n",
       "      <td>Ж</td>\n",
       "      <td>25</td>\n",
       "      <td>1</td>\n",
       "      <td>59214.82</td>\n",
       "      <td>2</td>\n",
       "      <td>0</td>\n",
       "      <td>1</td>\n",
       "      <td>75719.14</td>\n",
       "      <td>1</td>\n",
       "      <td>0</td>\n",
       "      <td>0</td>\n",
       "      <td>0</td>\n",
       "      <td>1</td>\n",
       "      <td>0</td>\n",
       "      <td>0</td>\n",
       "    </tr>\n",
       "    <tr>\n",
       "      <th>1</th>\n",
       "      <td>146556</td>\n",
       "      <td>861</td>\n",
       "      <td>Рыбинск</td>\n",
       "      <td>Ж</td>\n",
       "      <td>37</td>\n",
       "      <td>5</td>\n",
       "      <td>850594.33</td>\n",
       "      <td>3</td>\n",
       "      <td>1</td>\n",
       "      <td>0</td>\n",
       "      <td>86621.77</td>\n",
       "      <td>0</td>\n",
       "      <td>0</td>\n",
       "      <td>0</td>\n",
       "      <td>0</td>\n",
       "      <td>1</td>\n",
       "      <td>0</td>\n",
       "      <td>0</td>\n",
       "    </tr>\n",
       "    <tr>\n",
       "      <th>2</th>\n",
       "      <td>120722</td>\n",
       "      <td>892</td>\n",
       "      <td>Рыбинск</td>\n",
       "      <td>Ж</td>\n",
       "      <td>30</td>\n",
       "      <td>0</td>\n",
       "      <td>NaN</td>\n",
       "      <td>1</td>\n",
       "      <td>1</td>\n",
       "      <td>1</td>\n",
       "      <td>107683.34</td>\n",
       "      <td>0</td>\n",
       "      <td>0</td>\n",
       "      <td>1</td>\n",
       "      <td>0</td>\n",
       "      <td>1</td>\n",
       "      <td>0</td>\n",
       "      <td>0</td>\n",
       "    </tr>\n",
       "    <tr>\n",
       "      <th>3</th>\n",
       "      <td>225363</td>\n",
       "      <td>866</td>\n",
       "      <td>Ярославль</td>\n",
       "      <td>Ж</td>\n",
       "      <td>51</td>\n",
       "      <td>5</td>\n",
       "      <td>1524746.26</td>\n",
       "      <td>2</td>\n",
       "      <td>0</td>\n",
       "      <td>1</td>\n",
       "      <td>174423.53</td>\n",
       "      <td>1</td>\n",
       "      <td>0</td>\n",
       "      <td>0</td>\n",
       "      <td>0</td>\n",
       "      <td>0</td>\n",
       "      <td>1</td>\n",
       "      <td>0</td>\n",
       "    </tr>\n",
       "    <tr>\n",
       "      <th>4</th>\n",
       "      <td>157978</td>\n",
       "      <td>730</td>\n",
       "      <td>Ярославль</td>\n",
       "      <td>М</td>\n",
       "      <td>34</td>\n",
       "      <td>5</td>\n",
       "      <td>174.00</td>\n",
       "      <td>1</td>\n",
       "      <td>1</td>\n",
       "      <td>0</td>\n",
       "      <td>67353.16</td>\n",
       "      <td>1</td>\n",
       "      <td>0</td>\n",
       "      <td>0</td>\n",
       "      <td>0</td>\n",
       "      <td>0</td>\n",
       "      <td>1</td>\n",
       "      <td>1</td>\n",
       "    </tr>\n",
       "  </tbody>\n",
       "</table>\n",
       "</div>"
      ],
      "text/plain": [
       "   user_id  score       city gender  age  equity     balance  products  \\\n",
       "0   183012    850    Рыбинск      Ж   25       1    59214.82         2   \n",
       "1   146556    861    Рыбинск      Ж   37       5   850594.33         3   \n",
       "2   120722    892    Рыбинск      Ж   30       0         NaN         1   \n",
       "3   225363    866  Ярославль      Ж   51       5  1524746.26         2   \n",
       "4   157978    730  Ярославль      М   34       5      174.00         1   \n",
       "\n",
       "   credit_card  last_activity  est_salary  churn  age_isna  balance_isna  \\\n",
       "0            0              1    75719.14      1         0             0   \n",
       "1            1              0    86621.77      0         0             0   \n",
       "2            1              1   107683.34      0         0             1   \n",
       "3            0              1   174423.53      1         0             0   \n",
       "4            1              0    67353.16      1         0             0   \n",
       "\n",
       "   Ростов  Рыбинск  Ярославль  gender_dum  \n",
       "0       0        1          0           0  \n",
       "1       0        1          0           0  \n",
       "2       0        1          0           0  \n",
       "3       0        0          1           0  \n",
       "4       0        0          1           1  "
      ]
     },
     "execution_count": 14,
     "metadata": {},
     "output_type": "execute_result"
    }
   ],
   "source": [
    "df['city_dum'] = df['city']\n",
    "df['gender_dum'] = df['gender']\n",
    "df=pd.get_dummies(df, columns=['city_dum'], prefix='', prefix_sep='')\n",
    "df=pd.get_dummies(df, columns=['gender_dum'], prefix='', prefix_sep='', drop_first= True)\n",
    "df = df.rename(columns={'М': 'gender_dum'})\n",
    "df.head()"
   ]
  },
  {
   "cell_type": "markdown",
   "metadata": {},
   "source": [
    "**Вывод:** Предобработка данных проведена:\n",
    "- откорректировали названия столбцов и типы данных\n",
    "- удалили пропуски в столбце `age`, которые составили 0,26% от общего числа данных\n",
    "- явных дубликатов в данных не обнаружили\n",
    "- нашли 100 дубликатов по столбцу `user_id`, но данные в других столбцах отличаются\n",
    "\n",
    "В целом, данные подготовлены к дальнейшему анализу."
   ]
  },
  {
   "cell_type": "markdown",
   "metadata": {},
   "source": [
    "## EDA"
   ]
  },
  {
   "cell_type": "markdown",
   "metadata": {},
   "source": [
    "### Анализ оттока по возрасту"
   ]
  },
  {
   "cell_type": "code",
   "execution_count": 15,
   "metadata": {},
   "outputs": [
    {
     "data": {
      "image/png": "[encoded data removed]",
      "text/plain": [
       "<Figure size 1080x720 with 1 Axes>"
      ]
     },
     "metadata": {
      "needs_background": "light"
     },
     "output_type": "display_data"
    }
   ],
   "source": [
    "plt.figure(figsize=(15, 10))\n",
    "sns.set_style('whitegrid')\n",
    "sns.histplot(data=df, x='age', hue='churn', binwidth=1, stat='density', common_norm=False, alpha = 0.4)\n",
    "plt.title('Распределение возраста клиентов', fontsize=14)\n",
    "plt.xlabel('Возраст')\n",
    "plt.ylabel('Плотность')\n",
    "plt.xticks(np.arange(min(df['age']), max(df['age'])+1, 2.0))\n",
    "plt.show()"
   ]
  },
  {
   "cell_type": "markdown",
   "metadata": {},
   "source": [
    "По графику можем выделить две возрастные группы, когда отток клиентов большой:\n",
    "- молодые люди 25-36 лет \n",
    "- взрослые люди, предпенсионного возраста 50-61 год"
   ]
  },
  {
   "cell_type": "markdown",
   "metadata": {},
   "source": [
    "### Анализ оттока по баллу кредитного скоринга"
   ]
  },
  {
   "cell_type": "code",
   "execution_count": 16,
   "metadata": {},
   "outputs": [
    {
     "data": {
      "image/png": "[encoded data removed]",
      "text/plain": [
       "<Figure size 1080x720 with 1 Axes>"
      ]
     },
     "metadata": {},
     "output_type": "display_data"
    }
   ],
   "source": [
    "plt.figure(figsize=(15, 10))\n",
    "sns.set_style('whitegrid')\n",
    "sns.histplot(data=df, x='score', hue='churn', binwidth=5, stat='density', common_norm=False, alpha = 0.4)\n",
    "plt.title('Распределение балла кредитного скоринга', fontsize=14)\n",
    "plt.xlabel('Балл кредитного скоринга')\n",
    "plt.ylabel('Плотность')\n",
    "plt.xticks(np.arange(min(df['score']), max(df['score'])+1, 15.0))\n",
    "plt.show()"
   ]
  },
  {
   "cell_type": "markdown",
   "metadata": {},
   "source": [
    "Большой отток клиентов происходит в интервале значений скоринга 820-900, а ведь это скорее всего клиенты с хорошим доходом и хорошей кредитной историей."
   ]
  },
  {
   "cell_type": "markdown",
   "metadata": {},
   "source": [
    "### Анализ оттока по доходу клиента"
   ]
  },
  {
   "cell_type": "code",
   "execution_count": 17,
   "metadata": {},
   "outputs": [
    {
     "data": {
      "image/png": "[encoded data removed]",
      "text/plain": [
       "<Figure size 1080x720 with 1 Axes>"
      ]
     },
     "metadata": {},
     "output_type": "display_data"
    }
   ],
   "source": [
    "plt.figure(figsize=(15, 10))\n",
    "sns.set_style('whitegrid')\n",
    "sns.histplot(data=df, x='est_salary', hue='churn', stat='density', common_norm=False, alpha = 0.4)\n",
    "plt.title('Распределение дохода клиентов', fontsize=14)\n",
    "plt.xlabel('Доход клиента')\n",
    "plt.ylabel('Плотность')\n",
    "plt.xlim((0, 600000))\n",
    "plt.xticks(np.arange(0, 600000, 20000.0), rotation=45)\n",
    "plt.show()"
   ]
  },
  {
   "cell_type": "markdown",
   "metadata": {},
   "source": [
    "Клиенты с доходом 90-210 тыс. наиболее отточны. Также по графику видно, что и клиенты с более высоким доходом склонны к оттоку больше, чем те чей доход до 90 тыс."
   ]
  },
  {
   "cell_type": "markdown",
   "metadata": {},
   "source": [
    "### Анализ оттока по балансу на счете"
   ]
  },
  {
   "cell_type": "code",
   "execution_count": 18,
   "metadata": {},
   "outputs": [
    {
     "data": {
      "image/png": "[encoded data removed]",
      "text/plain": [
       "<Figure size 1080x720 with 1 Axes>"
      ]
     },
     "metadata": {},
     "output_type": "display_data"
    }
   ],
   "source": [
    "plt.figure(figsize=(15, 10))\n",
    "sns.set_style('whitegrid')\n",
    "sns.histplot(data=df, x='balance', hue='churn', stat='density', common_norm=False, alpha = 0.4)\n",
    "plt.title('Распределение баланса на счете', fontsize=14)\n",
    "plt.xlabel('Баланс на счете')\n",
    "plt.ylabel('Плотность')\n",
    "plt.xlim((0, 6000000))\n",
    "plt.xticks(np.arange(0, 6000000, 250000.0), rotation=45)\n",
    "plt.show()"
   ]
  },
  {
   "cell_type": "markdown",
   "metadata": {},
   "source": [
    "Клиенты, которые имеют накопления на счёте больше 1 млн. склонны к оттоку. При этом чем сумма на сёте больше, тем больше и отток."
   ]
  },
  {
   "cell_type": "markdown",
   "metadata": {},
   "source": []
  },
  {
   "cell_type": "markdown",
   "metadata": {},
   "source": [
    "### Анализ оттока по городам"
   ]
  },
  {
   "cell_type": "code",
   "execution_count": 19,
   "metadata": {},
   "outputs": [
    {
     "data": {
      "text/plain": [
       "0.18229218891005716"
      ]
     },
     "execution_count": 19,
     "metadata": {},
     "output_type": "execute_result"
    }
   ],
   "source": [
    "# рассчитаем средний уровень оттока по банку\n",
    "mean_churn = df['churn'].mean()\n",
    "mean_churn"
   ]
  },
  {
   "cell_type": "code",
   "execution_count": 20,
   "metadata": {},
   "outputs": [
    {
     "data": {
      "image/png": "[encoded data removed]",
      "text/plain": [
       "<Figure size 1080x720 with 1 Axes>"
      ]
     },
     "metadata": {},
     "output_type": "display_data"
    }
   ],
   "source": [
    "plt.figure(figsize=(15, 10))\n",
    "sns.set_style('whitegrid')\n",
    "sns.barplot(data=df, x='city', y='churn', ci=None, palette='pastel')\n",
    "plt.axhline(y=mean_churn, color='red', linestyle='--', label='Cредний уровень оттока по банку')\n",
    "plt.title('Распределение оттока по городам', fontsize=14)\n",
    "plt.xlabel('Город')\n",
    "plt.ylabel('Отток')\n",
    "plt.legend()\n",
    "plt.show()"
   ]
  },
  {
   "cell_type": "markdown",
   "metadata": {},
   "source": [
    "В городах Ярославль и Ростов отток превышает средний отток по банку."
   ]
  },
  {
   "cell_type": "markdown",
   "metadata": {},
   "source": [
    "### Анализ оттока по половому признаку"
   ]
  },
  {
   "cell_type": "code",
   "execution_count": 21,
   "metadata": {},
   "outputs": [
    {
     "data": {
      "image/png": "[encoded data removed]",
      "text/plain": [
       "<Figure size 1080x720 with 1 Axes>"
      ]
     },
     "metadata": {},
     "output_type": "display_data"
    }
   ],
   "source": [
    "plt.figure(figsize=(15, 10))\n",
    "sns.set_style('whitegrid')\n",
    "sns.barplot(data=df, x='gender', y='churn', ci=None, palette='pastel')\n",
    "plt.axhline(y=mean_churn, color='red', linestyle='--', label='Cредний уровень оттока по банку')\n",
    "plt.xticks(ticks=[0, 1], labels=['Женщины', 'Мужчины'])\n",
    "plt.title('Распределение оттока по половому признаку', fontsize=14)\n",
    "plt.xlabel('Пол')\n",
    "plt.ylabel('Отток')\n",
    "plt.legend()\n",
    "plt.show()"
   ]
  },
  {
   "cell_type": "markdown",
   "metadata": {},
   "source": [
    "Отток мужчин из банка выше, чем средний отток по банку."
   ]
  },
  {
   "cell_type": "markdown",
   "metadata": {},
   "source": [
    "### Анализ оттока по количеству собственности"
   ]
  },
  {
   "cell_type": "code",
   "execution_count": 22,
   "metadata": {},
   "outputs": [
    {
     "data": {
      "image/png": "[encoded data removed]",
      "text/plain": [
       "<Figure size 1080x720 with 1 Axes>"
      ]
     },
     "metadata": {},
     "output_type": "display_data"
    }
   ],
   "source": [
    "plt.figure(figsize=(15, 10))\n",
    "sns.set_style('whitegrid')\n",
    "sns.barplot(data=df, x='equity', y='churn', ci=None, palette='pastel')\n",
    "plt.axhline(y=mean_churn, color='red', linestyle='--', label='Cредний уровень оттока по банку')\n",
    "plt.title('Распределение оттока по количеству собственности', fontsize=14)\n",
    "plt.xlabel('Количество собственности')\n",
    "plt.ylabel('Отток')\n",
    "plt.legend()\n",
    "plt.show()"
   ]
  },
  {
   "cell_type": "markdown",
   "metadata": {},
   "source": [
    "Клиенты имеющие 3 и более собственности склонны к оттоку из банка."
   ]
  },
  {
   "cell_type": "markdown",
   "metadata": {},
   "source": [
    "### Анализ оттока по количеству продуктов банка"
   ]
  },
  {
   "cell_type": "code",
   "execution_count": 23,
   "metadata": {},
   "outputs": [
    {
     "data": {
      "image/png": "[encoded data removed]",
      "text/plain": [
       "<Figure size 1080x720 with 1 Axes>"
      ]
     },
     "metadata": {},
     "output_type": "display_data"
    }
   ],
   "source": [
    "plt.figure(figsize=(15, 10))\n",
    "sns.set_style('whitegrid')\n",
    "sns.barplot(data=df, x='products', y='churn', ci=None, palette='pastel')\n",
    "plt.axhline(y=mean_churn, color='red', linestyle='--', label='Cредний уровень оттока по банку')\n",
    "plt.title('Распределение оттока по количеству продуктов банка', fontsize=14)\n",
    "plt.xlabel('Количество продуктов, которыми пользуется клиент')\n",
    "plt.ylabel('Отток')\n",
    "plt.legend()\n",
    "plt.show()"
   ]
  },
  {
   "cell_type": "markdown",
   "metadata": {},
   "source": [
    "Клиенты, использующие больше одного продукта склонны к оттоку из банка."
   ]
  },
  {
   "cell_type": "markdown",
   "metadata": {},
   "source": [
    "### Анализ оттока по наличию кредитной карты"
   ]
  },
  {
   "cell_type": "code",
   "execution_count": 24,
   "metadata": {},
   "outputs": [
    {
     "data": {
      "image/png": "[encoded data removed]",
      "text/plain": [
       "<Figure size 1080x720 with 1 Axes>"
      ]
     },
     "metadata": {},
     "output_type": "display_data"
    }
   ],
   "source": [
    "plt.figure(figsize=(15, 10))\n",
    "sns.set_style('whitegrid')\n",
    "sns.barplot(data=df, x='credit_card', y='churn', ci=None, palette='pastel')\n",
    "plt.axhline(y=mean_churn, color='red', linestyle='--', label='Cредний уровень оттока по банку')\n",
    "plt.xticks(ticks=[0, 1], labels=['Нет кредитной карты', 'Есть кредитная карта'])\n",
    "plt.title('Распределение оттока по наличию кредитной карты', fontsize=14)\n",
    "plt.xlabel('Наличие кредитной карты')\n",
    "plt.ylabel('Отток')\n",
    "plt.legend()\n",
    "plt.show()"
   ]
  },
  {
   "cell_type": "markdown",
   "metadata": {},
   "source": [
    "Отток клиентов, которые не имеют кредтную карту, превышает средний отток по банку."
   ]
  },
  {
   "cell_type": "markdown",
   "metadata": {},
   "source": [
    "### Анализ оттока по активности клиента"
   ]
  },
  {
   "cell_type": "code",
   "execution_count": 25,
   "metadata": {},
   "outputs": [
    {
     "data": {
      "image/png": "[encoded data removed]",
      "text/plain": [
       "<Figure size 1080x720 with 1 Axes>"
      ]
     },
     "metadata": {},
     "output_type": "display_data"
    }
   ],
   "source": [
    "plt.figure(figsize=(15, 10))\n",
    "sns.set_style('whitegrid')\n",
    "sns.barplot(data=df, x='last_activity', y='churn', ci=None, palette='pastel')\n",
    "plt.axhline(y=mean_churn, color='red', linestyle='--', label='Cредний уровень оттока по банку')\n",
    "plt.xticks(ticks=[0, 1], labels=['Неактивный', 'Активный'])\n",
    "plt.title('Распределение оттока по активности клиента', fontsize=14)\n",
    "plt.xlabel('Активность клиентов')\n",
    "plt.ylabel('Отток')\n",
    "plt.legend()\n",
    "plt.show()"
   ]
  },
  {
   "cell_type": "markdown",
   "metadata": {},
   "source": [
    "Отток активных клиентов больше неактивных."
   ]
  },
  {
   "cell_type": "markdown",
   "metadata": {},
   "source": [
    "### Корреляционный анализ"
   ]
  },
  {
   "cell_type": "code",
   "execution_count": 26,
   "metadata": {},
   "outputs": [
    {
     "data": {
      "text/html": [
       "<div>\n",
       "<style scoped>\n",
       "    .dataframe tbody tr th:only-of-type {\n",
       "        vertical-align: middle;\n",
       "    }\n",
       "\n",
       "    .dataframe tbody tr th {\n",
       "        vertical-align: top;\n",
       "    }\n",
       "\n",
       "    .dataframe thead th {\n",
       "        text-align: right;\n",
       "    }\n",
       "</style>\n",
       "<table border=\"1\" class=\"dataframe\">\n",
       "  <thead>\n",
       "    <tr style=\"text-align: right;\">\n",
       "      <th></th>\n",
       "      <th>score</th>\n",
       "      <th>age</th>\n",
       "      <th>equity</th>\n",
       "      <th>balance</th>\n",
       "      <th>products</th>\n",
       "      <th>credit_card</th>\n",
       "      <th>last_activity</th>\n",
       "      <th>est_salary</th>\n",
       "      <th>Ростов</th>\n",
       "      <th>Рыбинск</th>\n",
       "      <th>Ярославль</th>\n",
       "      <th>gender_dum</th>\n",
       "      <th>churn</th>\n",
       "    </tr>\n",
       "  </thead>\n",
       "  <tbody>\n",
       "    <tr>\n",
       "      <th>0</th>\n",
       "      <td>850</td>\n",
       "      <td>25</td>\n",
       "      <td>1</td>\n",
       "      <td>59214.82</td>\n",
       "      <td>2</td>\n",
       "      <td>0</td>\n",
       "      <td>1</td>\n",
       "      <td>75719.14</td>\n",
       "      <td>0</td>\n",
       "      <td>1</td>\n",
       "      <td>0</td>\n",
       "      <td>0</td>\n",
       "      <td>1</td>\n",
       "    </tr>\n",
       "    <tr>\n",
       "      <th>1</th>\n",
       "      <td>861</td>\n",
       "      <td>37</td>\n",
       "      <td>5</td>\n",
       "      <td>850594.33</td>\n",
       "      <td>3</td>\n",
       "      <td>1</td>\n",
       "      <td>0</td>\n",
       "      <td>86621.77</td>\n",
       "      <td>0</td>\n",
       "      <td>1</td>\n",
       "      <td>0</td>\n",
       "      <td>0</td>\n",
       "      <td>0</td>\n",
       "    </tr>\n",
       "    <tr>\n",
       "      <th>2</th>\n",
       "      <td>892</td>\n",
       "      <td>30</td>\n",
       "      <td>0</td>\n",
       "      <td>NaN</td>\n",
       "      <td>1</td>\n",
       "      <td>1</td>\n",
       "      <td>1</td>\n",
       "      <td>107683.34</td>\n",
       "      <td>0</td>\n",
       "      <td>1</td>\n",
       "      <td>0</td>\n",
       "      <td>0</td>\n",
       "      <td>0</td>\n",
       "    </tr>\n",
       "    <tr>\n",
       "      <th>3</th>\n",
       "      <td>866</td>\n",
       "      <td>51</td>\n",
       "      <td>5</td>\n",
       "      <td>1524746.26</td>\n",
       "      <td>2</td>\n",
       "      <td>0</td>\n",
       "      <td>1</td>\n",
       "      <td>174423.53</td>\n",
       "      <td>0</td>\n",
       "      <td>0</td>\n",
       "      <td>1</td>\n",
       "      <td>0</td>\n",
       "      <td>1</td>\n",
       "    </tr>\n",
       "    <tr>\n",
       "      <th>4</th>\n",
       "      <td>730</td>\n",
       "      <td>34</td>\n",
       "      <td>5</td>\n",
       "      <td>174.00</td>\n",
       "      <td>1</td>\n",
       "      <td>1</td>\n",
       "      <td>0</td>\n",
       "      <td>67353.16</td>\n",
       "      <td>0</td>\n",
       "      <td>0</td>\n",
       "      <td>1</td>\n",
       "      <td>1</td>\n",
       "      <td>1</td>\n",
       "    </tr>\n",
       "  </tbody>\n",
       "</table>\n",
       "</div>"
      ],
      "text/plain": [
       "   score  age  equity     balance  products  credit_card  last_activity  \\\n",
       "0    850   25       1    59214.82         2            0              1   \n",
       "1    861   37       5   850594.33         3            1              0   \n",
       "2    892   30       0         NaN         1            1              1   \n",
       "3    866   51       5  1524746.26         2            0              1   \n",
       "4    730   34       5      174.00         1            1              0   \n",
       "\n",
       "   est_salary  Ростов  Рыбинск  Ярославль  gender_dum  churn  \n",
       "0    75719.14       0        1          0           0      1  \n",
       "1    86621.77       0        1          0           0      0  \n",
       "2   107683.34       0        1          0           0      0  \n",
       "3   174423.53       0        0          1           0      1  \n",
       "4    67353.16       0        0          1           1      1  "
      ]
     },
     "execution_count": 26,
     "metadata": {},
     "output_type": "execute_result"
    }
   ],
   "source": [
    "# отберем признаки, между которыми будем смотреть зависимость\n",
    "df_corr = df[['score', 'age', 'equity', 'balance', 'products', 'credit_card', 'last_activity', 'est_salary', 'Ростов', 'Рыбинск', 'Ярославль', 'gender_dum', 'churn']]\n",
    "df_corr.head()"
   ]
  },
  {
   "cell_type": "code",
   "execution_count": 27,
   "metadata": {},
   "outputs": [
    {
     "data": {
      "text/html": [
       "<div>\n",
       "<style scoped>\n",
       "    .dataframe tbody tr th:only-of-type {\n",
       "        vertical-align: middle;\n",
       "    }\n",
       "\n",
       "    .dataframe tbody tr th {\n",
       "        vertical-align: top;\n",
       "    }\n",
       "\n",
       "    .dataframe thead th {\n",
       "        text-align: right;\n",
       "    }\n",
       "</style>\n",
       "<table border=\"1\" class=\"dataframe\">\n",
       "  <thead>\n",
       "    <tr style=\"text-align: right;\">\n",
       "      <th></th>\n",
       "      <th>score</th>\n",
       "      <th>age</th>\n",
       "      <th>equity</th>\n",
       "      <th>balance</th>\n",
       "      <th>products</th>\n",
       "      <th>credit_card</th>\n",
       "      <th>last_activity</th>\n",
       "      <th>est_salary</th>\n",
       "      <th>Ростов</th>\n",
       "      <th>Рыбинск</th>\n",
       "      <th>Ярославль</th>\n",
       "      <th>gender_dum</th>\n",
       "      <th>churn</th>\n",
       "    </tr>\n",
       "  </thead>\n",
       "  <tbody>\n",
       "    <tr>\n",
       "      <th>score</th>\n",
       "      <td>1.000000</td>\n",
       "      <td>-0.012339</td>\n",
       "      <td>0.064787</td>\n",
       "      <td>0.235283</td>\n",
       "      <td>-0.003662</td>\n",
       "      <td>-0.095032</td>\n",
       "      <td>-0.030168</td>\n",
       "      <td>0.164350</td>\n",
       "      <td>-0.037508</td>\n",
       "      <td>-0.001076</td>\n",
       "      <td>0.027579</td>\n",
       "      <td>0.011406</td>\n",
       "      <td>0.106076</td>\n",
       "    </tr>\n",
       "    <tr>\n",
       "      <th>age</th>\n",
       "      <td>-0.012339</td>\n",
       "      <td>1.000000</td>\n",
       "      <td>0.020581</td>\n",
       "      <td>0.069745</td>\n",
       "      <td>0.017900</td>\n",
       "      <td>-0.122761</td>\n",
       "      <td>-0.007849</td>\n",
       "      <td>-0.039354</td>\n",
       "      <td>0.047128</td>\n",
       "      <td>0.028978</td>\n",
       "      <td>-0.059549</td>\n",
       "      <td>-0.212628</td>\n",
       "      <td>-0.050463</td>\n",
       "    </tr>\n",
       "    <tr>\n",
       "      <th>equity</th>\n",
       "      <td>0.064787</td>\n",
       "      <td>0.020581</td>\n",
       "      <td>1.000000</td>\n",
       "      <td>0.163793</td>\n",
       "      <td>0.431110</td>\n",
       "      <td>-0.167262</td>\n",
       "      <td>-0.001991</td>\n",
       "      <td>-0.171506</td>\n",
       "      <td>0.035372</td>\n",
       "      <td>-0.005004</td>\n",
       "      <td>-0.020583</td>\n",
       "      <td>-0.020798</td>\n",
       "      <td>0.270105</td>\n",
       "    </tr>\n",
       "    <tr>\n",
       "      <th>balance</th>\n",
       "      <td>0.235283</td>\n",
       "      <td>0.069745</td>\n",
       "      <td>0.163793</td>\n",
       "      <td>1.000000</td>\n",
       "      <td>0.075716</td>\n",
       "      <td>-0.059850</td>\n",
       "      <td>0.024770</td>\n",
       "      <td>0.338800</td>\n",
       "      <td>-0.035635</td>\n",
       "      <td>-0.034420</td>\n",
       "      <td>0.056967</td>\n",
       "      <td>0.051271</td>\n",
       "      <td>0.085915</td>\n",
       "    </tr>\n",
       "    <tr>\n",
       "      <th>products</th>\n",
       "      <td>-0.003662</td>\n",
       "      <td>0.017900</td>\n",
       "      <td>0.431110</td>\n",
       "      <td>0.075716</td>\n",
       "      <td>1.000000</td>\n",
       "      <td>-0.251562</td>\n",
       "      <td>0.037320</td>\n",
       "      <td>-0.117802</td>\n",
       "      <td>-0.006982</td>\n",
       "      <td>-0.041882</td>\n",
       "      <td>0.042698</td>\n",
       "      <td>-0.022375</td>\n",
       "      <td>0.301274</td>\n",
       "    </tr>\n",
       "    <tr>\n",
       "      <th>credit_card</th>\n",
       "      <td>-0.095032</td>\n",
       "      <td>-0.122761</td>\n",
       "      <td>-0.167262</td>\n",
       "      <td>-0.059850</td>\n",
       "      <td>-0.251562</td>\n",
       "      <td>1.000000</td>\n",
       "      <td>-0.033331</td>\n",
       "      <td>0.035883</td>\n",
       "      <td>-0.098073</td>\n",
       "      <td>-0.050134</td>\n",
       "      <td>0.114756</td>\n",
       "      <td>0.125961</td>\n",
       "      <td>-0.130122</td>\n",
       "    </tr>\n",
       "    <tr>\n",
       "      <th>last_activity</th>\n",
       "      <td>-0.030168</td>\n",
       "      <td>-0.007849</td>\n",
       "      <td>-0.001991</td>\n",
       "      <td>0.024770</td>\n",
       "      <td>0.037320</td>\n",
       "      <td>-0.033331</td>\n",
       "      <td>1.000000</td>\n",
       "      <td>0.002852</td>\n",
       "      <td>0.007222</td>\n",
       "      <td>0.048694</td>\n",
       "      <td>-0.049008</td>\n",
       "      <td>-0.013191</td>\n",
       "      <td>0.169690</td>\n",
       "    </tr>\n",
       "    <tr>\n",
       "      <th>est_salary</th>\n",
       "      <td>0.164350</td>\n",
       "      <td>-0.039354</td>\n",
       "      <td>-0.171506</td>\n",
       "      <td>0.338800</td>\n",
       "      <td>-0.117802</td>\n",
       "      <td>0.035883</td>\n",
       "      <td>0.002852</td>\n",
       "      <td>1.000000</td>\n",
       "      <td>-0.105964</td>\n",
       "      <td>-0.056535</td>\n",
       "      <td>0.126123</td>\n",
       "      <td>0.082491</td>\n",
       "      <td>0.001893</td>\n",
       "    </tr>\n",
       "    <tr>\n",
       "      <th>Ростов</th>\n",
       "      <td>-0.037508</td>\n",
       "      <td>0.047128</td>\n",
       "      <td>0.035372</td>\n",
       "      <td>-0.035635</td>\n",
       "      <td>-0.006982</td>\n",
       "      <td>-0.098073</td>\n",
       "      <td>0.007222</td>\n",
       "      <td>-0.105964</td>\n",
       "      <td>1.000000</td>\n",
       "      <td>-0.246721</td>\n",
       "      <td>-0.487067</td>\n",
       "      <td>-0.014731</td>\n",
       "      <td>0.005115</td>\n",
       "    </tr>\n",
       "    <tr>\n",
       "      <th>Рыбинск</th>\n",
       "      <td>-0.001076</td>\n",
       "      <td>0.028978</td>\n",
       "      <td>-0.005004</td>\n",
       "      <td>-0.034420</td>\n",
       "      <td>-0.041882</td>\n",
       "      <td>-0.050134</td>\n",
       "      <td>0.048694</td>\n",
       "      <td>-0.056535</td>\n",
       "      <td>-0.246721</td>\n",
       "      <td>1.000000</td>\n",
       "      <td>-0.726196</td>\n",
       "      <td>-0.015020</td>\n",
       "      <td>-0.030989</td>\n",
       "    </tr>\n",
       "    <tr>\n",
       "      <th>Ярославль</th>\n",
       "      <td>0.027579</td>\n",
       "      <td>-0.059549</td>\n",
       "      <td>-0.020583</td>\n",
       "      <td>0.056967</td>\n",
       "      <td>0.042698</td>\n",
       "      <td>0.114756</td>\n",
       "      <td>-0.049008</td>\n",
       "      <td>0.126123</td>\n",
       "      <td>-0.487067</td>\n",
       "      <td>-0.726196</td>\n",
       "      <td>1.000000</td>\n",
       "      <td>0.023987</td>\n",
       "      <td>0.024300</td>\n",
       "    </tr>\n",
       "    <tr>\n",
       "      <th>gender_dum</th>\n",
       "      <td>0.011406</td>\n",
       "      <td>-0.212628</td>\n",
       "      <td>-0.020798</td>\n",
       "      <td>0.051271</td>\n",
       "      <td>-0.022375</td>\n",
       "      <td>0.125961</td>\n",
       "      <td>-0.013191</td>\n",
       "      <td>0.082491</td>\n",
       "      <td>-0.014731</td>\n",
       "      <td>-0.015020</td>\n",
       "      <td>0.023987</td>\n",
       "      <td>1.000000</td>\n",
       "      <td>0.141896</td>\n",
       "    </tr>\n",
       "    <tr>\n",
       "      <th>churn</th>\n",
       "      <td>0.106076</td>\n",
       "      <td>-0.050463</td>\n",
       "      <td>0.270105</td>\n",
       "      <td>0.085915</td>\n",
       "      <td>0.301274</td>\n",
       "      <td>-0.130122</td>\n",
       "      <td>0.169690</td>\n",
       "      <td>0.001893</td>\n",
       "      <td>0.005115</td>\n",
       "      <td>-0.030989</td>\n",
       "      <td>0.024300</td>\n",
       "      <td>0.141896</td>\n",
       "      <td>1.000000</td>\n",
       "    </tr>\n",
       "  </tbody>\n",
       "</table>\n",
       "</div>"
      ],
      "text/plain": [
       "                  score       age    equity   balance  products  credit_card  \\\n",
       "score          1.000000 -0.012339  0.064787  0.235283 -0.003662    -0.095032   \n",
       "age           -0.012339  1.000000  0.020581  0.069745  0.017900    -0.122761   \n",
       "equity         0.064787  0.020581  1.000000  0.163793  0.431110    -0.167262   \n",
       "balance        0.235283  0.069745  0.163793  1.000000  0.075716    -0.059850   \n",
       "products      -0.003662  0.017900  0.431110  0.075716  1.000000    -0.251562   \n",
       "credit_card   -0.095032 -0.122761 -0.167262 -0.059850 -0.251562     1.000000   \n",
       "last_activity -0.030168 -0.007849 -0.001991  0.024770  0.037320    -0.033331   \n",
       "est_salary     0.164350 -0.039354 -0.171506  0.338800 -0.117802     0.035883   \n",
       "Ростов        -0.037508  0.047128  0.035372 -0.035635 -0.006982    -0.098073   \n",
       "Рыбинск       -0.001076  0.028978 -0.005004 -0.034420 -0.041882    -0.050134   \n",
       "Ярославль      0.027579 -0.059549 -0.020583  0.056967  0.042698     0.114756   \n",
       "gender_dum     0.011406 -0.212628 -0.020798  0.051271 -0.022375     0.125961   \n",
       "churn          0.106076 -0.050463  0.270105  0.085915  0.301274    -0.130122   \n",
       "\n",
       "               last_activity  est_salary    Ростов   Рыбинск  Ярославль  \\\n",
       "score              -0.030168    0.164350 -0.037508 -0.001076   0.027579   \n",
       "age                -0.007849   -0.039354  0.047128  0.028978  -0.059549   \n",
       "equity             -0.001991   -0.171506  0.035372 -0.005004  -0.020583   \n",
       "balance             0.024770    0.338800 -0.035635 -0.034420   0.056967   \n",
       "products            0.037320   -0.117802 -0.006982 -0.041882   0.042698   \n",
       "credit_card        -0.033331    0.035883 -0.098073 -0.050134   0.114756   \n",
       "last_activity       1.000000    0.002852  0.007222  0.048694  -0.049008   \n",
       "est_salary          0.002852    1.000000 -0.105964 -0.056535   0.126123   \n",
       "Ростов              0.007222   -0.105964  1.000000 -0.246721  -0.487067   \n",
       "Рыбинск             0.048694   -0.056535 -0.246721  1.000000  -0.726196   \n",
       "Ярославль          -0.049008    0.126123 -0.487067 -0.726196   1.000000   \n",
       "gender_dum         -0.013191    0.082491 -0.014731 -0.015020   0.023987   \n",
       "churn               0.169690    0.001893  0.005115 -0.030989   0.024300   \n",
       "\n",
       "               gender_dum     churn  \n",
       "score            0.011406  0.106076  \n",
       "age             -0.212628 -0.050463  \n",
       "equity          -0.020798  0.270105  \n",
       "balance          0.051271  0.085915  \n",
       "products        -0.022375  0.301274  \n",
       "credit_card      0.125961 -0.130122  \n",
       "last_activity   -0.013191  0.169690  \n",
       "est_salary       0.082491  0.001893  \n",
       "Ростов          -0.014731  0.005115  \n",
       "Рыбинск         -0.015020 -0.030989  \n",
       "Ярославль        0.023987  0.024300  \n",
       "gender_dum       1.000000  0.141896  \n",
       "churn            0.141896  1.000000  "
      ]
     },
     "execution_count": 27,
     "metadata": {},
     "output_type": "execute_result"
    }
   ],
   "source": [
    "# построим матрицу корреляции признаков\n",
    "df_corr.corr()"
   ]
  },
  {
   "cell_type": "code",
   "execution_count": 28,
   "metadata": {},
   "outputs": [
    {
     "data": {
      "image/png": "[encoded data removed]",
      "text/plain": [
       "<Figure size 1080x720 with 2 Axes>"
      ]
     },
     "metadata": {},
     "output_type": "display_data"
    }
   ],
   "source": [
    "# визуализируем корреляцию при помощи тепловой карты\n",
    "plt.figure(figsize=(15, 10))\n",
    "sns.set_style('whitegrid')\n",
    "sns.heatmap(df_corr.corr(), cmap='coolwarm', center=0, vmin=-1, vmax=1, annot=True)\n",
    "plt.title('График корреляции признаков', fontsize=14)\n",
    "plt.show()"
   ]
  },
  {
   "cell_type": "markdown",
   "metadata": {},
   "source": [
    "Анализируя зависимость коэффициентов корреляции по шкале Чеддока, наблюдается слабая связь (0,1 - 0,3) признака оттока с такими признаками как: \n",
    "- баллы кредитного скоринга, \n",
    "- пол, \n",
    "- наличие кредитной карты, \n",
    "- активность клиента, \n",
    "- количество баллов собственности,\n",
    "- количество продуктов, которыми пользуется клиент.\n",
    "\n",
    "Корреляционная зависимость остальных признаков с оттоком клиентов практически отсутствует."
   ]
  },
  {
   "cell_type": "markdown",
   "metadata": {},
   "source": [
    "### Cравненине портретов клиентов, которые склонны и не склонны уходить из банка"
   ]
  },
  {
   "cell_type": "markdown",
   "metadata": {},
   "source": [
    "На основании проведенного анализа, составим портреты клиентов, которые склонны и не склонны уходить из банка:\n",
    "\n",
    "\n",
    "|                               | **Возраст**       | **Пол** | **Cкоринг**| **Собственность**| **Продукты**| **Кредитная карта** | **Баланс на счёте** |\n",
    "|:------------------------------|:------------------|:--------|:-----------|:-----------------|:------------|:-----|:--------|\n",
    "|**Клиент, склонный уходить**   | 25-36, 50-61      | мужчина | 820-900    | 3 и более        | 2 и более   | нет  | > 1 млн.|\n",
    "|**Клиент, не склонный уходить**| 18-24, 37-49, >62 | женщина | <819, >942 | от 0 до 3        | 1           | есть | < 750 тыс.|\n"
   ]
  },
  {
   "cell_type": "markdown",
   "metadata": {},
   "source": [
    "## Проверка статистических гипотез"
   ]
  },
  {
   "cell_type": "markdown",
   "metadata": {},
   "source": [
    "### Проверка гипотезы различия дохода между теми клиентами, которые ушли и теми, которые остались"
   ]
  },
  {
   "cell_type": "markdown",
   "metadata": {},
   "source": [
    "- **Нулевая гипотеза:** доходы клиентов, которые ушли и остались, равны.\n",
    "- **Альтернативная гипотеза:** доходы клиентов, которые ушли и остались, неравны."
   ]
  },
  {
   "cell_type": "code",
   "execution_count": 29,
   "metadata": {},
   "outputs": [],
   "source": [
    "# Подготовим данные\n",
    "df_churn = df.query('churn == 1')\n",
    "df_not_churn = df.query('churn == 0')"
   ]
  },
  {
   "cell_type": "code",
   "execution_count": 30,
   "metadata": {},
   "outputs": [
    {
     "data": {
      "text/plain": [
       "1818"
      ]
     },
     "metadata": {},
     "output_type": "display_data"
    },
    {
     "data": {
      "text/plain": [
       "8155"
      ]
     },
     "execution_count": 30,
     "metadata": {},
     "output_type": "execute_result"
    }
   ],
   "source": [
    "# Проверим размеры выборок\n",
    "display(df_churn['est_salary'].shape[0])\n",
    "df_not_churn['est_salary'].shape[0]"
   ]
  },
  {
   "cell_type": "markdown",
   "metadata": {},
   "source": [
    "Размеры наших выборок очень отличаются, поэтому если будем использовать t-test Стьюдента, то необходимо будет ввести параметр equal_var='False'. Но для начала проверим наши выборки на нормальность."
   ]
  },
  {
   "cell_type": "code",
   "execution_count": 31,
   "metadata": {},
   "outputs": [],
   "source": [
    "# напишем функцию проверки распределения на нормальность с использованием критерия Шапиро-Уилка\n",
    "def shapiro(data):\n",
    "    alpha = 0.05  # критический уровень статистической значимости\n",
    "    results = st.shapiro(data)\n",
    "    p_value = results[1] \n",
    "    \n",
    "    print('p-значение: ', p_value)\n",
    "    \n",
    "    if p_value < alpha:\n",
    "        print('Отвергаем нулевую гипотезу: распределение не нормально')\n",
    "    else:\n",
    "        print('Не получилось отвергнуть нулевую гипотезу, всё нормально')"
   ]
  },
  {
   "cell_type": "code",
   "execution_count": 32,
   "metadata": {},
   "outputs": [
    {
     "name": "stdout",
     "output_type": "stream",
     "text": [
      "p-значение:  0.0\n",
      "Отвергаем нулевую гипотезу: распределение не нормально\n"
     ]
    }
   ],
   "source": [
    "# проверим нормальность распределения доходов клиентов, которые ушли\n",
    "shapiro(df_churn['est_salary'])"
   ]
  },
  {
   "cell_type": "code",
   "execution_count": 33,
   "metadata": {},
   "outputs": [
    {
     "name": "stdout",
     "output_type": "stream",
     "text": [
      "p-значение:  0.0\n",
      "Отвергаем нулевую гипотезу: распределение не нормально\n"
     ]
    },
    {
     "name": "stderr",
     "output_type": "stream",
     "text": [
      "/opt/conda/lib/python3.9/site-packages/scipy/stats/_morestats.py:1800: UserWarning: p-value may not be accurate for N > 5000.\n",
      "  warnings.warn(\"p-value may not be accurate for N > 5000.\")\n"
     ]
    }
   ],
   "source": [
    "# проверим нормальность распределения доходов клиентов, которые остались\n",
    "shapiro(df_not_churn['est_salary'])"
   ]
  },
  {
   "cell_type": "markdown",
   "metadata": {},
   "source": [
    "Т.к. после проверки тестом Шапиро-Уилка данных на соответствие нормальному распределению, мы выяснили что наши распределения не нормальны. Поэтому мы не можем использовать t-test Стьюдента и в данном случае будем использовать непараметрический u-критерий Манна-Уитни."
   ]
  },
  {
   "cell_type": "code",
   "execution_count": 34,
   "metadata": {},
   "outputs": [
    {
     "name": "stdout",
     "output_type": "stream",
     "text": [
      "p-значение:  0.00016830729188229058\n",
      "Отвергаем нулевую гипотезу: разница статистически значима\n"
     ]
    }
   ],
   "source": [
    "# проверим статистическую значимость гипотез непараметрическим тестом Уилкоксона-Манна-Уитни\n",
    "alpha = 0.05\n",
    "results = st.mannwhitneyu(df_churn['est_salary'], df_not_churn['est_salary'], True)\n",
    "\n",
    "print('p-значение: ', results.pvalue)\n",
    "\n",
    "if results.pvalue < alpha:\n",
    "    print('Отвергаем нулевую гипотезу: разница статистически значима')\n",
    "else:\n",
    "    print('Не получилось отвергнуть нулевую гипотезу, вывод о различии сделать нельзя')"
   ]
  },
  {
   "cell_type": "markdown",
   "metadata": {},
   "source": [
    "**Вывод:** Отвергаем нулевую гипотезу, значит нет основания считать, что доходы клиентов, которые ушли и остались, равны."
   ]
  },
  {
   "cell_type": "markdown",
   "metadata": {},
   "source": [
    "### Проверка гипотезы различия балла кредитного скоринга между теми клиентами, которые ушли и теми, которые остались"
   ]
  },
  {
   "cell_type": "code",
   "execution_count": 35,
   "metadata": {},
   "outputs": [
    {
     "name": "stdout",
     "output_type": "stream",
     "text": [
      "p-значение:  9.341003897134215e-05\n",
      "Отвергаем нулевую гипотезу: распределение не нормально\n"
     ]
    }
   ],
   "source": [
    "# проверим нормальность распределения балла кредитного скоринга клиентов, которые ушли\n",
    "shapiro(df_churn['score'])"
   ]
  },
  {
   "cell_type": "code",
   "execution_count": 36,
   "metadata": {},
   "outputs": [
    {
     "name": "stdout",
     "output_type": "stream",
     "text": [
      "p-значение:  6.163534187648631e-26\n",
      "Отвергаем нулевую гипотезу: распределение не нормально\n"
     ]
    }
   ],
   "source": [
    "# проверим нормальность распределения балла кредитного скоринга клиентов, которые остались\n",
    "shapiro(df_not_churn['score'])"
   ]
  },
  {
   "cell_type": "code",
   "execution_count": 37,
   "metadata": {},
   "outputs": [
    {
     "name": "stdout",
     "output_type": "stream",
     "text": [
      "p-значение:  4.508763537702903e-22\n",
      "Отвергаем нулевую гипотезу: разница статистически значима\n"
     ]
    }
   ],
   "source": [
    "# проверим статистическую значимость гипотез непараметрическим тестом Уилкоксона-Манна-Уитни\n",
    "alpha = 0.05\n",
    "results = st.mannwhitneyu(df_churn['score'], df_not_churn['score'], True)\n",
    "\n",
    "print('p-значение: ', results.pvalue)\n",
    "\n",
    "if results.pvalue < alpha:\n",
    "    print('Отвергаем нулевую гипотезу: разница статистически значима')\n",
    "else:\n",
    "    print('Не получилось отвергнуть нулевую гипотезу, вывод о различии сделать нельзя')"
   ]
  },
  {
   "cell_type": "markdown",
   "metadata": {},
   "source": [
    "**Вывод:** Отвергаем нулевую гипотезу, значит нет основания считать, что баллы кредитного скоринга клиентов, которые ушли и остались, равны."
   ]
  },
  {
   "cell_type": "markdown",
   "metadata": {},
   "source": [
    "## Подведение промежуточных итогов"
   ]
  },
  {
   "cell_type": "markdown",
   "metadata": {},
   "source": [
    "На основе EDA и корреляционного анализа мы выбрали следующие признаки:\n",
    "- количество продуктов - больше 1,\n",
    "- количество баллов собственности - больше 2,\n",
    "- активность клиента - активные,\n",
    "- пол - мужчины,\n",
    "- баллы кредитного скоринга - 820-900,\n",
    "- баланс на счете - больше 1 млн.,\n",
    "- возраст - 25-36, 50-61.\n",
    "\n",
    " Из этих признаков мы составим сегменты клиентов, которые наиболее подвержены оттоку.\n",
    "\n",
    "Также при проверке гипотез о равенстве доходов и баллов скоринга между отточными клиентами и теми клиентами, которые остались, мы выявили, что данные признаки выборок неравны, а значит могут оказывать влияние на отток клиентов.\n"
   ]
  },
  {
   "cell_type": "markdown",
   "metadata": {},
   "source": [
    "## Сегментация"
   ]
  },
  {
   "cell_type": "markdown",
   "metadata": {},
   "source": [
    "На основе анализа корреляции признаков с признаком оттока, мы выделили те признаки, которые коррелируют больше. На основе этих признаков выделим сегменты клиентов с уровнем оттока выше среднего по банку 18%."
   ]
  },
  {
   "cell_type": "markdown",
   "metadata": {},
   "source": [
    "### Сегмент 1 (Взрослые мужчины)"
   ]
  },
  {
   "cell_type": "markdown",
   "metadata": {},
   "source": [
    "Для первого сегмента выберем следующие признаки:\n",
    "- пол - мужчины\n",
    "- возраст - от 50 до 61"
   ]
  },
  {
   "cell_type": "code",
   "execution_count": 38,
   "metadata": {},
   "outputs": [],
   "source": [
    "segment_1 = df.query('gender_dum == 1 and (50 <= age <= 61)')"
   ]
  },
  {
   "cell_type": "code",
   "execution_count": 39,
   "metadata": {},
   "outputs": [
    {
     "data": {
      "text/plain": [
       "'Количество клиентов в сегменте: 819'"
      ]
     },
     "metadata": {},
     "output_type": "display_data"
    },
    {
     "data": {
      "text/plain": [
       "'Количество отточных клиентов в сегменте: 267'"
      ]
     },
     "metadata": {},
     "output_type": "display_data"
    },
    {
     "data": {
      "text/plain": [
       "'Уровень оттока в сегменте: 33%'"
      ]
     },
     "execution_count": 39,
     "metadata": {},
     "output_type": "execute_result"
    }
   ],
   "source": [
    "display(f'Количество клиентов в сегменте: {segment_1.shape[0]}')\n",
    "display(f'Количество отточных клиентов в сегменте: {segment_1.query(\"churn == 1\").shape[0]}')\n",
    "'Уровень оттока в сегменте: {:.0%}'.format(segment_1[\"churn\"].mean())"
   ]
  },
  {
   "cell_type": "markdown",
   "metadata": {},
   "source": [
    "### Сегмент 2 (Обеспеченные клиенты)"
   ]
  },
  {
   "cell_type": "markdown",
   "metadata": {},
   "source": [
    "Для второго сегмента выберем следующие признаки:\n",
    "- количество собственности - больше 2\n",
    "- баланс на счете - больше 1000000\n",
    "- балл кредитного скоринга - от 820 до 900"
   ]
  },
  {
   "cell_type": "code",
   "execution_count": 40,
   "metadata": {},
   "outputs": [],
   "source": [
    "segment_2 = df.query('equity >= 3 and balance > 1000000 and (820 <= score <= 900)')"
   ]
  },
  {
   "cell_type": "code",
   "execution_count": 41,
   "metadata": {},
   "outputs": [
    {
     "data": {
      "text/plain": [
       "'Количество клиентов в сегменте: 741'"
      ]
     },
     "metadata": {},
     "output_type": "display_data"
    },
    {
     "data": {
      "text/plain": [
       "'Количество отточных клиентов в сегменте: 322'"
      ]
     },
     "metadata": {},
     "output_type": "display_data"
    },
    {
     "data": {
      "text/plain": [
       "'Уровень оттока в сегменте: 43%'"
      ]
     },
     "execution_count": 41,
     "metadata": {},
     "output_type": "execute_result"
    }
   ],
   "source": [
    "display(f'Количество клиентов в сегменте: {segment_2.shape[0]}')\n",
    "display(f'Количество отточных клиентов в сегменте: {segment_2.query(\"churn == 1\").shape[0]}')\n",
    "'Уровень оттока в сегменте: {:.0%}'.format(segment_2[\"churn\"].mean())"
   ]
  },
  {
   "cell_type": "markdown",
   "metadata": {},
   "source": [
    "### Сегмент 3 (Молодые активные клиенты со средним доходом)"
   ]
  },
  {
   "cell_type": "markdown",
   "metadata": {},
   "source": [
    "Для третьего сегмента выберем следующие признаки:\n",
    "- возраст - от 25 до 36\n",
    "- активный клиент - 1 (да)\n",
    "- доход - от 90 тыс. до 210 тыс."
   ]
  },
  {
   "cell_type": "code",
   "execution_count": 42,
   "metadata": {},
   "outputs": [],
   "source": [
    "segment_3 = df.query('(90000 <= est_salary <= 210000) and (25 <= age <= 36) and last_activity == 1')"
   ]
  },
  {
   "cell_type": "code",
   "execution_count": 43,
   "metadata": {
    "scrolled": true
   },
   "outputs": [
    {
     "data": {
      "text/plain": [
       "'Количество клиентов в сегменте: 889'"
      ]
     },
     "metadata": {},
     "output_type": "display_data"
    },
    {
     "data": {
      "text/plain": [
       "'Количество отточных клиентов в сегменте: 321'"
      ]
     },
     "metadata": {},
     "output_type": "display_data"
    },
    {
     "data": {
      "text/plain": [
       "'Уровень оттока в сегменте: 36%'"
      ]
     },
     "execution_count": 43,
     "metadata": {},
     "output_type": "execute_result"
    }
   ],
   "source": [
    "display(f'Количество клиентов в сегменте: {segment_3.shape[0]}')\n",
    "display(f'Количество отточных клиентов в сегменте: {segment_3.query(\"churn == 1\").shape[0]}')\n",
    "'Уровень оттока в сегменте: {:.0%}'.format(segment_3[\"churn\"].mean())"
   ]
  },
  {
   "cell_type": "markdown",
   "metadata": {},
   "source": [
    "## Приоритизация сегментов"
   ]
  },
  {
   "cell_type": "markdown",
   "metadata": {},
   "source": [
    "Приоритизируем сегменты по уровню оттока:<br>\n",
    "1) Сегмент 2 (Обеспеченные клиенты) - 43%<br>\n",
    "2) Сегмент 3 (Молодые активные клиенты со средним доходом) - 36%<br>\n",
    "3) Сегмент 1 (Взрослые мужчины) - 33%<br>"
   ]
  },
  {
   "cell_type": "markdown",
   "metadata": {},
   "source": [
    "## Рекомендации"
   ]
  },
  {
   "cell_type": "markdown",
   "metadata": {},
   "source": [
    "Для **сегмента 2** (Обеспеченные клиенты):\n",
    "- предложить открытие вклада на сумму от 1 млн. с увеличенной процентной ставкой\n",
    "- льготное страхование имущества при оформлении ипотеки в банке\n",
    "- предложить бесплатную консультацию по инвестированию при открытии инвестиционного счета\n",
    "\n",
    "Для **сегмента 3** (Молодые активные клиенты со средним доходом):\n",
    "- предложить акцию \"приведи друга\" и получи кэшбэк\n",
    "- предложить овердрафт для дебетовой карты\n",
    "- кэшбэк за оплату покупок на маркетплейсах\n",
    "\n",
    "Для **сегмента 1** (Взрослые мужчины):\n",
    "- увеличенный кэшбэк за оплату на АЗС, в сервисах, в автомагазинах\n",
    "- при открытии долгосрочного вклада для прибавки к пенсии банк начисляет дополнительные проценты\n",
    "- кэшбэк за оплату услуг ЖКУ"
   ]
  }
 ],
 "metadata": {
  "ExecuteTimeLog": [
   {
    "duration": 1378,
    "start_time": "2024-09-09T05:55:06.391Z"
   },
   {
    "duration": 138,
    "start_time": "2024-09-09T05:59:25.402Z"
   },
   {
    "duration": 13,
    "start_time": "2024-09-09T05:59:35.521Z"
   },
   {
    "duration": 24,
    "start_time": "2024-09-09T06:00:24.253Z"
   },
   {
    "duration": 2,
    "start_time": "2024-09-09T06:29:17.277Z"
   },
   {
    "duration": 2,
    "start_time": "2024-09-09T06:31:01.494Z"
   },
   {
    "duration": 5,
    "start_time": "2024-09-09T06:31:28.580Z"
   },
   {
    "duration": 111,
    "start_time": "2024-09-09T06:36:43.879Z"
   },
   {
    "duration": 6,
    "start_time": "2024-09-09T06:37:36.158Z"
   },
   {
    "duration": 4,
    "start_time": "2024-09-09T06:37:51.095Z"
   },
   {
    "duration": 58,
    "start_time": "2024-09-09T06:51:07.917Z"
   },
   {
    "duration": 47,
    "start_time": "2024-09-09T06:58:03.023Z"
   },
   {
    "duration": 10,
    "start_time": "2024-09-09T06:58:19.592Z"
   },
   {
    "duration": 6,
    "start_time": "2024-09-09T06:59:27.270Z"
   },
   {
    "duration": 18,
    "start_time": "2024-09-09T06:59:54.365Z"
   },
   {
    "duration": 37,
    "start_time": "2024-09-09T07:01:01.309Z"
   },
   {
    "duration": 27,
    "start_time": "2024-09-09T07:01:20.589Z"
   },
   {
    "duration": 5,
    "start_time": "2024-09-09T07:10:16.725Z"
   },
   {
    "duration": 5,
    "start_time": "2024-09-09T07:10:43.139Z"
   },
   {
    "duration": 20,
    "start_time": "2024-09-09T07:15:20.198Z"
   },
   {
    "duration": 5,
    "start_time": "2024-09-09T07:17:08.892Z"
   },
   {
    "duration": 5,
    "start_time": "2024-09-09T07:21:36.095Z"
   },
   {
    "duration": 13,
    "start_time": "2024-09-09T07:22:08.367Z"
   },
   {
    "duration": 13,
    "start_time": "2024-09-09T07:25:09.636Z"
   },
   {
    "duration": 5,
    "start_time": "2024-09-09T07:25:32.947Z"
   },
   {
    "duration": 4,
    "start_time": "2024-09-09T07:25:37.947Z"
   },
   {
    "duration": 22,
    "start_time": "2024-09-09T07:26:17.795Z"
   },
   {
    "duration": 4,
    "start_time": "2024-09-09T07:26:48.041Z"
   },
   {
    "duration": 1116,
    "start_time": "2024-09-09T07:34:09.560Z"
   },
   {
    "duration": 121,
    "start_time": "2024-09-09T07:34:10.677Z"
   },
   {
    "duration": 35,
    "start_time": "2024-09-09T07:34:10.800Z"
   },
   {
    "duration": 4,
    "start_time": "2024-09-09T07:34:10.837Z"
   },
   {
    "duration": 30,
    "start_time": "2024-09-09T07:34:10.843Z"
   },
   {
    "duration": 17,
    "start_time": "2024-09-09T07:34:10.875Z"
   },
   {
    "duration": 15,
    "start_time": "2024-09-09T07:34:10.894Z"
   },
   {
    "duration": 13,
    "start_time": "2024-09-09T07:34:10.911Z"
   },
   {
    "duration": 18,
    "start_time": "2024-09-09T07:34:10.926Z"
   },
   {
    "duration": 14,
    "start_time": "2024-09-09T07:34:10.946Z"
   },
   {
    "duration": 1131,
    "start_time": "2024-09-09T07:35:51.065Z"
   },
   {
    "duration": 71,
    "start_time": "2024-09-09T07:35:52.198Z"
   },
   {
    "duration": 33,
    "start_time": "2024-09-09T07:35:52.271Z"
   },
   {
    "duration": 6,
    "start_time": "2024-09-09T07:35:52.305Z"
   },
   {
    "duration": 10,
    "start_time": "2024-09-09T07:35:52.312Z"
   },
   {
    "duration": 14,
    "start_time": "2024-09-09T07:35:52.323Z"
   },
   {
    "duration": 15,
    "start_time": "2024-09-09T07:35:52.339Z"
   },
   {
    "duration": 14,
    "start_time": "2024-09-09T07:35:52.355Z"
   },
   {
    "duration": 37,
    "start_time": "2024-09-09T07:35:52.370Z"
   },
   {
    "duration": 13,
    "start_time": "2024-09-09T07:35:52.409Z"
   },
   {
    "duration": 22,
    "start_time": "2024-09-09T07:37:59.431Z"
   },
   {
    "duration": 1205,
    "start_time": "2024-09-09T07:38:51.690Z"
   },
   {
    "duration": 82,
    "start_time": "2024-09-09T07:38:52.897Z"
   },
   {
    "duration": 42,
    "start_time": "2024-09-09T07:38:52.981Z"
   },
   {
    "duration": 4,
    "start_time": "2024-09-09T07:38:53.025Z"
   },
   {
    "duration": 5,
    "start_time": "2024-09-09T07:38:53.031Z"
   },
   {
    "duration": 21,
    "start_time": "2024-09-09T07:38:53.037Z"
   },
   {
    "duration": 18,
    "start_time": "2024-09-09T07:38:53.059Z"
   },
   {
    "duration": 45,
    "start_time": "2024-09-09T07:38:53.078Z"
   },
   {
    "duration": 3,
    "start_time": "2024-09-09T07:38:53.125Z"
   },
   {
    "duration": 24,
    "start_time": "2024-09-09T07:38:53.130Z"
   },
   {
    "duration": 1248,
    "start_time": "2024-09-09T07:41:16.593Z"
   },
   {
    "duration": 251,
    "start_time": "2024-09-09T07:41:17.843Z"
   },
   {
    "duration": 33,
    "start_time": "2024-09-09T07:41:18.096Z"
   },
   {
    "duration": 5,
    "start_time": "2024-09-09T07:41:18.130Z"
   },
   {
    "duration": 4,
    "start_time": "2024-09-09T07:41:18.137Z"
   },
   {
    "duration": 26,
    "start_time": "2024-09-09T07:41:18.143Z"
   },
   {
    "duration": 38,
    "start_time": "2024-09-09T07:41:18.170Z"
   },
   {
    "duration": 14,
    "start_time": "2024-09-09T07:41:18.210Z"
   },
   {
    "duration": 9,
    "start_time": "2024-09-09T07:41:18.226Z"
   },
   {
    "duration": 14,
    "start_time": "2024-09-09T07:41:18.236Z"
   },
   {
    "duration": 1208,
    "start_time": "2024-09-09T07:46:11.075Z"
   },
   {
    "duration": 93,
    "start_time": "2024-09-09T07:46:12.285Z"
   },
   {
    "duration": 35,
    "start_time": "2024-09-09T07:46:12.379Z"
   },
   {
    "duration": 5,
    "start_time": "2024-09-09T07:46:12.416Z"
   },
   {
    "duration": 29,
    "start_time": "2024-09-09T07:46:12.423Z"
   },
   {
    "duration": 29,
    "start_time": "2024-09-09T07:46:12.454Z"
   },
   {
    "duration": 157,
    "start_time": "2024-09-09T07:46:12.485Z"
   },
   {
    "duration": 16,
    "start_time": "2024-09-09T07:46:12.643Z"
   },
   {
    "duration": 18,
    "start_time": "2024-09-09T07:46:12.660Z"
   },
   {
    "duration": 9,
    "start_time": "2024-09-09T07:46:12.680Z"
   },
   {
    "duration": 35,
    "start_time": "2024-09-09T07:46:12.690Z"
   },
   {
    "duration": 10,
    "start_time": "2024-09-09T08:07:00.100Z"
   },
   {
    "duration": 13,
    "start_time": "2024-09-09T08:07:40.098Z"
   },
   {
    "duration": 1145,
    "start_time": "2024-09-09T08:07:52.063Z"
   },
   {
    "duration": 95,
    "start_time": "2024-09-09T08:07:53.210Z"
   },
   {
    "duration": 34,
    "start_time": "2024-09-09T08:07:53.307Z"
   },
   {
    "duration": 5,
    "start_time": "2024-09-09T08:07:53.342Z"
   },
   {
    "duration": 19,
    "start_time": "2024-09-09T08:07:53.349Z"
   },
   {
    "duration": 39,
    "start_time": "2024-09-09T08:07:53.369Z"
   },
   {
    "duration": 7,
    "start_time": "2024-09-09T08:07:53.410Z"
   },
   {
    "duration": 21,
    "start_time": "2024-09-09T08:07:53.419Z"
   },
   {
    "duration": 4,
    "start_time": "2024-09-09T08:11:23.216Z"
   },
   {
    "duration": 13,
    "start_time": "2024-09-09T08:11:25.112Z"
   },
   {
    "duration": 4,
    "start_time": "2024-09-09T08:11:42.624Z"
   },
   {
    "duration": 11,
    "start_time": "2024-09-09T08:11:43.473Z"
   },
   {
    "duration": 7,
    "start_time": "2024-09-09T08:18:15.242Z"
   },
   {
    "duration": 1136,
    "start_time": "2024-09-09T08:18:19.926Z"
   },
   {
    "duration": 80,
    "start_time": "2024-09-09T08:18:21.063Z"
   },
   {
    "duration": 34,
    "start_time": "2024-09-09T08:18:21.145Z"
   },
   {
    "duration": 6,
    "start_time": "2024-09-09T08:18:21.182Z"
   },
   {
    "duration": 15,
    "start_time": "2024-09-09T08:18:21.190Z"
   },
   {
    "duration": 34,
    "start_time": "2024-09-09T08:18:21.207Z"
   },
   {
    "duration": 7,
    "start_time": "2024-09-09T08:18:21.242Z"
   },
   {
    "duration": 30,
    "start_time": "2024-09-09T08:18:21.250Z"
   },
   {
    "duration": 15,
    "start_time": "2024-09-09T08:18:21.282Z"
   },
   {
    "duration": 11,
    "start_time": "2024-09-09T08:20:50.248Z"
   },
   {
    "duration": 10,
    "start_time": "2024-09-09T08:20:57.936Z"
   },
   {
    "duration": 6,
    "start_time": "2024-09-09T08:28:55.650Z"
   },
   {
    "duration": 48,
    "start_time": "2024-09-09T08:29:34.658Z"
   },
   {
    "duration": 4,
    "start_time": "2024-09-09T08:30:42.425Z"
   },
   {
    "duration": 111,
    "start_time": "2024-09-09T08:32:31.472Z"
   },
   {
    "duration": 10,
    "start_time": "2024-09-09T08:32:43.424Z"
   },
   {
    "duration": 25,
    "start_time": "2024-09-09T08:32:59.327Z"
   },
   {
    "duration": 25,
    "start_time": "2024-09-09T08:33:26.952Z"
   },
   {
    "duration": 22,
    "start_time": "2024-09-09T08:34:30.183Z"
   },
   {
    "duration": 22,
    "start_time": "2024-09-09T08:35:00.407Z"
   },
   {
    "duration": 6,
    "start_time": "2024-09-09T08:36:51.868Z"
   },
   {
    "duration": 4,
    "start_time": "2024-09-09T08:38:54.538Z"
   },
   {
    "duration": 6,
    "start_time": "2024-09-09T08:41:31.760Z"
   },
   {
    "duration": 23,
    "start_time": "2024-09-09T08:41:34.120Z"
   },
   {
    "duration": 1194,
    "start_time": "2024-09-09T08:41:40.148Z"
   },
   {
    "duration": 121,
    "start_time": "2024-09-09T08:41:41.344Z"
   },
   {
    "duration": 34,
    "start_time": "2024-09-09T08:41:41.466Z"
   },
   {
    "duration": 20,
    "start_time": "2024-09-09T08:41:41.503Z"
   },
   {
    "duration": 16,
    "start_time": "2024-09-09T08:41:41.525Z"
   },
   {
    "duration": 59,
    "start_time": "2024-09-09T08:41:41.543Z"
   },
   {
    "duration": 9,
    "start_time": "2024-09-09T08:41:41.603Z"
   },
   {
    "duration": 19,
    "start_time": "2024-09-09T08:41:41.614Z"
   },
   {
    "duration": 26,
    "start_time": "2024-09-09T08:41:41.635Z"
   },
   {
    "duration": 20,
    "start_time": "2024-09-09T08:41:41.664Z"
   },
   {
    "duration": 16,
    "start_time": "2024-09-09T08:41:41.686Z"
   },
   {
    "duration": 45,
    "start_time": "2024-09-09T08:41:41.703Z"
   },
   {
    "duration": 45,
    "start_time": "2024-09-09T08:41:41.750Z"
   },
   {
    "duration": 6,
    "start_time": "2024-09-09T08:42:11.823Z"
   },
   {
    "duration": 21,
    "start_time": "2024-09-09T08:43:04.071Z"
   },
   {
    "duration": 19,
    "start_time": "2024-09-09T08:43:30.854Z"
   },
   {
    "duration": 11,
    "start_time": "2024-09-09T08:45:15.597Z"
   },
   {
    "duration": 25,
    "start_time": "2024-09-09T08:45:27.884Z"
   },
   {
    "duration": 14,
    "start_time": "2024-09-09T08:45:43.956Z"
   },
   {
    "duration": 21,
    "start_time": "2024-09-09T08:45:53.740Z"
   },
   {
    "duration": 15,
    "start_time": "2024-09-09T08:51:17.688Z"
   },
   {
    "duration": 123,
    "start_time": "2024-09-09T08:52:57.511Z"
   },
   {
    "duration": 6,
    "start_time": "2024-09-09T08:53:38.862Z"
   },
   {
    "duration": 10,
    "start_time": "2024-09-09T08:53:41.541Z"
   },
   {
    "duration": 1178,
    "start_time": "2024-09-09T08:54:25.386Z"
   },
   {
    "duration": 106,
    "start_time": "2024-09-09T08:54:26.567Z"
   },
   {
    "duration": 45,
    "start_time": "2024-09-09T08:54:26.675Z"
   },
   {
    "duration": 6,
    "start_time": "2024-09-09T08:54:26.721Z"
   },
   {
    "duration": 5,
    "start_time": "2024-09-09T08:54:26.729Z"
   },
   {
    "duration": 22,
    "start_time": "2024-09-09T08:54:26.736Z"
   },
   {
    "duration": 6,
    "start_time": "2024-09-09T08:54:26.760Z"
   },
   {
    "duration": 29,
    "start_time": "2024-09-09T08:54:26.768Z"
   },
   {
    "duration": 13,
    "start_time": "2024-09-09T08:54:26.799Z"
   },
   {
    "duration": 32,
    "start_time": "2024-09-09T08:54:26.818Z"
   },
   {
    "duration": 23,
    "start_time": "2024-09-09T08:54:26.852Z"
   },
   {
    "duration": 12,
    "start_time": "2024-09-09T08:54:26.877Z"
   },
   {
    "duration": 8,
    "start_time": "2024-09-09T08:54:26.891Z"
   },
   {
    "duration": 106,
    "start_time": "2024-09-09T08:54:51.684Z"
   },
   {
    "duration": 4,
    "start_time": "2024-09-09T08:54:55.028Z"
   },
   {
    "duration": 1183,
    "start_time": "2024-09-09T09:29:40.583Z"
   },
   {
    "duration": 67,
    "start_time": "2024-09-09T09:29:41.768Z"
   },
   {
    "duration": 32,
    "start_time": "2024-09-09T09:29:41.836Z"
   },
   {
    "duration": 5,
    "start_time": "2024-09-09T09:29:41.870Z"
   },
   {
    "duration": 123,
    "start_time": "2024-09-09T09:29:41.877Z"
   },
   {
    "duration": 0,
    "start_time": "2024-09-09T09:29:42.002Z"
   },
   {
    "duration": 0,
    "start_time": "2024-09-09T09:29:42.007Z"
   },
   {
    "duration": 0,
    "start_time": "2024-09-09T09:29:42.008Z"
   },
   {
    "duration": 0,
    "start_time": "2024-09-09T09:29:42.009Z"
   },
   {
    "duration": 0,
    "start_time": "2024-09-09T09:29:42.010Z"
   },
   {
    "duration": 0,
    "start_time": "2024-09-09T09:29:42.012Z"
   },
   {
    "duration": 0,
    "start_time": "2024-09-09T09:29:42.013Z"
   },
   {
    "duration": 1,
    "start_time": "2024-09-09T09:29:42.013Z"
   },
   {
    "duration": 1192,
    "start_time": "2024-09-09T09:30:23.464Z"
   },
   {
    "duration": 0,
    "start_time": "2024-09-09T09:30:24.658Z"
   },
   {
    "duration": 0,
    "start_time": "2024-09-09T09:30:24.659Z"
   },
   {
    "duration": 0,
    "start_time": "2024-09-09T09:30:24.660Z"
   },
   {
    "duration": 0,
    "start_time": "2024-09-09T09:30:24.661Z"
   },
   {
    "duration": 0,
    "start_time": "2024-09-09T09:30:24.662Z"
   },
   {
    "duration": 0,
    "start_time": "2024-09-09T09:30:24.663Z"
   },
   {
    "duration": 0,
    "start_time": "2024-09-09T09:30:24.664Z"
   },
   {
    "duration": 0,
    "start_time": "2024-09-09T09:30:24.664Z"
   },
   {
    "duration": 0,
    "start_time": "2024-09-09T09:30:24.666Z"
   },
   {
    "duration": 0,
    "start_time": "2024-09-09T09:30:24.666Z"
   },
   {
    "duration": 0,
    "start_time": "2024-09-09T09:30:24.667Z"
   },
   {
    "duration": 1,
    "start_time": "2024-09-09T09:30:24.668Z"
   },
   {
    "duration": 8,
    "start_time": "2024-09-09T09:31:56.748Z"
   },
   {
    "duration": 1127,
    "start_time": "2024-09-09T09:32:02.436Z"
   },
   {
    "duration": 64,
    "start_time": "2024-09-09T09:32:03.564Z"
   },
   {
    "duration": 32,
    "start_time": "2024-09-09T09:32:03.630Z"
   },
   {
    "duration": 8,
    "start_time": "2024-09-09T09:32:03.664Z"
   },
   {
    "duration": 36,
    "start_time": "2024-09-09T09:32:03.674Z"
   },
   {
    "duration": 4,
    "start_time": "2024-09-09T09:32:03.711Z"
   },
   {
    "duration": 15,
    "start_time": "2024-09-09T09:32:03.717Z"
   },
   {
    "duration": 24,
    "start_time": "2024-09-09T09:32:03.734Z"
   },
   {
    "duration": 21,
    "start_time": "2024-09-09T09:32:03.759Z"
   },
   {
    "duration": 24,
    "start_time": "2024-09-09T09:32:03.781Z"
   },
   {
    "duration": 32,
    "start_time": "2024-09-09T09:32:03.807Z"
   },
   {
    "duration": 12,
    "start_time": "2024-09-09T09:32:03.840Z"
   },
   {
    "duration": 8,
    "start_time": "2024-09-09T09:32:03.854Z"
   },
   {
    "duration": 99,
    "start_time": "2024-09-09T09:35:41.984Z"
   },
   {
    "duration": 23,
    "start_time": "2024-09-09T09:35:49.496Z"
   },
   {
    "duration": 31,
    "start_time": "2024-09-09T09:37:58.095Z"
   },
   {
    "duration": 33,
    "start_time": "2024-09-09T09:39:07.158Z"
   },
   {
    "duration": 32,
    "start_time": "2024-09-09T09:39:31.581Z"
   },
   {
    "duration": 1132,
    "start_time": "2024-09-09T09:40:21.956Z"
   },
   {
    "duration": 80,
    "start_time": "2024-09-09T09:40:23.090Z"
   },
   {
    "duration": 34,
    "start_time": "2024-09-09T09:40:23.171Z"
   },
   {
    "duration": 6,
    "start_time": "2024-09-09T09:40:23.206Z"
   },
   {
    "duration": 27,
    "start_time": "2024-09-09T09:40:23.213Z"
   },
   {
    "duration": 4,
    "start_time": "2024-09-09T09:40:23.241Z"
   },
   {
    "duration": 26,
    "start_time": "2024-09-09T09:40:23.247Z"
   },
   {
    "duration": 5,
    "start_time": "2024-09-09T09:40:23.274Z"
   },
   {
    "duration": 19,
    "start_time": "2024-09-09T09:40:23.280Z"
   },
   {
    "duration": 24,
    "start_time": "2024-09-09T09:40:23.301Z"
   },
   {
    "duration": 23,
    "start_time": "2024-09-09T09:40:23.327Z"
   },
   {
    "duration": 13,
    "start_time": "2024-09-09T09:40:23.352Z"
   },
   {
    "duration": 20,
    "start_time": "2024-09-09T09:40:23.366Z"
   },
   {
    "duration": 41,
    "start_time": "2024-09-09T09:40:23.388Z"
   },
   {
    "duration": 1126,
    "start_time": "2024-09-09T09:40:46.841Z"
   },
   {
    "duration": 59,
    "start_time": "2024-09-09T09:40:47.969Z"
   },
   {
    "duration": 31,
    "start_time": "2024-09-09T09:40:48.029Z"
   },
   {
    "duration": 15,
    "start_time": "2024-09-09T09:40:48.061Z"
   },
   {
    "duration": 42,
    "start_time": "2024-09-09T09:40:48.078Z"
   },
   {
    "duration": 5,
    "start_time": "2024-09-09T09:40:48.121Z"
   },
   {
    "duration": 9,
    "start_time": "2024-09-09T09:40:48.127Z"
   },
   {
    "duration": 32,
    "start_time": "2024-09-09T09:40:48.138Z"
   },
   {
    "duration": 21,
    "start_time": "2024-09-09T09:40:48.171Z"
   },
   {
    "duration": 21,
    "start_time": "2024-09-09T09:40:48.193Z"
   },
   {
    "duration": 33,
    "start_time": "2024-09-09T09:40:48.216Z"
   },
   {
    "duration": 12,
    "start_time": "2024-09-09T09:40:48.251Z"
   },
   {
    "duration": 29,
    "start_time": "2024-09-09T09:40:48.264Z"
   },
   {
    "duration": 47,
    "start_time": "2024-09-09T09:40:48.295Z"
   },
   {
    "duration": 1151,
    "start_time": "2024-09-09T09:42:31.805Z"
   },
   {
    "duration": 189,
    "start_time": "2024-09-09T09:42:32.958Z"
   },
   {
    "duration": 32,
    "start_time": "2024-09-09T09:42:33.149Z"
   },
   {
    "duration": 6,
    "start_time": "2024-09-09T09:42:33.182Z"
   },
   {
    "duration": 33,
    "start_time": "2024-09-09T09:42:33.190Z"
   },
   {
    "duration": 8,
    "start_time": "2024-09-09T09:42:33.224Z"
   },
   {
    "duration": 25,
    "start_time": "2024-09-09T09:42:33.234Z"
   },
   {
    "duration": 53,
    "start_time": "2024-09-09T09:42:33.261Z"
   },
   {
    "duration": 15,
    "start_time": "2024-09-09T09:42:33.315Z"
   },
   {
    "duration": 19,
    "start_time": "2024-09-09T09:42:33.331Z"
   },
   {
    "duration": 22,
    "start_time": "2024-09-09T09:42:33.351Z"
   },
   {
    "duration": 13,
    "start_time": "2024-09-09T09:42:33.375Z"
   },
   {
    "duration": 32,
    "start_time": "2024-09-09T09:42:33.389Z"
   },
   {
    "duration": 42,
    "start_time": "2024-09-09T09:42:33.424Z"
   },
   {
    "duration": 1127,
    "start_time": "2024-09-09T09:43:56.563Z"
   },
   {
    "duration": 78,
    "start_time": "2024-09-09T09:43:57.692Z"
   },
   {
    "duration": 33,
    "start_time": "2024-09-09T09:43:57.772Z"
   },
   {
    "duration": 5,
    "start_time": "2024-09-09T09:43:57.806Z"
   },
   {
    "duration": 34,
    "start_time": "2024-09-09T09:43:57.813Z"
   },
   {
    "duration": 4,
    "start_time": "2024-09-09T09:43:57.849Z"
   },
   {
    "duration": 16,
    "start_time": "2024-09-09T09:43:57.855Z"
   },
   {
    "duration": 7,
    "start_time": "2024-09-09T09:43:57.872Z"
   },
   {
    "duration": 12,
    "start_time": "2024-09-09T09:43:57.881Z"
   },
   {
    "duration": 22,
    "start_time": "2024-09-09T09:43:57.894Z"
   },
   {
    "duration": 20,
    "start_time": "2024-09-09T09:43:57.917Z"
   },
   {
    "duration": 21,
    "start_time": "2024-09-09T09:43:57.938Z"
   },
   {
    "duration": 30,
    "start_time": "2024-09-09T09:43:57.960Z"
   },
   {
    "duration": 26,
    "start_time": "2024-09-09T09:43:57.992Z"
   },
   {
    "duration": 220,
    "start_time": "2024-09-09T10:29:32.234Z"
   },
   {
    "duration": 192,
    "start_time": "2024-09-09T10:29:54.968Z"
   },
   {
    "duration": 266,
    "start_time": "2024-09-09T10:31:06.319Z"
   },
   {
    "duration": 339,
    "start_time": "2024-09-09T10:32:16.495Z"
   },
   {
    "duration": 352,
    "start_time": "2024-09-09T10:32:46.950Z"
   },
   {
    "duration": 4920,
    "start_time": "2024-09-09T10:36:08.564Z"
   },
   {
    "duration": 443,
    "start_time": "2024-09-09T10:36:20.420Z"
   },
   {
    "duration": 428,
    "start_time": "2024-09-09T10:37:51.491Z"
   },
   {
    "duration": 434,
    "start_time": "2024-09-09T10:40:31.945Z"
   },
   {
    "duration": 429,
    "start_time": "2024-09-09T10:40:43.729Z"
   },
   {
    "duration": 433,
    "start_time": "2024-09-09T10:41:03.129Z"
   },
   {
    "duration": 760,
    "start_time": "2024-09-09T10:41:10.640Z"
   },
   {
    "duration": 163,
    "start_time": "2024-09-09T10:42:06.817Z"
   },
   {
    "duration": 174,
    "start_time": "2024-09-09T10:42:41.952Z"
   },
   {
    "duration": 196,
    "start_time": "2024-09-09T10:43:04.144Z"
   },
   {
    "duration": 195,
    "start_time": "2024-09-09T10:44:48.583Z"
   },
   {
    "duration": 5,
    "start_time": "2024-09-09T10:46:33.574Z"
   },
   {
    "duration": 4,
    "start_time": "2024-09-09T10:46:53.181Z"
   },
   {
    "duration": 345,
    "start_time": "2024-09-09T10:47:18.413Z"
   },
   {
    "duration": 254,
    "start_time": "2024-09-09T10:48:19.612Z"
   },
   {
    "duration": 186,
    "start_time": "2024-09-09T10:48:49.116Z"
   },
   {
    "duration": 265,
    "start_time": "2024-09-09T10:50:36.843Z"
   },
   {
    "duration": 155,
    "start_time": "2024-09-09T10:50:51.770Z"
   },
   {
    "duration": 164,
    "start_time": "2024-09-09T10:52:39.794Z"
   },
   {
    "duration": 419,
    "start_time": "2024-09-09T10:52:58.713Z"
   },
   {
    "duration": 431,
    "start_time": "2024-09-09T10:54:04.151Z"
   },
   {
    "duration": 262,
    "start_time": "2024-09-09T10:54:21.831Z"
   },
   {
    "duration": 494,
    "start_time": "2024-09-09T10:54:31.232Z"
   },
   {
    "duration": 397,
    "start_time": "2024-09-09T10:54:51.263Z"
   },
   {
    "duration": 442,
    "start_time": "2024-09-09T11:10:01.965Z"
   },
   {
    "duration": 446,
    "start_time": "2024-09-09T11:17:24.631Z"
   },
   {
    "duration": 562,
    "start_time": "2024-09-09T11:20:21.836Z"
   },
   {
    "duration": 458,
    "start_time": "2024-09-09T11:20:27.660Z"
   },
   {
    "duration": 63,
    "start_time": "2024-09-09T11:34:03.346Z"
   },
   {
    "duration": 474,
    "start_time": "2024-09-09T11:34:09.321Z"
   },
   {
    "duration": 453,
    "start_time": "2024-09-09T11:34:18.906Z"
   },
   {
    "duration": 533,
    "start_time": "2024-09-09T11:34:44.577Z"
   },
   {
    "duration": 438,
    "start_time": "2024-09-09T11:36:51.279Z"
   },
   {
    "duration": 435,
    "start_time": "2024-09-09T11:36:58.919Z"
   },
   {
    "duration": 2465,
    "start_time": "2024-09-09T11:41:21.686Z"
   },
   {
    "duration": 2309,
    "start_time": "2024-09-09T11:41:38.340Z"
   },
   {
    "duration": 646,
    "start_time": "2024-09-09T11:43:32.210Z"
   },
   {
    "duration": 578,
    "start_time": "2024-09-09T11:44:10.458Z"
   },
   {
    "duration": 677,
    "start_time": "2024-09-09T11:44:24.434Z"
   },
   {
    "duration": 630,
    "start_time": "2024-09-09T11:44:32.106Z"
   },
   {
    "duration": 2244,
    "start_time": "2024-09-09T11:44:39.337Z"
   },
   {
    "duration": 623,
    "start_time": "2024-09-09T11:44:46.745Z"
   },
   {
    "duration": 734,
    "start_time": "2024-09-09T11:48:47.302Z"
   },
   {
    "duration": 587,
    "start_time": "2024-09-09T11:57:31.222Z"
   },
   {
    "duration": 4,
    "start_time": "2024-09-09T12:38:23.763Z"
   },
   {
    "duration": 1482,
    "start_time": "2024-09-09T12:39:13.266Z"
   },
   {
    "duration": 343,
    "start_time": "2024-09-09T12:40:29.170Z"
   },
   {
    "duration": 425,
    "start_time": "2024-09-09T12:43:50.896Z"
   },
   {
    "duration": 451,
    "start_time": "2024-09-09T12:43:58.711Z"
   },
   {
    "duration": 671,
    "start_time": "2024-09-09T12:44:06.783Z"
   },
   {
    "duration": 510,
    "start_time": "2024-09-09T12:44:32.550Z"
   },
   {
    "duration": 597,
    "start_time": "2024-09-09T12:44:47.255Z"
   },
   {
    "duration": 654,
    "start_time": "2024-09-09T12:44:57.455Z"
   },
   {
    "duration": 987,
    "start_time": "2024-09-09T12:45:33.686Z"
   },
   {
    "duration": 660,
    "start_time": "2024-09-09T12:45:42.094Z"
   },
   {
    "duration": 563,
    "start_time": "2024-09-09T12:47:07.509Z"
   },
   {
    "duration": 1278,
    "start_time": "2024-09-09T13:00:22.679Z"
   },
   {
    "duration": 242,
    "start_time": "2024-09-09T13:00:23.959Z"
   },
   {
    "duration": 39,
    "start_time": "2024-09-09T13:00:24.203Z"
   },
   {
    "duration": 5,
    "start_time": "2024-09-09T13:00:24.243Z"
   },
   {
    "duration": 30,
    "start_time": "2024-09-09T13:00:24.250Z"
   },
   {
    "duration": 3,
    "start_time": "2024-09-09T13:00:24.282Z"
   },
   {
    "duration": 54,
    "start_time": "2024-09-09T13:00:24.287Z"
   },
   {
    "duration": 8,
    "start_time": "2024-09-09T13:00:24.342Z"
   },
   {
    "duration": 10,
    "start_time": "2024-09-09T13:00:24.352Z"
   },
   {
    "duration": 9,
    "start_time": "2024-09-09T13:00:24.364Z"
   },
   {
    "duration": 19,
    "start_time": "2024-09-09T13:00:24.374Z"
   },
   {
    "duration": 12,
    "start_time": "2024-09-09T13:00:24.394Z"
   },
   {
    "duration": 19,
    "start_time": "2024-09-09T13:00:24.408Z"
   },
   {
    "duration": 29,
    "start_time": "2024-09-09T13:00:24.429Z"
   },
   {
    "duration": 622,
    "start_time": "2024-09-09T13:00:24.459Z"
   },
   {
    "duration": 570,
    "start_time": "2024-09-09T13:00:25.083Z"
   },
   {
    "duration": 1222,
    "start_time": "2024-09-09T13:01:06.275Z"
   },
   {
    "duration": 84,
    "start_time": "2024-09-09T13:01:07.499Z"
   },
   {
    "duration": 34,
    "start_time": "2024-09-09T13:01:07.584Z"
   },
   {
    "duration": 5,
    "start_time": "2024-09-09T13:01:07.620Z"
   },
   {
    "duration": 39,
    "start_time": "2024-09-09T13:01:07.627Z"
   },
   {
    "duration": 5,
    "start_time": "2024-09-09T13:01:07.668Z"
   },
   {
    "duration": 30,
    "start_time": "2024-09-09T13:01:07.675Z"
   },
   {
    "duration": 49,
    "start_time": "2024-09-09T13:01:07.707Z"
   },
   {
    "duration": 31,
    "start_time": "2024-09-09T13:01:07.758Z"
   },
   {
    "duration": 33,
    "start_time": "2024-09-09T13:01:07.791Z"
   },
   {
    "duration": 45,
    "start_time": "2024-09-09T13:01:07.826Z"
   },
   {
    "duration": 48,
    "start_time": "2024-09-09T13:01:07.873Z"
   },
   {
    "duration": 22,
    "start_time": "2024-09-09T13:01:07.923Z"
   },
   {
    "duration": 54,
    "start_time": "2024-09-09T13:01:07.947Z"
   },
   {
    "duration": 627,
    "start_time": "2024-09-09T13:01:08.003Z"
   },
   {
    "duration": 578,
    "start_time": "2024-09-09T13:01:08.631Z"
   },
   {
    "duration": 51,
    "start_time": "2024-09-09T13:01:55.736Z"
   },
   {
    "duration": 7,
    "start_time": "2024-09-09T13:02:01.641Z"
   },
   {
    "duration": 1271,
    "start_time": "2024-09-09T13:02:14.374Z"
   },
   {
    "duration": 86,
    "start_time": "2024-09-09T13:02:15.647Z"
   },
   {
    "duration": 33,
    "start_time": "2024-09-09T13:02:15.735Z"
   },
   {
    "duration": 7,
    "start_time": "2024-09-09T13:02:15.769Z"
   },
   {
    "duration": 44,
    "start_time": "2024-09-09T13:02:15.778Z"
   },
   {
    "duration": 6,
    "start_time": "2024-09-09T13:02:15.824Z"
   },
   {
    "duration": 27,
    "start_time": "2024-09-09T13:02:15.832Z"
   },
   {
    "duration": 7,
    "start_time": "2024-09-09T13:02:15.860Z"
   },
   {
    "duration": 16,
    "start_time": "2024-09-09T13:02:15.869Z"
   },
   {
    "duration": 25,
    "start_time": "2024-09-09T13:02:15.886Z"
   },
   {
    "duration": 30,
    "start_time": "2024-09-09T13:02:15.913Z"
   },
   {
    "duration": 13,
    "start_time": "2024-09-09T13:02:15.944Z"
   },
   {
    "duration": 13,
    "start_time": "2024-09-09T13:02:15.958Z"
   },
   {
    "duration": 49,
    "start_time": "2024-09-09T13:02:15.974Z"
   },
   {
    "duration": 657,
    "start_time": "2024-09-09T13:02:16.025Z"
   },
   {
    "duration": 608,
    "start_time": "2024-09-09T13:02:16.684Z"
   },
   {
    "duration": 51,
    "start_time": "2024-09-09T13:03:14.536Z"
   },
   {
    "duration": 1205,
    "start_time": "2024-09-09T13:03:21.503Z"
   },
   {
    "duration": 68,
    "start_time": "2024-09-09T13:03:22.711Z"
   },
   {
    "duration": 36,
    "start_time": "2024-09-09T13:03:22.780Z"
   },
   {
    "duration": 7,
    "start_time": "2024-09-09T13:03:22.818Z"
   },
   {
    "duration": 32,
    "start_time": "2024-09-09T13:03:22.827Z"
   },
   {
    "duration": 5,
    "start_time": "2024-09-09T13:03:22.861Z"
   },
   {
    "duration": 10,
    "start_time": "2024-09-09T13:03:22.867Z"
   },
   {
    "duration": 33,
    "start_time": "2024-09-09T13:03:22.879Z"
   },
   {
    "duration": 22,
    "start_time": "2024-09-09T13:03:22.917Z"
   },
   {
    "duration": 13,
    "start_time": "2024-09-09T13:03:22.941Z"
   },
   {
    "duration": 26,
    "start_time": "2024-09-09T13:03:22.955Z"
   },
   {
    "duration": 30,
    "start_time": "2024-09-09T13:03:22.983Z"
   },
   {
    "duration": 8,
    "start_time": "2024-09-09T13:03:23.015Z"
   },
   {
    "duration": 27,
    "start_time": "2024-09-09T13:03:23.025Z"
   },
   {
    "duration": 676,
    "start_time": "2024-09-09T13:03:23.054Z"
   },
   {
    "duration": 579,
    "start_time": "2024-09-09T13:03:23.731Z"
   },
   {
    "duration": 64,
    "start_time": "2024-09-09T13:03:47.376Z"
   },
   {
    "duration": 1214,
    "start_time": "2024-09-09T13:03:53.825Z"
   },
   {
    "duration": 103,
    "start_time": "2024-09-09T13:03:55.041Z"
   },
   {
    "duration": 31,
    "start_time": "2024-09-09T13:03:55.145Z"
   },
   {
    "duration": 5,
    "start_time": "2024-09-09T13:03:55.178Z"
   },
   {
    "duration": 54,
    "start_time": "2024-09-09T13:03:55.185Z"
   },
   {
    "duration": 5,
    "start_time": "2024-09-09T13:03:55.240Z"
   },
   {
    "duration": 8,
    "start_time": "2024-09-09T13:03:55.246Z"
   },
   {
    "duration": 4,
    "start_time": "2024-09-09T13:03:55.256Z"
   },
   {
    "duration": 13,
    "start_time": "2024-09-09T13:03:55.261Z"
   },
   {
    "duration": 33,
    "start_time": "2024-09-09T13:03:55.275Z"
   },
   {
    "duration": 22,
    "start_time": "2024-09-09T13:03:55.310Z"
   },
   {
    "duration": 13,
    "start_time": "2024-09-09T13:03:55.334Z"
   },
   {
    "duration": 9,
    "start_time": "2024-09-09T13:03:55.349Z"
   },
   {
    "duration": 55,
    "start_time": "2024-09-09T13:03:55.360Z"
   },
   {
    "duration": 667,
    "start_time": "2024-09-09T13:03:55.417Z"
   },
   {
    "duration": 608,
    "start_time": "2024-09-09T13:03:56.085Z"
   },
   {
    "duration": 686,
    "start_time": "2024-09-09T13:03:56.694Z"
   },
   {
    "duration": 6442,
    "start_time": "2024-09-09T13:04:59.943Z"
   },
   {
    "duration": 4,
    "start_time": "2024-09-09T13:06:08.445Z"
   },
   {
    "duration": 6350,
    "start_time": "2024-09-09T13:06:16.341Z"
   },
   {
    "duration": 7066,
    "start_time": "2024-09-09T13:06:46.077Z"
   },
   {
    "duration": 837,
    "start_time": "2024-09-09T13:07:56.629Z"
   },
   {
    "duration": 1016,
    "start_time": "2024-09-09T13:08:31.220Z"
   },
   {
    "duration": 765,
    "start_time": "2024-09-09T13:11:12.937Z"
   },
   {
    "duration": 728,
    "start_time": "2024-09-09T13:11:24.698Z"
   },
   {
    "duration": 20361,
    "start_time": "2024-09-09T13:15:07.407Z"
   },
   {
    "duration": 906,
    "start_time": "2024-09-09T13:15:40.006Z"
   },
   {
    "duration": 1173,
    "start_time": "2024-09-09T13:17:47.228Z"
   },
   {
    "duration": 2741,
    "start_time": "2024-09-09T13:18:07.484Z"
   },
   {
    "duration": 7798,
    "start_time": "2024-09-09T13:28:05.509Z"
   },
   {
    "duration": 6335,
    "start_time": "2024-09-09T13:28:54.172Z"
   },
   {
    "duration": 6,
    "start_time": "2024-09-09T13:29:40.339Z"
   },
   {
    "duration": 6477,
    "start_time": "2024-09-09T13:30:02.835Z"
   },
   {
    "duration": 6360,
    "start_time": "2024-09-09T13:30:23.531Z"
   },
   {
    "duration": 6324,
    "start_time": "2024-09-09T13:32:19.293Z"
   },
   {
    "duration": 1189,
    "start_time": "2024-09-09T13:35:06.015Z"
   },
   {
    "duration": 82,
    "start_time": "2024-09-09T13:35:07.206Z"
   },
   {
    "duration": 54,
    "start_time": "2024-09-09T13:35:07.290Z"
   },
   {
    "duration": 6,
    "start_time": "2024-09-09T13:35:07.347Z"
   },
   {
    "duration": 54,
    "start_time": "2024-09-09T13:35:07.355Z"
   },
   {
    "duration": 7,
    "start_time": "2024-09-09T13:35:07.411Z"
   },
   {
    "duration": 10,
    "start_time": "2024-09-09T13:35:07.420Z"
   },
   {
    "duration": 19,
    "start_time": "2024-09-09T13:35:07.431Z"
   },
   {
    "duration": 21,
    "start_time": "2024-09-09T13:35:07.452Z"
   },
   {
    "duration": 17,
    "start_time": "2024-09-09T13:35:07.474Z"
   },
   {
    "duration": 32,
    "start_time": "2024-09-09T13:35:07.493Z"
   },
   {
    "duration": 13,
    "start_time": "2024-09-09T13:35:07.527Z"
   },
   {
    "duration": 13,
    "start_time": "2024-09-09T13:35:07.541Z"
   },
   {
    "duration": 66,
    "start_time": "2024-09-09T13:35:07.557Z"
   },
   {
    "duration": 675,
    "start_time": "2024-09-09T13:35:07.625Z"
   },
   {
    "duration": 593,
    "start_time": "2024-09-09T13:35:08.301Z"
   },
   {
    "duration": 2765,
    "start_time": "2024-09-09T13:35:08.895Z"
   },
   {
    "duration": 6723,
    "start_time": "2024-09-09T13:35:11.662Z"
   },
   {
    "duration": 1452,
    "start_time": "2024-09-10T13:04:08.579Z"
   },
   {
    "duration": 141,
    "start_time": "2024-09-10T13:04:10.033Z"
   },
   {
    "duration": 37,
    "start_time": "2024-09-10T13:04:10.175Z"
   },
   {
    "duration": 11,
    "start_time": "2024-09-10T13:04:10.214Z"
   },
   {
    "duration": 51,
    "start_time": "2024-09-10T13:04:10.227Z"
   },
   {
    "duration": 5,
    "start_time": "2024-09-10T13:04:10.280Z"
   },
   {
    "duration": 28,
    "start_time": "2024-09-10T13:04:10.286Z"
   },
   {
    "duration": 5,
    "start_time": "2024-09-10T13:04:10.316Z"
   },
   {
    "duration": 31,
    "start_time": "2024-09-10T13:04:10.323Z"
   },
   {
    "duration": 36,
    "start_time": "2024-09-10T13:04:10.356Z"
   },
   {
    "duration": 29,
    "start_time": "2024-09-10T13:04:10.394Z"
   },
   {
    "duration": 15,
    "start_time": "2024-09-10T13:04:10.424Z"
   },
   {
    "duration": 11,
    "start_time": "2024-09-10T13:04:10.441Z"
   },
   {
    "duration": 47,
    "start_time": "2024-09-10T13:04:10.456Z"
   },
   {
    "duration": 699,
    "start_time": "2024-09-10T13:04:10.504Z"
   },
   {
    "duration": 612,
    "start_time": "2024-09-10T13:04:11.205Z"
   },
   {
    "duration": 2859,
    "start_time": "2024-09-10T13:04:11.819Z"
   },
   {
    "duration": 6401,
    "start_time": "2024-09-10T13:04:14.680Z"
   },
   {
    "duration": 889,
    "start_time": "2024-09-10T13:06:05.780Z"
   },
   {
    "duration": 322,
    "start_time": "2024-09-10T13:35:02.928Z"
   },
   {
    "duration": 310,
    "start_time": "2024-09-10T13:35:42.097Z"
   },
   {
    "duration": 4,
    "start_time": "2024-09-10T13:39:11.771Z"
   },
   {
    "duration": 815,
    "start_time": "2024-09-10T13:39:45.812Z"
   },
   {
    "duration": 294,
    "start_time": "2024-09-10T13:40:47.200Z"
   },
   {
    "duration": 308,
    "start_time": "2024-09-10T13:43:01.678Z"
   },
   {
    "duration": 463,
    "start_time": "2024-09-10T13:49:18.059Z"
   },
   {
    "duration": 434,
    "start_time": "2024-09-10T13:50:00.805Z"
   },
   {
    "duration": 458,
    "start_time": "2024-09-10T13:50:40.320Z"
   },
   {
    "duration": 419,
    "start_time": "2024-09-10T13:51:00.388Z"
   },
   {
    "duration": 398,
    "start_time": "2024-09-10T13:53:31.560Z"
   },
   {
    "duration": 384,
    "start_time": "2024-09-10T13:56:41.442Z"
   },
   {
    "duration": 395,
    "start_time": "2024-09-10T13:58:58.466Z"
   },
   {
    "duration": 598,
    "start_time": "2024-09-10T14:04:16.827Z"
   },
   {
    "duration": 721,
    "start_time": "2024-09-10T14:05:55.409Z"
   },
   {
    "duration": 440,
    "start_time": "2024-09-10T14:21:39.184Z"
   },
   {
    "duration": 412,
    "start_time": "2024-09-10T14:21:47.051Z"
   },
   {
    "duration": 613,
    "start_time": "2024-09-10T14:21:53.717Z"
   },
   {
    "duration": 463,
    "start_time": "2024-09-10T14:26:48.043Z"
   },
   {
    "duration": 533,
    "start_time": "2024-09-10T14:28:03.448Z"
   },
   {
    "duration": 431,
    "start_time": "2024-09-10T14:30:31.846Z"
   },
   {
    "duration": 443,
    "start_time": "2024-09-10T14:49:06.156Z"
   },
   {
    "duration": 438,
    "start_time": "2024-09-10T14:51:37.138Z"
   },
   {
    "duration": 39,
    "start_time": "2024-09-10T14:57:47.551Z"
   },
   {
    "duration": 15,
    "start_time": "2024-09-10T15:00:49.419Z"
   },
   {
    "duration": 11,
    "start_time": "2024-09-10T15:00:59.320Z"
   },
   {
    "duration": 10,
    "start_time": "2024-09-10T15:01:24.906Z"
   },
   {
    "duration": 1252,
    "start_time": "2024-09-10T15:03:12.394Z"
   },
   {
    "duration": 111,
    "start_time": "2024-09-10T15:03:13.648Z"
   },
   {
    "duration": 36,
    "start_time": "2024-09-10T15:03:13.761Z"
   },
   {
    "duration": 6,
    "start_time": "2024-09-10T15:03:13.799Z"
   },
   {
    "duration": 51,
    "start_time": "2024-09-10T15:03:13.807Z"
   },
   {
    "duration": 5,
    "start_time": "2024-09-10T15:03:13.860Z"
   },
   {
    "duration": 24,
    "start_time": "2024-09-10T15:03:13.867Z"
   },
   {
    "duration": 33,
    "start_time": "2024-09-10T15:03:13.893Z"
   },
   {
    "duration": 58,
    "start_time": "2024-09-10T15:03:13.928Z"
   },
   {
    "duration": 50,
    "start_time": "2024-09-10T15:03:13.988Z"
   },
   {
    "duration": 43,
    "start_time": "2024-09-10T15:03:14.039Z"
   },
   {
    "duration": 55,
    "start_time": "2024-09-10T15:03:14.084Z"
   },
   {
    "duration": 31,
    "start_time": "2024-09-10T15:03:14.141Z"
   },
   {
    "duration": 44,
    "start_time": "2024-09-10T15:03:14.175Z"
   },
   {
    "duration": 706,
    "start_time": "2024-09-10T15:03:14.220Z"
   },
   {
    "duration": 617,
    "start_time": "2024-09-10T15:03:14.928Z"
   },
   {
    "duration": 1042,
    "start_time": "2024-09-10T15:03:15.547Z"
   },
   {
    "duration": 6613,
    "start_time": "2024-09-10T15:03:16.591Z"
   },
   {
    "duration": 5,
    "start_time": "2024-09-10T15:03:23.206Z"
   },
   {
    "duration": 485,
    "start_time": "2024-09-10T15:03:23.213Z"
   },
   {
    "duration": 379,
    "start_time": "2024-09-10T15:03:23.700Z"
   },
   {
    "duration": 673,
    "start_time": "2024-09-10T15:03:24.081Z"
   },
   {
    "duration": 524,
    "start_time": "2024-09-10T15:03:24.756Z"
   },
   {
    "duration": 391,
    "start_time": "2024-09-10T15:03:25.282Z"
   },
   {
    "duration": 393,
    "start_time": "2024-09-10T15:03:25.676Z"
   },
   {
    "duration": 31,
    "start_time": "2024-09-10T15:03:26.071Z"
   },
   {
    "duration": 6,
    "start_time": "2024-09-10T15:03:26.104Z"
   },
   {
    "duration": 28,
    "start_time": "2024-09-10T15:03:52.883Z"
   },
   {
    "duration": 448,
    "start_time": "2024-09-10T15:08:28.045Z"
   },
   {
    "duration": 442,
    "start_time": "2024-09-10T15:08:43.094Z"
   },
   {
    "duration": 464,
    "start_time": "2024-09-10T15:09:55.044Z"
   },
   {
    "duration": 401,
    "start_time": "2024-09-10T15:10:50.017Z"
   },
   {
    "duration": 263,
    "start_time": "2024-09-10T15:13:21.300Z"
   },
   {
    "duration": 346,
    "start_time": "2024-09-10T15:13:27.342Z"
   },
   {
    "duration": 376,
    "start_time": "2024-09-10T15:13:35.909Z"
   },
   {
    "duration": 326,
    "start_time": "2024-09-10T15:13:40.686Z"
   },
   {
    "duration": 306,
    "start_time": "2024-09-10T15:13:45.877Z"
   },
   {
    "duration": 299,
    "start_time": "2024-09-10T15:13:50.911Z"
   },
   {
    "duration": 319,
    "start_time": "2024-09-10T15:15:55.976Z"
   },
   {
    "duration": 274,
    "start_time": "2024-09-10T15:21:29.303Z"
   },
   {
    "duration": 376,
    "start_time": "2024-09-10T15:21:34.807Z"
   },
   {
    "duration": 350,
    "start_time": "2024-09-10T15:21:40.529Z"
   },
   {
    "duration": 328,
    "start_time": "2024-09-10T15:21:44.958Z"
   },
   {
    "duration": 290,
    "start_time": "2024-09-10T15:21:50.076Z"
   },
   {
    "duration": 533,
    "start_time": "2024-09-10T15:22:34.207Z"
   },
   {
    "duration": 509,
    "start_time": "2024-09-10T15:23:28.702Z"
   },
   {
    "duration": 498,
    "start_time": "2024-09-10T15:24:19.371Z"
   },
   {
    "duration": 531,
    "start_time": "2024-09-10T15:24:25.681Z"
   },
   {
    "duration": 2183,
    "start_time": "2024-09-10T15:25:50.269Z"
   },
   {
    "duration": 1713,
    "start_time": "2024-09-10T15:26:11.870Z"
   },
   {
    "duration": 1708,
    "start_time": "2024-09-10T15:26:23.511Z"
   },
   {
    "duration": 1407,
    "start_time": "2024-09-11T06:50:09.811Z"
   },
   {
    "duration": 128,
    "start_time": "2024-09-11T06:50:11.220Z"
   },
   {
    "duration": 35,
    "start_time": "2024-09-11T06:50:11.350Z"
   },
   {
    "duration": 6,
    "start_time": "2024-09-11T06:50:11.387Z"
   },
   {
    "duration": 65,
    "start_time": "2024-09-11T06:50:11.396Z"
   },
   {
    "duration": 6,
    "start_time": "2024-09-11T06:50:11.463Z"
   },
   {
    "duration": 9,
    "start_time": "2024-09-11T06:50:11.471Z"
   },
   {
    "duration": 6,
    "start_time": "2024-09-11T06:50:11.482Z"
   },
   {
    "duration": 27,
    "start_time": "2024-09-11T06:50:11.490Z"
   },
   {
    "duration": 33,
    "start_time": "2024-09-11T06:50:11.520Z"
   },
   {
    "duration": 22,
    "start_time": "2024-09-11T06:50:11.555Z"
   },
   {
    "duration": 14,
    "start_time": "2024-09-11T06:50:11.579Z"
   },
   {
    "duration": 26,
    "start_time": "2024-09-11T06:50:11.594Z"
   },
   {
    "duration": 40,
    "start_time": "2024-09-11T06:50:11.622Z"
   },
   {
    "duration": 651,
    "start_time": "2024-09-11T06:50:11.663Z"
   },
   {
    "duration": 610,
    "start_time": "2024-09-11T06:50:12.316Z"
   },
   {
    "duration": 1027,
    "start_time": "2024-09-11T06:50:12.928Z"
   },
   {
    "duration": 6207,
    "start_time": "2024-09-11T06:50:13.957Z"
   },
   {
    "duration": 4,
    "start_time": "2024-09-11T06:50:20.166Z"
   },
   {
    "duration": 402,
    "start_time": "2024-09-11T06:50:20.172Z"
   },
   {
    "duration": 278,
    "start_time": "2024-09-11T06:50:20.576Z"
   },
   {
    "duration": 351,
    "start_time": "2024-09-11T06:50:20.855Z"
   },
   {
    "duration": 350,
    "start_time": "2024-09-11T06:50:21.208Z"
   },
   {
    "duration": 300,
    "start_time": "2024-09-11T06:50:21.560Z"
   },
   {
    "duration": 283,
    "start_time": "2024-09-11T06:50:21.862Z"
   },
   {
    "duration": 896,
    "start_time": "2024-09-11T06:50:22.151Z"
   },
   {
    "duration": 0,
    "start_time": "2024-09-11T06:50:23.049Z"
   },
   {
    "duration": 0,
    "start_time": "2024-09-11T06:50:23.050Z"
   },
   {
    "duration": 0,
    "start_time": "2024-09-11T06:50:23.052Z"
   },
   {
    "duration": 16,
    "start_time": "2024-09-11T06:51:36.665Z"
   },
   {
    "duration": 16,
    "start_time": "2024-09-11T06:51:49.674Z"
   },
   {
    "duration": 18,
    "start_time": "2024-09-11T06:51:58.865Z"
   },
   {
    "duration": 53,
    "start_time": "2024-09-11T06:52:10.217Z"
   },
   {
    "duration": 5,
    "start_time": "2024-09-11T06:53:59.609Z"
   },
   {
    "duration": 12,
    "start_time": "2024-09-11T06:54:14.264Z"
   },
   {
    "duration": 23,
    "start_time": "2024-09-11T06:54:27.008Z"
   },
   {
    "duration": 1337,
    "start_time": "2024-09-11T06:54:36.184Z"
   },
   {
    "duration": 1324,
    "start_time": "2024-09-11T08:01:28.228Z"
   },
   {
    "duration": 2,
    "start_time": "2024-09-11T08:03:50.234Z"
   },
   {
    "duration": 10756,
    "start_time": "2024-09-11T08:20:30.356Z"
   },
   {
    "duration": 541,
    "start_time": "2024-09-11T08:21:33.132Z"
   },
   {
    "duration": 1542,
    "start_time": "2024-09-11T08:21:39.323Z"
   },
   {
    "duration": 743,
    "start_time": "2024-09-11T08:21:53.612Z"
   },
   {
    "duration": 577,
    "start_time": "2024-09-11T08:22:23.194Z"
   },
   {
    "duration": 671,
    "start_time": "2024-09-11T08:22:36.124Z"
   },
   {
    "duration": 13,
    "start_time": "2024-09-11T11:05:59.513Z"
   },
   {
    "duration": 9,
    "start_time": "2024-09-11T11:06:03.153Z"
   },
   {
    "duration": 5,
    "start_time": "2024-09-11T11:06:04.418Z"
   },
   {
    "duration": 4,
    "start_time": "2024-09-11T11:37:59.200Z"
   },
   {
    "duration": 5,
    "start_time": "2024-09-11T11:39:58.337Z"
   },
   {
    "duration": 7,
    "start_time": "2024-09-11T11:40:16.886Z"
   },
   {
    "duration": 4,
    "start_time": "2024-09-11T11:53:19.108Z"
   },
   {
    "duration": 14,
    "start_time": "2024-09-11T11:53:19.772Z"
   },
   {
    "duration": 12,
    "start_time": "2024-09-11T11:55:33.748Z"
   },
   {
    "duration": 13,
    "start_time": "2024-09-11T11:55:34.932Z"
   },
   {
    "duration": 4,
    "start_time": "2024-09-11T11:56:27.185Z"
   },
   {
    "duration": 5,
    "start_time": "2024-09-11T11:56:28.161Z"
   },
   {
    "duration": 5,
    "start_time": "2024-09-11T11:56:29.241Z"
   },
   {
    "duration": 19,
    "start_time": "2024-09-11T12:09:54.182Z"
   },
   {
    "duration": 14,
    "start_time": "2024-09-11T12:13:22.083Z"
   },
   {
    "duration": 6,
    "start_time": "2024-09-11T12:13:22.899Z"
   },
   {
    "duration": 4,
    "start_time": "2024-09-11T12:13:25.780Z"
   },
   {
    "duration": 5,
    "start_time": "2024-09-11T12:13:29.044Z"
   },
   {
    "duration": 11,
    "start_time": "2024-09-11T12:13:29.852Z"
   },
   {
    "duration": 17,
    "start_time": "2024-09-11T12:13:32.100Z"
   },
   {
    "duration": 7,
    "start_time": "2024-09-11T12:15:26.635Z"
   },
   {
    "duration": 5,
    "start_time": "2024-09-11T12:15:27.386Z"
   },
   {
    "duration": 4,
    "start_time": "2024-09-11T12:15:30.162Z"
   },
   {
    "duration": 4,
    "start_time": "2024-09-11T12:15:31.091Z"
   },
   {
    "duration": 6,
    "start_time": "2024-09-11T12:15:33.226Z"
   },
   {
    "duration": 18,
    "start_time": "2024-09-11T12:15:41.594Z"
   },
   {
    "duration": 12,
    "start_time": "2024-09-11T12:16:00.954Z"
   },
   {
    "duration": 17,
    "start_time": "2024-09-11T12:16:33.883Z"
   },
   {
    "duration": 5,
    "start_time": "2024-09-11T12:51:59.008Z"
   },
   {
    "duration": 5,
    "start_time": "2024-09-11T12:52:32.047Z"
   },
   {
    "duration": 4,
    "start_time": "2024-09-11T12:53:21.678Z"
   },
   {
    "duration": 3,
    "start_time": "2024-09-11T12:54:41.566Z"
   },
   {
    "duration": 4,
    "start_time": "2024-09-11T12:54:45.782Z"
   },
   {
    "duration": 12,
    "start_time": "2024-09-11T12:55:55.013Z"
   },
   {
    "duration": 18,
    "start_time": "2024-09-11T13:11:57.401Z"
   },
   {
    "duration": 17,
    "start_time": "2024-09-11T13:14:20.615Z"
   },
   {
    "duration": 19,
    "start_time": "2024-09-11T13:14:48.631Z"
   },
   {
    "duration": 16,
    "start_time": "2024-09-11T13:15:20.733Z"
   },
   {
    "duration": 10,
    "start_time": "2024-09-11T13:15:57.301Z"
   },
   {
    "duration": 15,
    "start_time": "2024-09-11T13:17:02.125Z"
   },
   {
    "duration": 11,
    "start_time": "2024-09-11T13:17:16.997Z"
   },
   {
    "duration": 8,
    "start_time": "2024-09-11T13:17:20.804Z"
   },
   {
    "duration": 5,
    "start_time": "2024-09-11T13:22:45.041Z"
   },
   {
    "duration": 6,
    "start_time": "2024-09-11T13:22:53.936Z"
   },
   {
    "duration": 4,
    "start_time": "2024-09-11T13:23:19.080Z"
   },
   {
    "duration": 1364,
    "start_time": "2024-09-12T06:53:17.873Z"
   },
   {
    "duration": 147,
    "start_time": "2024-09-12T06:53:19.239Z"
   },
   {
    "duration": 35,
    "start_time": "2024-09-12T06:53:19.388Z"
   },
   {
    "duration": 6,
    "start_time": "2024-09-12T06:53:19.425Z"
   },
   {
    "duration": 23,
    "start_time": "2024-09-12T06:53:19.433Z"
   },
   {
    "duration": 5,
    "start_time": "2024-09-12T06:53:19.458Z"
   },
   {
    "duration": 17,
    "start_time": "2024-09-12T06:53:19.465Z"
   },
   {
    "duration": 6,
    "start_time": "2024-09-12T06:53:19.504Z"
   },
   {
    "duration": 13,
    "start_time": "2024-09-12T06:53:19.511Z"
   },
   {
    "duration": 12,
    "start_time": "2024-09-12T06:53:19.527Z"
   },
   {
    "duration": 19,
    "start_time": "2024-09-12T06:53:19.540Z"
   },
   {
    "duration": 12,
    "start_time": "2024-09-12T06:53:19.561Z"
   },
   {
    "duration": 36,
    "start_time": "2024-09-12T06:53:19.575Z"
   },
   {
    "duration": 31,
    "start_time": "2024-09-12T06:53:19.613Z"
   },
   {
    "duration": 647,
    "start_time": "2024-09-12T06:53:19.646Z"
   },
   {
    "duration": 594,
    "start_time": "2024-09-12T06:53:20.295Z"
   },
   {
    "duration": 1020,
    "start_time": "2024-09-12T06:53:20.891Z"
   },
   {
    "duration": 5936,
    "start_time": "2024-09-12T06:53:21.913Z"
   },
   {
    "duration": 4,
    "start_time": "2024-09-12T06:53:27.851Z"
   },
   {
    "duration": 406,
    "start_time": "2024-09-12T06:53:27.857Z"
   },
   {
    "duration": 280,
    "start_time": "2024-09-12T06:53:28.265Z"
   },
   {
    "duration": 363,
    "start_time": "2024-09-12T06:53:28.546Z"
   },
   {
    "duration": 322,
    "start_time": "2024-09-12T06:53:28.911Z"
   },
   {
    "duration": 294,
    "start_time": "2024-09-12T06:53:29.234Z"
   },
   {
    "duration": 365,
    "start_time": "2024-09-12T06:53:29.531Z"
   },
   {
    "duration": 20,
    "start_time": "2024-09-12T06:53:29.897Z"
   },
   {
    "duration": 36,
    "start_time": "2024-09-12T06:53:29.919Z"
   },
   {
    "duration": 1387,
    "start_time": "2024-09-12T06:53:29.958Z"
   },
   {
    "duration": 9,
    "start_time": "2024-09-12T06:53:31.347Z"
   },
   {
    "duration": 20,
    "start_time": "2024-09-12T06:53:31.358Z"
   },
   {
    "duration": 4,
    "start_time": "2024-09-12T06:53:31.379Z"
   },
   {
    "duration": 4,
    "start_time": "2024-09-12T06:53:31.385Z"
   },
   {
    "duration": 5,
    "start_time": "2024-09-12T06:53:31.391Z"
   },
   {
    "duration": 13,
    "start_time": "2024-09-12T06:53:31.397Z"
   },
   {
    "duration": 3,
    "start_time": "2024-09-12T06:53:31.412Z"
   },
   {
    "duration": 18,
    "start_time": "2024-09-12T06:53:31.417Z"
   },
   {
    "duration": 13,
    "start_time": "2024-09-12T06:53:31.437Z"
   },
   {
    "duration": 12,
    "start_time": "2024-09-12T06:53:31.451Z"
   },
   {
    "duration": 8,
    "start_time": "2024-09-12T06:53:31.465Z"
   },
   {
    "duration": 261,
    "start_time": "2024-09-12T07:10:33.899Z"
   },
   {
    "duration": 25,
    "start_time": "2024-09-12T07:20:00.364Z"
   },
   {
    "duration": 24,
    "start_time": "2024-09-12T07:25:28.278Z"
   },
   {
    "duration": 36,
    "start_time": "2024-09-12T07:25:47.830Z"
   },
   {
    "duration": 6523,
    "start_time": "2024-09-12T07:27:50.853Z"
   },
   {
    "duration": 23,
    "start_time": "2024-09-12T07:28:38.556Z"
   },
   {
    "duration": 6612,
    "start_time": "2024-09-12T07:29:34.427Z"
   },
   {
    "duration": 25,
    "start_time": "2024-09-12T07:31:11.722Z"
   },
   {
    "duration": 5,
    "start_time": "2024-09-12T07:31:50.642Z"
   },
   {
    "duration": 6,
    "start_time": "2024-09-12T07:31:54.705Z"
   },
   {
    "duration": 25,
    "start_time": "2024-09-12T07:38:04.141Z"
   },
   {
    "duration": 25,
    "start_time": "2024-09-12T07:41:18.290Z"
   },
   {
    "duration": 23,
    "start_time": "2024-09-12T07:42:39.721Z"
   },
   {
    "duration": 6,
    "start_time": "2024-09-12T07:43:39.288Z"
   },
   {
    "duration": 26,
    "start_time": "2024-09-12T07:45:09.270Z"
   },
   {
    "duration": 25,
    "start_time": "2024-09-12T07:45:16.135Z"
   },
   {
    "duration": 25,
    "start_time": "2024-09-12T07:45:29.582Z"
   },
   {
    "duration": 25,
    "start_time": "2024-09-12T07:46:12.254Z"
   },
   {
    "duration": 7,
    "start_time": "2024-09-12T07:46:18.461Z"
   },
   {
    "duration": 25,
    "start_time": "2024-09-12T07:46:33.534Z"
   },
   {
    "duration": 25,
    "start_time": "2024-09-12T07:47:03.886Z"
   },
   {
    "duration": 23,
    "start_time": "2024-09-12T07:47:49.973Z"
   },
   {
    "duration": 7,
    "start_time": "2024-09-12T07:48:04.444Z"
   },
   {
    "duration": 25,
    "start_time": "2024-09-12T07:51:09.442Z"
   },
   {
    "duration": 6,
    "start_time": "2024-09-12T07:51:15.234Z"
   },
   {
    "duration": 9,
    "start_time": "2024-09-12T08:00:59.258Z"
   },
   {
    "duration": 10,
    "start_time": "2024-09-12T08:01:37.137Z"
   },
   {
    "duration": 9,
    "start_time": "2024-09-12T08:03:17.256Z"
   },
   {
    "duration": 10,
    "start_time": "2024-09-12T08:03:32.448Z"
   },
   {
    "duration": 71,
    "start_time": "2024-09-12T08:03:49.767Z"
   },
   {
    "duration": 64,
    "start_time": "2024-09-12T08:04:08.848Z"
   },
   {
    "duration": 7,
    "start_time": "2024-09-12T08:04:30.631Z"
   },
   {
    "duration": 16,
    "start_time": "2024-09-12T08:05:11.006Z"
   },
   {
    "duration": 11,
    "start_time": "2024-09-12T08:05:36.623Z"
   },
   {
    "duration": 9,
    "start_time": "2024-09-12T08:07:47.124Z"
   },
   {
    "duration": 9,
    "start_time": "2024-09-12T08:08:27.692Z"
   },
   {
    "duration": 63,
    "start_time": "2024-09-12T08:09:05.467Z"
   },
   {
    "duration": 9,
    "start_time": "2024-09-12T08:09:18.690Z"
   },
   {
    "duration": 10,
    "start_time": "2024-09-12T08:10:03.570Z"
   },
   {
    "duration": 23,
    "start_time": "2024-09-12T08:11:09.896Z"
   },
   {
    "duration": 11,
    "start_time": "2024-09-12T08:11:14.265Z"
   },
   {
    "duration": 25,
    "start_time": "2024-09-12T08:13:52.318Z"
   },
   {
    "duration": 6,
    "start_time": "2024-09-12T08:14:20.007Z"
   },
   {
    "duration": 6,
    "start_time": "2024-09-12T08:14:29.079Z"
   },
   {
    "duration": 9,
    "start_time": "2024-09-12T08:31:11.736Z"
   },
   {
    "duration": 8,
    "start_time": "2024-09-12T08:31:13.032Z"
   },
   {
    "duration": 10,
    "start_time": "2024-09-12T08:31:35.168Z"
   },
   {
    "duration": 8,
    "start_time": "2024-09-12T08:35:12.493Z"
   },
   {
    "duration": 10,
    "start_time": "2024-09-12T08:35:29.820Z"
   },
   {
    "duration": 27,
    "start_time": "2024-09-12T09:02:33.200Z"
   },
   {
    "duration": 39,
    "start_time": "2024-09-12T09:03:16.821Z"
   },
   {
    "duration": 22,
    "start_time": "2024-09-12T09:04:15.333Z"
   },
   {
    "duration": 13,
    "start_time": "2024-09-12T09:04:16.341Z"
   },
   {
    "duration": 25,
    "start_time": "2024-09-12T09:05:24.894Z"
   },
   {
    "duration": 14,
    "start_time": "2024-09-12T09:05:26.341Z"
   },
   {
    "duration": 1223,
    "start_time": "2024-09-12T12:09:15.790Z"
   },
   {
    "duration": 104,
    "start_time": "2024-09-12T12:09:17.015Z"
   },
   {
    "duration": 34,
    "start_time": "2024-09-12T12:09:17.120Z"
   },
   {
    "duration": 6,
    "start_time": "2024-09-12T12:09:17.155Z"
   },
   {
    "duration": 46,
    "start_time": "2024-09-12T12:09:17.163Z"
   },
   {
    "duration": 5,
    "start_time": "2024-09-12T12:09:17.211Z"
   },
   {
    "duration": 19,
    "start_time": "2024-09-12T12:09:17.218Z"
   },
   {
    "duration": 5,
    "start_time": "2024-09-12T12:09:17.238Z"
   },
   {
    "duration": 15,
    "start_time": "2024-09-12T12:09:17.244Z"
   },
   {
    "duration": 16,
    "start_time": "2024-09-12T12:09:17.261Z"
   },
   {
    "duration": 42,
    "start_time": "2024-09-12T12:09:17.278Z"
   },
   {
    "duration": 14,
    "start_time": "2024-09-12T12:09:17.322Z"
   },
   {
    "duration": 21,
    "start_time": "2024-09-12T12:09:17.338Z"
   },
   {
    "duration": 51,
    "start_time": "2024-09-12T12:09:17.362Z"
   },
   {
    "duration": 667,
    "start_time": "2024-09-12T12:09:17.415Z"
   },
   {
    "duration": 603,
    "start_time": "2024-09-12T12:09:18.084Z"
   },
   {
    "duration": 999,
    "start_time": "2024-09-12T12:09:18.688Z"
   },
   {
    "duration": 6274,
    "start_time": "2024-09-12T12:09:19.689Z"
   },
   {
    "duration": 4,
    "start_time": "2024-09-12T12:09:25.965Z"
   },
   {
    "duration": 349,
    "start_time": "2024-09-12T12:09:25.971Z"
   },
   {
    "duration": 290,
    "start_time": "2024-09-12T12:09:26.321Z"
   },
   {
    "duration": 350,
    "start_time": "2024-09-12T12:09:26.613Z"
   },
   {
    "duration": 386,
    "start_time": "2024-09-12T12:09:26.965Z"
   },
   {
    "duration": 298,
    "start_time": "2024-09-12T12:09:27.352Z"
   },
   {
    "duration": 266,
    "start_time": "2024-09-12T12:09:27.651Z"
   },
   {
    "duration": 13,
    "start_time": "2024-09-12T12:09:27.919Z"
   },
   {
    "duration": 22,
    "start_time": "2024-09-12T12:09:27.934Z"
   },
   {
    "duration": 1463,
    "start_time": "2024-09-12T12:09:27.958Z"
   },
   {
    "duration": 9,
    "start_time": "2024-09-12T12:09:29.423Z"
   },
   {
    "duration": 12,
    "start_time": "2024-09-12T12:09:29.434Z"
   },
   {
    "duration": 30,
    "start_time": "2024-09-12T12:09:29.448Z"
   },
   {
    "duration": 18,
    "start_time": "2024-09-12T12:09:29.480Z"
   },
   {
    "duration": 8,
    "start_time": "2024-09-12T12:09:29.500Z"
   },
   {
    "duration": 18,
    "start_time": "2024-09-12T12:09:29.509Z"
   },
   {
    "duration": 74,
    "start_time": "2024-09-12T12:09:29.529Z"
   },
   {
    "duration": 21,
    "start_time": "2024-09-12T12:09:29.605Z"
   },
   {
    "duration": 13,
    "start_time": "2024-09-12T12:09:29.628Z"
   },
   {
    "duration": 7,
    "start_time": "2024-09-12T12:09:29.642Z"
   },
   {
    "duration": 12,
    "start_time": "2024-09-12T12:09:29.651Z"
   },
   {
    "duration": 7,
    "start_time": "2024-09-12T12:09:29.665Z"
   },
   {
    "duration": 33,
    "start_time": "2024-09-12T12:09:29.676Z"
   },
   {
    "duration": 26,
    "start_time": "2024-09-12T12:09:29.711Z"
   },
   {
    "duration": 10,
    "start_time": "2024-09-12T12:09:29.738Z"
   },
   {
    "duration": 7,
    "start_time": "2024-09-12T12:10:38.943Z"
   },
   {
    "duration": 1189,
    "start_time": "2024-09-12T14:30:45.290Z"
   },
   {
    "duration": 130,
    "start_time": "2024-09-12T14:30:46.481Z"
   },
   {
    "duration": 33,
    "start_time": "2024-09-12T14:30:46.613Z"
   },
   {
    "duration": 5,
    "start_time": "2024-09-12T14:30:46.647Z"
   },
   {
    "duration": 23,
    "start_time": "2024-09-12T14:30:46.654Z"
   },
   {
    "duration": 4,
    "start_time": "2024-09-12T14:30:46.678Z"
   },
   {
    "duration": 16,
    "start_time": "2024-09-12T14:30:46.684Z"
   },
   {
    "duration": 23,
    "start_time": "2024-09-12T14:30:46.702Z"
   },
   {
    "duration": 42,
    "start_time": "2024-09-12T14:30:46.727Z"
   },
   {
    "duration": 15,
    "start_time": "2024-09-12T14:30:46.771Z"
   },
   {
    "duration": 41,
    "start_time": "2024-09-12T14:30:46.788Z"
   },
   {
    "duration": 33,
    "start_time": "2024-09-12T14:30:46.830Z"
   },
   {
    "duration": 10,
    "start_time": "2024-09-12T14:30:46.865Z"
   },
   {
    "duration": 27,
    "start_time": "2024-09-12T14:30:46.878Z"
   },
   {
    "duration": 611,
    "start_time": "2024-09-12T14:30:46.907Z"
   },
   {
    "duration": 547,
    "start_time": "2024-09-12T14:30:47.520Z"
   },
   {
    "duration": 935,
    "start_time": "2024-09-12T14:30:48.068Z"
   },
   {
    "duration": 5873,
    "start_time": "2024-09-12T14:30:49.004Z"
   },
   {
    "duration": 5,
    "start_time": "2024-09-12T14:30:54.878Z"
   },
   {
    "duration": 357,
    "start_time": "2024-09-12T14:30:54.884Z"
   },
   {
    "duration": 289,
    "start_time": "2024-09-12T14:30:55.243Z"
   },
   {
    "duration": 338,
    "start_time": "2024-09-12T14:30:55.534Z"
   },
   {
    "duration": 298,
    "start_time": "2024-09-12T14:30:55.873Z"
   },
   {
    "duration": 261,
    "start_time": "2024-09-12T14:30:56.172Z"
   },
   {
    "duration": 281,
    "start_time": "2024-09-12T14:30:56.435Z"
   },
   {
    "duration": 19,
    "start_time": "2024-09-12T14:30:56.718Z"
   },
   {
    "duration": 42,
    "start_time": "2024-09-12T14:30:56.739Z"
   },
   {
    "duration": 1342,
    "start_time": "2024-09-12T14:30:56.783Z"
   },
   {
    "duration": 10,
    "start_time": "2024-09-12T14:30:58.127Z"
   },
   {
    "duration": 9,
    "start_time": "2024-09-12T14:30:58.139Z"
   },
   {
    "duration": 6,
    "start_time": "2024-09-12T14:30:58.150Z"
   },
   {
    "duration": 5,
    "start_time": "2024-09-12T14:30:58.157Z"
   },
   {
    "duration": 6,
    "start_time": "2024-09-12T14:30:58.163Z"
   },
   {
    "duration": 14,
    "start_time": "2024-09-12T14:30:58.170Z"
   },
   {
    "duration": 41,
    "start_time": "2024-09-12T14:30:58.186Z"
   },
   {
    "duration": 10,
    "start_time": "2024-09-12T14:30:58.229Z"
   },
   {
    "duration": 12,
    "start_time": "2024-09-12T14:30:58.241Z"
   },
   {
    "duration": 7,
    "start_time": "2024-09-12T14:30:58.254Z"
   },
   {
    "duration": 11,
    "start_time": "2024-09-12T14:30:58.263Z"
   },
   {
    "duration": 7,
    "start_time": "2024-09-12T14:30:58.276Z"
   },
   {
    "duration": 44,
    "start_time": "2024-09-12T14:30:58.286Z"
   },
   {
    "duration": 8,
    "start_time": "2024-09-12T14:30:58.331Z"
   },
   {
    "duration": 10,
    "start_time": "2024-09-12T14:30:58.340Z"
   },
   {
    "duration": 1545,
    "start_time": "2024-09-13T09:06:05.737Z"
   },
   {
    "duration": 271,
    "start_time": "2024-09-13T09:06:07.284Z"
   },
   {
    "duration": 39,
    "start_time": "2024-09-13T09:06:07.557Z"
   },
   {
    "duration": 10,
    "start_time": "2024-09-13T09:06:07.599Z"
   },
   {
    "duration": 48,
    "start_time": "2024-09-13T09:06:07.611Z"
   },
   {
    "duration": 4,
    "start_time": "2024-09-13T09:06:07.661Z"
   },
   {
    "duration": 16,
    "start_time": "2024-09-13T09:06:07.667Z"
   },
   {
    "duration": 5,
    "start_time": "2024-09-13T09:06:07.684Z"
   },
   {
    "duration": 18,
    "start_time": "2024-09-13T09:06:07.690Z"
   },
   {
    "duration": 23,
    "start_time": "2024-09-13T09:06:07.718Z"
   },
   {
    "duration": 21,
    "start_time": "2024-09-13T09:06:07.743Z"
   },
   {
    "duration": 13,
    "start_time": "2024-09-13T09:06:07.766Z"
   },
   {
    "duration": 80,
    "start_time": "2024-09-13T09:06:07.781Z"
   },
   {
    "duration": 33,
    "start_time": "2024-09-13T09:06:07.862Z"
   },
   {
    "duration": 747,
    "start_time": "2024-09-13T09:06:07.897Z"
   },
   {
    "duration": 682,
    "start_time": "2024-09-13T09:06:08.645Z"
   },
   {
    "duration": 1104,
    "start_time": "2024-09-13T09:06:09.330Z"
   },
   {
    "duration": 8213,
    "start_time": "2024-09-13T09:06:10.440Z"
   },
   {
    "duration": 4,
    "start_time": "2024-09-13T09:06:18.655Z"
   },
   {
    "duration": 434,
    "start_time": "2024-09-13T09:06:18.661Z"
   },
   {
    "duration": 305,
    "start_time": "2024-09-13T09:06:19.097Z"
   },
   {
    "duration": 373,
    "start_time": "2024-09-13T09:06:19.406Z"
   },
   {
    "duration": 366,
    "start_time": "2024-09-13T09:06:19.780Z"
   },
   {
    "duration": 298,
    "start_time": "2024-09-13T09:06:20.147Z"
   },
   {
    "duration": 285,
    "start_time": "2024-09-13T09:06:20.447Z"
   },
   {
    "duration": 14,
    "start_time": "2024-09-13T09:06:20.739Z"
   },
   {
    "duration": 34,
    "start_time": "2024-09-13T09:06:20.755Z"
   },
   {
    "duration": 1549,
    "start_time": "2024-09-13T09:06:20.793Z"
   },
   {
    "duration": 10,
    "start_time": "2024-09-13T09:06:22.344Z"
   },
   {
    "duration": 35,
    "start_time": "2024-09-13T09:06:22.356Z"
   },
   {
    "duration": 10,
    "start_time": "2024-09-13T09:06:22.393Z"
   },
   {
    "duration": 15,
    "start_time": "2024-09-13T09:06:22.409Z"
   },
   {
    "duration": 12,
    "start_time": "2024-09-13T09:06:22.425Z"
   },
   {
    "duration": 13,
    "start_time": "2024-09-13T09:06:22.438Z"
   },
   {
    "duration": 4,
    "start_time": "2024-09-13T09:06:22.453Z"
   },
   {
    "duration": 10,
    "start_time": "2024-09-13T09:06:22.459Z"
   },
   {
    "duration": 15,
    "start_time": "2024-09-13T09:06:22.471Z"
   },
   {
    "duration": 41,
    "start_time": "2024-09-13T09:06:22.487Z"
   },
   {
    "duration": 10,
    "start_time": "2024-09-13T09:06:22.535Z"
   },
   {
    "duration": 80,
    "start_time": "2024-09-13T09:06:22.547Z"
   },
   {
    "duration": 14,
    "start_time": "2024-09-13T09:06:22.629Z"
   },
   {
    "duration": 12,
    "start_time": "2024-09-13T09:06:22.645Z"
   },
   {
    "duration": 30,
    "start_time": "2024-09-13T09:06:22.659Z"
   },
   {
    "duration": 77,
    "start_time": "2024-09-14T14:17:42.752Z"
   },
   {
    "duration": 1445,
    "start_time": "2024-09-14T14:18:34.790Z"
   },
   {
    "duration": 113,
    "start_time": "2024-09-14T14:18:36.237Z"
   },
   {
    "duration": 35,
    "start_time": "2024-09-14T14:18:36.351Z"
   },
   {
    "duration": 6,
    "start_time": "2024-09-14T14:18:36.388Z"
   },
   {
    "duration": 41,
    "start_time": "2024-09-14T14:18:36.396Z"
   },
   {
    "duration": 18,
    "start_time": "2024-09-14T14:18:36.438Z"
   },
   {
    "duration": 7,
    "start_time": "2024-09-14T14:18:36.457Z"
   },
   {
    "duration": 25,
    "start_time": "2024-09-14T14:18:36.466Z"
   },
   {
    "duration": 34,
    "start_time": "2024-09-14T14:18:36.493Z"
   },
   {
    "duration": 53,
    "start_time": "2024-09-14T14:18:36.529Z"
   },
   {
    "duration": 34,
    "start_time": "2024-09-14T14:18:36.584Z"
   },
   {
    "duration": 14,
    "start_time": "2024-09-14T14:18:36.620Z"
   },
   {
    "duration": 33,
    "start_time": "2024-09-14T14:18:36.635Z"
   },
   {
    "duration": 35,
    "start_time": "2024-09-14T14:18:36.672Z"
   },
   {
    "duration": 672,
    "start_time": "2024-09-14T14:18:36.709Z"
   },
   {
    "duration": 627,
    "start_time": "2024-09-14T14:18:37.382Z"
   },
   {
    "duration": 1015,
    "start_time": "2024-09-14T14:18:38.010Z"
   },
   {
    "duration": 6341,
    "start_time": "2024-09-14T14:18:39.026Z"
   },
   {
    "duration": 5,
    "start_time": "2024-09-14T14:18:45.369Z"
   },
   {
    "duration": 342,
    "start_time": "2024-09-14T14:18:45.375Z"
   },
   {
    "duration": 314,
    "start_time": "2024-09-14T14:18:45.719Z"
   },
   {
    "duration": 363,
    "start_time": "2024-09-14T14:18:46.034Z"
   },
   {
    "duration": 310,
    "start_time": "2024-09-14T14:18:46.399Z"
   },
   {
    "duration": 291,
    "start_time": "2024-09-14T14:18:46.711Z"
   },
   {
    "duration": 289,
    "start_time": "2024-09-14T14:18:47.004Z"
   },
   {
    "duration": 14,
    "start_time": "2024-09-14T14:18:47.295Z"
   },
   {
    "duration": 23,
    "start_time": "2024-09-14T14:18:47.311Z"
   },
   {
    "duration": 1450,
    "start_time": "2024-09-14T14:18:47.336Z"
   },
   {
    "duration": 9,
    "start_time": "2024-09-14T14:18:48.788Z"
   },
   {
    "duration": 5,
    "start_time": "2024-09-14T14:18:48.799Z"
   },
   {
    "duration": 12,
    "start_time": "2024-09-14T14:18:48.806Z"
   },
   {
    "duration": 6,
    "start_time": "2024-09-14T14:18:48.820Z"
   },
   {
    "duration": 29,
    "start_time": "2024-09-14T14:18:48.828Z"
   },
   {
    "duration": 18,
    "start_time": "2024-09-14T14:18:48.859Z"
   },
   {
    "duration": 9,
    "start_time": "2024-09-14T14:18:48.879Z"
   },
   {
    "duration": 10,
    "start_time": "2024-09-14T14:18:48.889Z"
   },
   {
    "duration": 29,
    "start_time": "2024-09-14T14:18:48.901Z"
   },
   {
    "duration": 23,
    "start_time": "2024-09-14T14:18:48.933Z"
   },
   {
    "duration": 15,
    "start_time": "2024-09-14T14:18:48.958Z"
   },
   {
    "duration": 8,
    "start_time": "2024-09-14T14:18:48.974Z"
   },
   {
    "duration": 11,
    "start_time": "2024-09-14T14:18:48.987Z"
   },
   {
    "duration": 8,
    "start_time": "2024-09-14T14:18:48.999Z"
   },
   {
    "duration": 50,
    "start_time": "2024-09-14T14:18:49.008Z"
   }
  ],
  "kernelspec": {
   "display_name": "Python 3 (ipykernel)",
   "language": "python",
   "name": "python3"
  },
  "language_info": {
   "codemirror_mode": {
    "name": "ipython",
    "version": 3
   },
   "file_extension": ".py",
   "mimetype": "text/x-python",
   "name": "python",
   "nbconvert_exporter": "python",
   "pygments_lexer": "ipython3",
   "version": "3.9.18"
  },
  "toc": {
   "base_numbering": 1,
   "nav_menu": {},
   "number_sections": true,
   "sideBar": true,
   "skip_h1_title": true,
   "title_cell": "Table of Contents",
   "title_sidebar": "Contents",
   "toc_cell": false,
   "toc_position": {
    "height": "calc(100% - 180px)",
    "left": "10px",
    "top": "150px",
    "width": "262.788px"
   },
   "toc_section_display": true,
   "toc_window_display": true
  }
 },
 "nbformat": 4,
 "nbformat_minor": 2
}
